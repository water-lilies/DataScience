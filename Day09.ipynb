{
  "nbformat": 4,
  "nbformat_minor": 0,
  "metadata": {
    "colab": {
      "name": "Day09.ipynb",
      "provenance": [],
      "collapsed_sections": [],
      "include_colab_link": true
    },
    "kernelspec": {
      "name": "python3",
      "display_name": "Python 3"
    }
  },
  "cells": [
    {
      "cell_type": "markdown",
      "metadata": {
        "id": "view-in-github",
        "colab_type": "text"
      },
      "source": [
        "<a href=\"https://colab.research.google.com/github/water-lilies/DataScience/blob/master/Day09.ipynb\" target=\"_parent\"><img src=\"https://colab.research.google.com/assets/colab-badge.svg\" alt=\"Open In Colab\"/></a>"
      ]
    },
    {
      "cell_type": "markdown",
      "metadata": {
        "id": "psY4UyZFf24v",
        "colab_type": "text"
      },
      "source": [
        "2019.12.19"
      ]
    },
    {
      "cell_type": "markdown",
      "metadata": {
        "id": "0yV1S0cQgiIW",
        "colab_type": "text"
      },
      "source": [
        "### 8일차 리뷰"
      ]
    },
    {
      "cell_type": "code",
      "metadata": {
        "id": "doIdA90Pfxnn",
        "colab_type": "code",
        "colab": {}
      },
      "source": [
        "re 모듈\n",
        "- 정규표현식을 지원\n",
        "\n",
        "정규 표현식 패턴에 일치하는 문자열을 검색\n",
        "- findall\n",
        "- match\n",
        "- search\n",
        "\n",
        "pandas의 Series 객체에는 문자열에 대한 간결하게 처리 메소드 지원\n",
        "- Series 객체.str속성의 메서드\n",
        "\n",
        "MultiIndex\n",
        "- 2개 이상의  level을 가지는 인덱스\n",
        "\n",
        "2개 이상의 level을 가지는 Series객체의 Index를 이용하여 데이터를 재배열해주는 메소드\n",
        "- unstack\n",
        "\n",
        "재배열된 데이터구조를 2개이상의 level을 가지는 Series객체로 변환\n",
        "- stack\n",
        "\n",
        "2개 이상의 level을 가지는 Series객체\n",
        "- swaplevel()\n",
        "\n",
        "데이터프레임의 기본정보(클래스 유형, 행 인덱스 구성, 열 이름의 종류와 개수, 각 열의 자료형과 개수, 메모리할당량) 제공\n",
        "- info()\n",
        "\n",
        "기본기술통계요약 (데이터프레임의 열에 대한 평균, 표준편차, 최소값, 최대값, 중앙값, 1/4분위수, )\n",
        "- decribe()\n",
        "\n",
        "빈도수\n",
        "- value_counts()\n",
        "- freq()\n",
        "- top()\n"
      ],
      "execution_count": 0,
      "outputs": []
    },
    {
      "cell_type": "code",
      "metadata": {
        "id": "71Dm7AYwlhcy",
        "colab_type": "code",
        "colab": {}
      },
      "source": [
        "pandas 기본 내장 시각화 도구\n",
        "- 데이터 프레임 객체.plot(kind = )\n",
        "\n",
        "2D 평면 그래프에 관한 다양한 포멧과 기능 지원\n",
        "- matplotlib 라이브러리\n",
        "\n",
        "matplotlib.pyplot.plot() \n",
        "- line chart가 기본\n",
        "- 점으로 그래프 표현하려면 두번째 인수로 'o' 를 지정하면 된다.\n",
        "\n",
        "  제목 - title()\n",
        "  축이름 - xlabel(), ylabel()\n",
        "  그래프 객체 (그래프의 size 지정 또는 그래프 분할) - figure()\n",
        "  figure()로 생성된 그래프 객체에 분할 영역을 생성(지정, 추가) - add_subplot()\n",
        "  눈금 - xticks()\n",
        "  축 범위 - xlim(), ylim()\n",
        "  annotate() - 그래프에 여러 형태의 설명을 추가하기 위해 사용\n",
        "  범례 - legend()\n",
        "  sub plot 객체 = add_subplot()\n",
        "  sub plot 객체.set_title()\n",
        "  sub plot 객체.set_xlim()\n",
        "\n",
        "\n",
        "그래프 꾸미기 옵션\n",
        "- markerfacecolor\n",
        "- color : 선 색깔 지정\n",
        "- linewidth\n",
        "- label\n",
        "\n",
        "\n",
        "데이터를 일정 구간으로 나눠서 분석하기 위해\n",
        "cut(data객체, bins=경계값객체 | 구간개수, label = , include_lower = ) \n",
        ": 데이터를 일정 구간으로 나누기 위해 사용하는 함수\n",
        "\n",
        "\n",
        "숫자 데이터의 상대적인 크기에 대한 차이를 제거할 경우 \n",
        "- 열에 속하는 데이터 값을 동일한 크기 기준으로 나눈 비율로 변환 => 정규화\n",
        "비율로 변환하는 정규화 결과 데이터 범위 : 0~1 또는 -1~1 범위의 값이 된다.\n",
        "비율로 변환하는 방법? \n",
        "  (1) 열의 최대값으로 나누는 방법 \n",
        "  (2) 최대값 - 최소값으로 나누는 방법\n",
        "\n",
        "\n",
        "범주형 척도(변수) #명목척도\n",
        "  : 빈도수 비율 분석이 의미가 있음\n",
        "  예) 성별, 혈액형 \n",
        "\n",
        "서열척도(변수) #순위척도\n",
        "  : 순서가 있는 데이터\n",
        "  예) 학년\n",
        "\n",
        "등간척도(변수)\n",
        "  : 구간으로 나눠진 데이터. 절대원점(0)은 없고, 덧셈 뺄셈 연산 가능\n",
        "  예) 만족도(매우만족/만족/보통/불만족/매우불만족)\n",
        "\n",
        "비율척도(연속형변수)\n",
        "  : 절대원점(0)이 존재하고, 산술연산 가능\n",
        "\n",
        "\n",
        " Dummy 변수 변환\n",
        " - 어떤 특성이 있는지 없는지 여부만 표시하는 데이터 변환\n",
        " get_dummies() \n",
        "  : one hot encoding - 0 과 1 값의 벡터 변환 "
      ],
      "execution_count": 0,
      "outputs": []
    },
    {
      "cell_type": "code",
      "metadata": {
        "id": "SDQ-hQtYsBON",
        "colab_type": "code",
        "colab": {}
      },
      "source": [
        "하나 이상의 키를 기준으로 dataframe 객체 병합\n",
        "기본 병합방식은 교집합(inner join)\n",
        "- merge(df1, df2)\n",
        "- merge(df1, df2, on = #명시적으로 기준이 될 컬럼을 적어줌\n",
        "                  right_on = \n",
        "                  left_on = \n",
        "                  how = right #오른쪽에 있는 것만 결과집합으로 가져옴\n",
        "                      | left  #왼쪽에 있는 것만 결과집합으로 가져옴\n",
        "                      | outer #,\n",
        "                  left_index = True )\n",
        "\n",
        "join() \n",
        "- 두 데이터 프레임에서 행인덱스로 데이터 병합. left join이 기본값"
      ],
      "execution_count": 0,
      "outputs": []
    }
  ]
}