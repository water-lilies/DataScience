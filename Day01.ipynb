{
  "nbformat": 4,
  "nbformat_minor": 0,
  "metadata": {
    "colab": {
      "name": "Day01",
      "provenance": [],
      "collapsed_sections": [],
      "include_colab_link": true
    },
    "kernelspec": {
      "name": "python3",
      "display_name": "Python 3"
    }
  },
  "cells": [
    {
      "cell_type": "markdown",
      "metadata": {
        "id": "view-in-github",
        "colab_type": "text"
      },
      "source": [
        "<a href=\"https://colab.research.google.com/github/water-lilies/DataScience/blob/master/Day01.ipynb\" target=\"_parent\"><img src=\"https://colab.research.google.com/assets/colab-badge.svg\" alt=\"Open In Colab\"/></a>"
      ]
    },
    {
      "cell_type": "markdown",
      "metadata": {
        "id": "84al0VF2dAsG",
        "colab_type": "text"
      },
      "source": [
        "**2019.12.09 1일차**\n",
        "\n",
        "http://10.5.4.100:8080/python.html\n",
        "\n",
        "수업 자료 링크\n",
        "\n"
      ]
    },
    {
      "cell_type": "markdown",
      "metadata": {
        "id": "YEtn5vfp1rqx",
        "colab_type": "text"
      },
      "source": [
        " 파이썬은 인터프리터 언어!\n",
        " (컴파일러 언어와 차이점 얘기하고 지나갔음)\n",
        "\n",
        "> interpreter language\n",
        "\n",
        "- 번역기보다는 해석기. 프로그램 코드를 기계어(어샘블리어)로 컴파일 할 필요 없이 선언문을 런타임에 직접 실행하는 컴퓨터 '프로그램' 또는 '환경'\n",
        " \n",
        "- 코드를 한줄 한줄 읽어가며 명령을 처리. 한줄이 바뀔 때 마다 즉시 검사.\n",
        "\n",
        "- R 이나  Python 이 대표적.\n",
        "\n",
        "- 실행 속도가 컴파일러에 비해 느리다. (번역 속도는 빠름)\n",
        "\n",
        "- 명령을 잘못 입력하면 바로 수정할 수 있는 장점\n",
        "\n",
        "\n",
        "> compiler language\n",
        "\n",
        "- 프로그램 언어를 기계어로 바꾸어 주는 번역기\n",
        "\n",
        "- 명령어들을 몽땅 모아놓고 한번에 실행. 컴파일 시점은 런타임 전.\n",
        "\n",
        "- 메모리를 많이 차지 한다.\n",
        "\n",
        "- 처음에 컴파일 과정이 오래걸릴 수 있지만(초기 실행속도가 느림), 컴파일 이후에는 실행이 빠르고 더이상 변환하지 않아도 되기 때문에 효율적.\n",
        "\n",
        "- C C++ 이 대표적\n",
        "\n",
        "- 반복작업에 강하다.\n",
        "\n",
        "---\n",
        "\n"
      ]
    },
    {
      "cell_type": "markdown",
      "metadata": {
        "id": "uATnRUBZMOzY",
        "colab_type": "text"
      },
      "source": [
        "### 02. 변수와 자료형"
      ]
    },
    {
      "cell_type": "code",
      "metadata": {
        "id": "9m485M5g6X5w",
        "colab_type": "code",
        "colab": {}
      },
      "source": [
        "data = 9.0\n",
        "type(data) # float\n",
        "print(data) # 9.0"
      ],
      "execution_count": 0,
      "outputs": []
    },
    {
      "cell_type": "code",
      "metadata": {
        "id": "fZEW6iXD6eMX",
        "colab_type": "code",
        "colab": {}
      },
      "source": [
        "data='hello'\n",
        "type(data) # str\n",
        "print(data) # hello"
      ],
      "execution_count": 0,
      "outputs": []
    },
    {
      "cell_type": "code",
      "metadata": {
        "id": "olnAXU0q6d9B",
        "colab_type": "code",
        "colab": {}
      },
      "source": [
        "data=False\n",
        "type(data) # bool\n",
        "print(data) # False"
      ],
      "execution_count": 0,
      "outputs": []
    },
    {
      "cell_type": "code",
      "metadata": {
        "id": "YuXraV1c-zKC",
        "colab_type": "code",
        "colab": {}
      },
      "source": [
        "a = 10.5\n",
        "result = bool(a)\n",
        "print(result)"
      ],
      "execution_count": 0,
      "outputs": []
    },
    {
      "cell_type": "code",
      "metadata": {
        "id": "BeIsja_R-7Zw",
        "colab_type": "code",
        "colab": {}
      },
      "source": [
        "print(\" \"==False) # False\n",
        "print(\"\"==False) # False"
      ],
      "execution_count": 0,
      "outputs": []
    },
    {
      "cell_type": "code",
      "metadata": {
        "id": "OWOGrfpA_r9Z",
        "colab_type": "code",
        "colab": {}
      },
      "source": [
        "a = '76.3'\n",
        "b = float(a)\n",
        "print(a+b)\n",
        "# 오류! type이 달라서 덧셈이 안됨"
      ],
      "execution_count": 0,
      "outputs": []
    },
    {
      "cell_type": "code",
      "metadata": {
        "id": "E7dyXPJa_6kB",
        "colab_type": "code",
        "colab": {}
      },
      "source": [
        "a = float(76.3)\n",
        "b = a\n",
        "print(a+b)"
      ],
      "execution_count": 0,
      "outputs": []
    },
    {
      "cell_type": "markdown",
      "metadata": {
        "id": "q5YL7J0zMGCy",
        "colab_type": "text"
      },
      "source": [
        "### 03. 화면 입출력과 리스트"
      ]
    },
    {
      "cell_type": "code",
      "metadata": {
        "id": "V7TB7QULCyY4",
        "colab_type": "code",
        "colab": {}
      },
      "source": [
        "print('이름을 입력하세요')\n",
        "somebody = input()\n",
        "print('안녕하세요? ' , somebody , '님, 반갑습니다.' )"
      ],
      "execution_count": 0,
      "outputs": []
    },
    {
      "cell_type": "code",
      "metadata": {
        "id": "2_a6LAlGIFP5",
        "colab_type": "code",
        "colab": {}
      },
      "source": [
        "print('본 프로그램은 섭씨온도를 화씨온도로 변환하는 프로그램입니다.')\n",
        "C = int(input('변환하고 싶은 섭씨 온도를 입력하세요. '))\n",
        "F = (C*1.8)+32 \n",
        "print('섭씨온도: ' , C)\n",
        "print('화씨온도: ' , F)\n",
        "\n",
        "# print 에서 + 이 안되는 이유 ==> 같은 형 끼리만 덧셈이 되기때문. str은 str끼리, int는 int끼리"
      ],
      "execution_count": 0,
      "outputs": []
    },
    {
      "cell_type": "code",
      "metadata": {
        "id": "-UJoiqpRLDSR",
        "colab_type": "code",
        "colab": {}
      },
      "source": [
        "colors = ['red','blue','green']\n",
        "print(colors[0])\n",
        "print(len(colors)) # 3\n",
        "\n",
        "# [0] [1] [2] 이런건 인덱스라고 함\n",
        "# 다른 프로그래밍언어에서는 배열이라고 함\n",
        "\n",
        "# 변수의 주소값이 0부터 시작하는 이유? 이진수관점에서 메모리를 절약할 수 있기 때문! \n",
        "# 지금은 큰 문제가 되지 않지만, 초기 컴퓨터들은 메모리 절약이 매우 큰 이슈였기 때문에 중요했다."
      ],
      "execution_count": 0,
      "outputs": []
    },
    {
      "cell_type": "code",
      "metadata": {
        "id": "3p7K-rzsMptx",
        "colab_type": "code",
        "colab": {}
      },
      "source": [
        "# 리스트에는 인덱스를 마지막값부터 시작하는 \"리버스 인덱스\" 기능이 있다.\n",
        "\n",
        "# 값 ['서울','부산','인천','대구','대전','광주','울산','수원']\n",
        "# 인덱스 -8   -7     -6     -5      -4     -3     -2     -1"
      ],
      "execution_count": 0,
      "outputs": []
    },
    {
      "cell_type": "markdown",
      "metadata": {
        "id": "JCZAHR_Okxkk",
        "colab_type": "text"
      },
      "source": [
        "### 04. 조건문과 반복문"
      ]
    },
    {
      "cell_type": "code",
      "metadata": {
        "id": "Tj8kkcJzkzsn",
        "colab_type": "code",
        "colab": {}
      },
      "source": [
        "print(\"Tell me your age?\")\n",
        "myAge = int(input())\n",
        "if myAge < 30 :\n",
        "  print(\"Welcome to the Club.\")\n",
        "else:\n",
        "  print(\"Oh! No. You are not acceped.\")"
      ],
      "execution_count": 0,
      "outputs": []
    },
    {
      "cell_type": "code",
      "metadata": {
        "id": "WZEwBVeTofV-",
        "colab_type": "code",
        "colab": {}
      },
      "source": [
        "print(\"당신이 태어난 연도를 입력하세요.\")\n",
        "birthYear = int(input())\n",
        "age = 2020 - birthYear + 1\n",
        "if 20 <= age <= 26:\n",
        "  print('대학생')\n",
        "elif 17 <= age < 20:\n",
        "  print('고등학생')\n",
        "elif 14 <= age < 17:\n",
        "  print('중학생')\n",
        "elif 8 <= age < 14:\n",
        "  print('초등학생')\n",
        "else:\n",
        "  print('학생이 아닙니다.')"
      ],
      "execution_count": 0,
      "outputs": []
    },
    {
      "cell_type": "code",
      "metadata": {
        "id": "Ev7kJGBvuvuW",
        "colab_type": "code",
        "colab": {}
      },
      "source": [
        "for i in range(1,11,2):\n",
        "  print(i) # 홀수 출력 1 3 5 7 9"
      ],
      "execution_count": 0,
      "outputs": []
    },
    {
      "cell_type": "code",
      "metadata": {
        "id": "Vhv3PPK5vZlE",
        "colab_type": "code",
        "colab": {}
      },
      "source": [
        "for i in range(1,11,2):\n",
        "  print(i+1) # 짝수 출력 2 4 6 8 10"
      ],
      "execution_count": 0,
      "outputs": []
    },
    {
      "cell_type": "code",
      "metadata": {
        "id": "JAz1fOF_vPF0",
        "colab_type": "code",
        "colab": {}
      },
      "source": [
        "for i in range(2,11,2):\n",
        "  print(i) # 짝수 출력 2 4 6 8 10"
      ],
      "execution_count": 0,
      "outputs": []
    },
    {
      "cell_type": "code",
      "metadata": {
        "id": "P1sMXyqEyVjl",
        "colab_type": "code",
        "outputId": "67dd2a14-cfc7-4cf2-b094-2d29807f5478",
        "colab": {
          "base_uri": "https://localhost:8080/",
          "height": 107
        }
      },
      "source": [
        " for i in range(10):\n",
        "   if(i==5): break\n",
        "   print(i)\n",
        "else:\n",
        "  print(\"End of Loop\")"
      ],
      "execution_count": 0,
      "outputs": [
        {
          "output_type": "stream",
          "text": [
            "0\n",
            "1\n",
            "2\n",
            "3\n",
            "4\n"
          ],
          "name": "stdout"
        }
      ]
    },
    {
      "cell_type": "code",
      "metadata": {
        "id": "bs0VW8-uyrxG",
        "colab_type": "code",
        "outputId": "f9430f5d-0039-478d-bfd6-bc0fab9b6aa1",
        "colab": {
          "base_uri": "https://localhost:8080/",
          "height": 215
        }
      },
      "source": [
        "print()\n",
        "for i in range(10):\n",
        "  if(i==5): continue\n",
        "  print(i)\n",
        "else:\n",
        "  print(\"End of Loop\")"
      ],
      "execution_count": 0,
      "outputs": [
        {
          "output_type": "stream",
          "text": [
            "\n",
            "0\n",
            "1\n",
            "2\n",
            "3\n",
            "4\n",
            "6\n",
            "7\n",
            "8\n",
            "9\n",
            "End of Loop\n"
          ],
          "name": "stdout"
        }
      ]
    },
    {
      "cell_type": "code",
      "metadata": {
        "id": "4Bub7wDZy5um",
        "colab_type": "code",
        "colab": {}
      },
      "source": [
        "# while 반복문에서 else는 함께 사용 가능할까요?\n",
        "# while 반복문에서 else가 함께 사용가능하면 위의 for문에서의 결과와 동일하게 처리될까요?"
      ],
      "execution_count": 0,
      "outputs": []
    },
    {
      "cell_type": "code",
      "metadata": {
        "id": "gtn_GWkA3GBG",
        "colab_type": "code",
        "outputId": "39307595-a66a-466e-ff44-6222039c374a",
        "colab": {
          "base_uri": "https://localhost:8080/",
          "height": 233
        }
      },
      "source": [
        "print(\"구구단 몇 단을 계산할까?\")\n",
        "dan = int(input())\n",
        "print(\"구구단 \",dan,\"단을 계산한다.\")\n",
        "for i in range(1,10):\n",
        "  result=dan*i\n",
        "  print(dan,\"x\",i,\"=\",result)"
      ],
      "execution_count": 0,
      "outputs": [
        {
          "output_type": "stream",
          "text": [
            "구구단 몇 단을 계산할까?\n",
            "5\n",
            "구구단  5 단을 계산한다.\n",
            "5 x 1 = 5\n",
            "5 x 2 = 10\n",
            "5 x 3 = 15\n",
            "5 x 4 = 20\n",
            "5 x 5 = 25\n",
            "5 x 6 = 30\n",
            "5 x 7 = 35\n",
            "5 x 8 = 40\n",
            "5 x 9 = 45\n"
          ],
          "name": "stdout"
        }
      ]
    },
    {
      "cell_type": "code",
      "metadata": {
        "id": "Rp-LupwqgtnZ",
        "colab_type": "code",
        "outputId": "eed23637-03ba-4285-f52b-79d9fa83af5b",
        "colab": {
          "base_uri": "https://localhost:8080/",
          "height": 179
        }
      },
      "source": [
        "for num in range(1,10):\n",
        "  for dan in range(2,10):\n",
        "    gugu=\"{0} X {1} = {2}\".format(num,dan,(num*dan))\n",
        "    print(gugu, end=\" \")\n",
        "  print()"
      ],
      "execution_count": 0,
      "outputs": [
        {
          "output_type": "stream",
          "text": [
            "1 X 2 = 2 1 X 3 = 3 1 X 4 = 4 1 X 5 = 5 1 X 6 = 6 1 X 7 = 7 1 X 8 = 8 1 X 9 = 9 \n",
            "2 X 2 = 4 2 X 3 = 6 2 X 4 = 8 2 X 5 = 10 2 X 6 = 12 2 X 7 = 14 2 X 8 = 16 2 X 9 = 18 \n",
            "3 X 2 = 6 3 X 3 = 9 3 X 4 = 12 3 X 5 = 15 3 X 6 = 18 3 X 7 = 21 3 X 8 = 24 3 X 9 = 27 \n",
            "4 X 2 = 8 4 X 3 = 12 4 X 4 = 16 4 X 5 = 20 4 X 6 = 24 4 X 7 = 28 4 X 8 = 32 4 X 9 = 36 \n",
            "5 X 2 = 10 5 X 3 = 15 5 X 4 = 20 5 X 5 = 25 5 X 6 = 30 5 X 7 = 35 5 X 8 = 40 5 X 9 = 45 \n",
            "6 X 2 = 12 6 X 3 = 18 6 X 4 = 24 6 X 5 = 30 6 X 6 = 36 6 X 7 = 42 6 X 8 = 48 6 X 9 = 54 \n",
            "7 X 2 = 14 7 X 3 = 21 7 X 4 = 28 7 X 5 = 35 7 X 6 = 42 7 X 7 = 49 7 X 8 = 56 7 X 9 = 63 \n",
            "8 X 2 = 16 8 X 3 = 24 8 X 4 = 32 8 X 5 = 40 8 X 6 = 48 8 X 7 = 56 8 X 8 = 64 8 X 9 = 72 \n",
            "9 X 2 = 18 9 X 3 = 27 9 X 4 = 36 9 X 5 = 45 9 X 6 = 54 9 X 7 = 63 9 X 8 = 72 9 X 9 = 81 \n"
          ],
          "name": "stdout"
        }
      ]
    },
    {
      "cell_type": "code",
      "metadata": {
        "id": "RfER1uE5K5hu",
        "colab_type": "code",
        "outputId": "53f50086-6b40-41fd-d706-5fb6ac3315dd",
        "colab": {
          "base_uri": "https://localhost:8080/",
          "height": 35
        }
      },
      "source": [
        "a = 8.8\n",
        "b = 2\n",
        "print(a // b)"
      ],
      "execution_count": 0,
      "outputs": [
        {
          "output_type": "stream",
          "text": [
            "4.0\n"
          ],
          "name": "stdout"
        }
      ]
    },
    {
      "cell_type": "code",
      "metadata": {
        "id": "VZe-7NixK7kL",
        "colab_type": "code",
        "outputId": "6f4c5a5f-261f-47f7-d2e1-7c6b536f855b",
        "colab": {
          "base_uri": "https://localhost:8080/",
          "height": 35
        }
      },
      "source": [
        "a = 777\n",
        "b = 777\n",
        "print(a == b, a is b)"
      ],
      "execution_count": 0,
      "outputs": [
        {
          "output_type": "stream",
          "text": [
            "True False\n"
          ],
          "name": "stdout"
        }
      ]
    },
    {
      "cell_type": "code",
      "metadata": {
        "id": "E9ghrnAlLFMC",
        "colab_type": "code",
        "outputId": "1749b38a-208c-4e23-9859-aff621db1f92",
        "colab": {
          "base_uri": "https://localhost:8080/",
          "height": 53
        }
      },
      "source": [
        "a = 10.6\n",
        "b = 10.5\n",
        "print(a * b)\n",
        "\n",
        "type(a + b)"
      ],
      "execution_count": 0,
      "outputs": [
        {
          "output_type": "stream",
          "text": [
            "111.3\n"
          ],
          "name": "stdout"
        },
        {
          "output_type": "execute_result",
          "data": {
            "text/plain": [
              "float"
            ]
          },
          "metadata": {
            "tags": []
          },
          "execution_count": 6
        }
      ]
    },
    {
      "cell_type": "code",
      "metadata": {
        "id": "KmGbNMIoQAu8",
        "colab_type": "code",
        "outputId": "b5e69e95-34ae-4592-fcf5-c578a626aed0",
        "colab": {
          "base_uri": "https://localhost:8080/",
          "height": 204
        }
      },
      "source": [
        "a = '20'\n",
        "b = '4'\n",
        "print(type(float(a / b)))"
      ],
      "execution_count": 0,
      "outputs": [
        {
          "output_type": "error",
          "ename": "TypeError",
          "evalue": "ignored",
          "traceback": [
            "\u001b[0;31m---------------------------------------------------------------------------\u001b[0m",
            "\u001b[0;31mTypeError\u001b[0m                                 Traceback (most recent call last)",
            "\u001b[0;32m<ipython-input-1-dc0d4babaf79>\u001b[0m in \u001b[0;36m<module>\u001b[0;34m()\u001b[0m\n\u001b[1;32m      1\u001b[0m \u001b[0ma\u001b[0m \u001b[0;34m=\u001b[0m \u001b[0;34m'20'\u001b[0m\u001b[0;34m\u001b[0m\u001b[0;34m\u001b[0m\u001b[0m\n\u001b[1;32m      2\u001b[0m \u001b[0mb\u001b[0m \u001b[0;34m=\u001b[0m \u001b[0;34m'4'\u001b[0m\u001b[0;34m\u001b[0m\u001b[0;34m\u001b[0m\u001b[0m\n\u001b[0;32m----> 3\u001b[0;31m \u001b[0mprint\u001b[0m\u001b[0;34m(\u001b[0m\u001b[0mtype\u001b[0m\u001b[0;34m(\u001b[0m\u001b[0mfloat\u001b[0m\u001b[0;34m(\u001b[0m\u001b[0ma\u001b[0m \u001b[0;34m/\u001b[0m \u001b[0mb\u001b[0m\u001b[0;34m)\u001b[0m\u001b[0;34m)\u001b[0m\u001b[0;34m)\u001b[0m\u001b[0;34m\u001b[0m\u001b[0;34m\u001b[0m\u001b[0m\n\u001b[0m",
            "\u001b[0;31mTypeError\u001b[0m: unsupported operand type(s) for /: 'str' and 'str'"
          ]
        }
      ]
    },
    {
      "cell_type": "code",
      "metadata": {
        "id": "7050622pRDWU",
        "colab_type": "code",
        "outputId": "0d55a0a3-6d50-464b-8103-ee6866999dfe",
        "colab": {
          "base_uri": "https://localhost:8080/",
          "height": 35
        }
      },
      "source": [
        "a = [0, 1, 2, 3, 4]\n",
        "print(a[:3], a[:-3])"
      ],
      "execution_count": 0,
      "outputs": [
        {
          "output_type": "stream",
          "text": [
            "[0, 1, 2] [0, 1]\n"
          ],
          "name": "stdout"
        }
      ]
    },
    {
      "cell_type": "code",
      "metadata": {
        "id": "2WSMVlgQSAmy",
        "colab_type": "code",
        "outputId": "18f8d342-d2cc-432d-a0c7-3be1dacd8e99",
        "colab": {
          "base_uri": "https://localhost:8080/",
          "height": 35
        }
      },
      "source": [
        "a = [0, 1, 2, 3, 4]\n",
        "print(a[::-1])"
      ],
      "execution_count": 0,
      "outputs": [
        {
          "output_type": "stream",
          "text": [
            "[4, 3, 2, 1, 0]\n"
          ],
          "name": "stdout"
        }
      ]
    },
    {
      "cell_type": "code",
      "metadata": {
        "id": "U3U8FfNOSWIZ",
        "colab_type": "code",
        "outputId": "e897ab83-5dcf-4f50-aea8-6baa1dcfd5d0",
        "colab": {
          "base_uri": "https://localhost:8080/",
          "height": 35
        }
      },
      "source": [
        "first = [\"egg\", \"salad\", \"bread\", \"soup\", \"canafe\"]\n",
        "second = [\"fish\", \"lamb\", \"pork\", \"beef\", \"chicken\"]\n",
        "third = [\"apple\", \"banana\", \"orange\", \"grape\", \"mango\"]\n",
        "order = [first, second, third]\n",
        "john = [order[0][:-2], second[1::3], third[0]]\n",
        "del john[2]  \n",
        "john.extend([order[2][0:1]])   \n",
        "print(john)"
      ],
      "execution_count": 0,
      "outputs": [
        {
          "output_type": "stream",
          "text": [
            "[['egg', 'salad', 'bread'], ['lamb', 'chicken'], ['apple']]\n"
          ],
          "name": "stdout"
        }
      ]
    },
    {
      "cell_type": "code",
      "metadata": {
        "id": "3xXBB6kzSrVh",
        "colab_type": "code",
        "outputId": "cca51277-107f-4748-ab5a-2830f0d4854e",
        "colab": {
          "base_uri": "https://localhost:8080/",
          "height": 35
        }
      },
      "source": [
        "list_a = [3, 2, 1, 4]\n",
        "list_b = list_a.sort()\n",
        "print(list_a, list_b)"
      ],
      "execution_count": 0,
      "outputs": [
        {
          "output_type": "stream",
          "text": [
            "[1, 2, 3, 4] None\n"
          ],
          "name": "stdout"
        }
      ]
    },
    {
      "cell_type": "code",
      "metadata": {
        "id": "50qZK-haTtCq",
        "colab_type": "code",
        "outputId": "19fd6081-b7ff-4959-f36c-cae75aba3a48",
        "colab": {
          "base_uri": "https://localhost:8080/",
          "height": 53
        }
      },
      "source": [
        "N = int(input())\n",
        "if N % 2 == 0 :\n",
        "  result = 1\n",
        "  for i in range(1,N+1):\n",
        "    result = result * i\n",
        "\n",
        "else: \n",
        "  result = 0\n",
        "  for i in range(1,N+1):\n",
        "    result = result + i  \n",
        "\n",
        "print(result)"
      ],
      "execution_count": 0,
      "outputs": [
        {
          "output_type": "stream",
          "text": [
            "10\n",
            "3628800\n"
          ],
          "name": "stdout"
        }
      ]
    },
    {
      "cell_type": "code",
      "metadata": {
        "id": "nJa4MGTRWKN6",
        "colab_type": "code",
        "outputId": "c9c43439-09cc-47fa-e694-84980458043a",
        "colab": {
          "base_uri": "https://localhost:8080/",
          "height": 35
        }
      },
      "source": [
        "number = [\"1\", 2, 3, float(4), str(5)]\n",
        "if number[4] == 5:\n",
        "  print(type(number[0]))\n",
        "elif number[3] == 4:\n",
        "  print(number[2:-1])\n"
      ],
      "execution_count": 0,
      "outputs": [
        {
          "output_type": "stream",
          "text": [
            "[3, 4.0]\n"
          ],
          "name": "stdout"
        }
      ]
    },
    {
      "cell_type": "code",
      "metadata": {
        "id": "IlTW_-vSb4Jj",
        "colab_type": "code",
        "outputId": "5693efce-3d33-47a6-d68c-b37bd904845f",
        "colab": {
          "base_uri": "https://localhost:8080/",
          "height": 35
        }
      },
      "source": [
        "first_value = 0\n",
        "second_value = 0\n",
        "for i in range(1, 10):\n",
        "  if i is 5:\n",
        "    continue\n",
        "    first_value = i\n",
        "  if i is 10:\n",
        "    break\n",
        "    second_value = i\n",
        "print(first_value + second_value)"
      ],
      "execution_count": 0,
      "outputs": [
        {
          "output_type": "stream",
          "text": [
            "0\n"
          ],
          "name": "stdout"
        }
      ]
    },
    {
      "cell_type": "code",
      "metadata": {
        "id": "tnCfwZSEcWl5",
        "colab_type": "code",
        "outputId": "f3bac305-a1fb-4e90-d598-fdbf624b80e2",
        "colab": {
          "base_uri": "https://localhost:8080/",
          "height": 161
        }
      },
      "source": [
        "!git clone https://github.com/water-lilies/multicampus.git"
      ],
      "execution_count": 0,
      "outputs": [
        {
          "output_type": "stream",
          "text": [
            "Cloning into 'multicampus'...\n",
            "remote: Enumerating objects: 657, done.\u001b[K\n",
            "remote: Counting objects: 100% (657/657), done.\u001b[K\n",
            "remote: Compressing objects: 100% (392/392), done.\u001b[K\n",
            "remote: Total 657 (delta 261), reused 657 (delta 261), pack-reused 0\u001b[K\n",
            "Receiving objects: 100% (657/657), 47.05 MiB | 21.75 MiB/s, done.\n",
            "Resolving deltas: 100% (261/261), done.\n",
            "Checking out files: 100% (641/641), done.\n"
          ],
          "name": "stdout"
        }
      ]
    },
    {
      "cell_type": "code",
      "metadata": {
        "id": "Hr7nnu7Adsww",
        "colab_type": "code",
        "colab": {}
      },
      "source": [
        ""
      ],
      "execution_count": 0,
      "outputs": []
    }
  ]
}