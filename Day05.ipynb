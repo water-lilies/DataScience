{
  "nbformat": 4,
  "nbformat_minor": 0,
  "metadata": {
    "colab": {
      "name": "Day05.ipynb",
      "provenance": [],
      "collapsed_sections": [],
      "include_colab_link": true
    },
    "kernelspec": {
      "name": "python3",
      "display_name": "Python 3"
    }
  },
  "cells": [
    {
      "cell_type": "markdown",
      "metadata": {
        "id": "view-in-github",
        "colab_type": "text"
      },
      "source": [
        "<a href=\"https://colab.research.google.com/github/water-lilies/DataScience/blob/master/Day05.ipynb\" target=\"_parent\"><img src=\"https://colab.research.google.com/assets/colab-badge.svg\" alt=\"Open In Colab\"/></a>"
      ]
    },
    {
      "cell_type": "markdown",
      "metadata": {
        "id": "s9HVO2eymPnV",
        "colab_type": "text"
      },
      "source": [
        "**2019.12.13 5일차**\n",
        "\n",
        "http://10.5.4.100:8080/python.html\n",
        "\n",
        "수업 자료 링크"
      ]
    },
    {
      "cell_type": "markdown",
      "metadata": {
        "id": "m0LFbIvXMg8l",
        "colab_type": "text"
      },
      "source": [
        "### 4일차 리뷰"
      ]
    },
    {
      "cell_type": "code",
      "metadata": {
        "id": "NRWvr2wEmFmy",
        "colab_type": "code",
        "colab": {}
      },
      "source": [
        "객체지향 특성 - 상속, 다형성, 캡슐화\n",
        "객체(object) - 실체 (사물, 개념)\n",
        "클래스 - 객체를 생성하기 위한 설계도, data+기능(동작), 사용자 정의 타입\n",
        "\n",
        "인스턴스화, 인스턴스\n",
        "\n",
        "\n",
        "class 클래스이름[(부모클래스)]: # 상속받을 경우 부모클래스를 적어줘야함. 부모클래스를 적지 않으면 오브젝트를 상속 받는 것\n",
        "  클래스변수 # 필요하면 선언하는 것, 여러개 선언 가능\n",
        "  ...\n",
        "\n",
        "  def __init__(self, 인수1, ...)  # 생성될 객체의 인스턴스 변수를 초기화시켜준다.\n",
        "    self.인스턴스 변수 = 인수1  \n",
        "\n",
        "  def 메소드(self, 인수1, ...)\n",
        "    수행문장1\n",
        "    ...\n",
        "  \n",
        "  def __str__(self):\n",
        "    # 객체를 표현 할 문장 리턴\n",
        "  \n",
        "\n",
        "객체 = 클래스이름(인수1, 인수2, ...) # 클래스에 정의 된 init메서드의 인수에 맞춰서 객체 생성\n",
        "# type 메타클래스가 클래스로부터 인스턴스 생성 __new__() -> __init()__ 를 호출에서 메모리에 인스턴스\n",
        "\n",
        "객체.메소드(인수1, ...)   # 메서드의 self 인수를 제외한 인수에 맞춰서 호출\n",
        "\n",
        "\n",
        "# 객체가 메모리에서 제거될 때 수행해야 할 작어이 있다면 클래스에 __del__(self): 재정의(오버라이드)해서 구현한다.\n",
        "\n",
        "\n",
        "---\n",
        "# static 메소드 - 클래스로부터 객체 생성 없이 클래스 이름으로 메소드를 호출해서 사용 할 수 있다.\n",
        "# static 메소드는 메서드 선언 앞에 @staticmathod 데코레이션을 선언하고 메소드의 첫번째 인수로 self를 선언하지 않는다.\n",
        "\n",
        "class Calculator:\n",
        "  @staticmethod\n",
        "  def plus(a, b):\n",
        "    return a + b\n",
        "\n",
        "if __name__ == '__main__':\n",
        "  print(Calculator.plus(10,20))\n",
        "\n",
        "\n",
        "---\n",
        "# 클래스 변수에 접근하는 변수는 클래스 메서드에서 만들어줘야한다.\n",
        "# @classmethod를 메서드 앞에 데코레이터로 선언해야 한다.\n",
        "# 클래스 자신을 의미하는 키워드가 있어서 클래스 자신을 메서드의 첫번째 인수로 전달해야 하므로 메서드 첫 인수로 cls 를 선언한다.\n",
        "\n",
        "class instanceCounter:\n",
        "  count = 0\n",
        "  def __init__(self):\n",
        "    instanceCounter.count += 1\n",
        "\n",
        "  @classmethod\n",
        "  def print_instance_count(cls):\n",
        "    print(\"생성된 인스턴스 개수는: \" ,cls.count)\n",
        "\n",
        "\n",
        "if __name__ == '__main__':\n",
        "  x = instanceCounter()\n",
        "  instanceCounter.print_instance_count()\n",
        "\n",
        "  x2 = instanceCounter()\n",
        "  instanceCounter.print_instance_count() \n",
        "\n",
        "  x3 = instanceCounter()\n",
        "  x3.print_instance_count()\n",
        "\n",
        "\n",
        "---\n",
        "# 인스턴스만 접근 할 수 있는 속성을 선언하려면 (private 변수를 선언하려면)\n",
        "\n",
        "class HasPrivate:\n",
        "  def __init__(self):\n",
        "    self.public = \"public\"\n",
        "    self.__private = 'private'\n",
        "\n",
        "  def print_internal(self):\n",
        "    print(self.public)      # 인스턴스 내부에서는 접근 가능\n",
        "    print(self.__private)   # 인스턴스 내부에서는 접근 가능\n",
        "\n",
        "object1 = HasPrivate()\n",
        "object1.print_internal()\n",
        "print(object1.public)\n",
        "print(object1.__private)   # 인스턴스 외부에서는 접근 불가\n",
        "\n",
        "\n",
        "# private 인스턴스 속성을 생성된 객체로부터 외부에서 접근하려면 setter/getter 메소드를 만들어 줘야한다.\n",
        "# getter 메서드는 @property 데코레이터 선언\n",
        "# setter 메서드는 @name.setter 데코레이터 선언\n",
        "\n",
        "\n",
        "# 방법1:\n",
        "class HasPrivate:\n",
        "    def __init__(self, input1, input2):\n",
        "        self.public = input1\n",
        "        self.__private=input2\n",
        "\n",
        "    def print_internal(self):\n",
        "        print(self.public)         #인스턴스 내부에서는 접근 가능\n",
        "        print(self.__private)      #인스턴스 내부에서는 접근 가능\n",
        "   \n",
        "    @property\n",
        "    def private(self):\n",
        "        return self.__private\n",
        "\n",
        "    @private.setter                       @메소드명.setter 데코레이터 선언\n",
        "    def private(self, input_private):    \n",
        "        self.__private= input_private\n",
        "\n",
        "\n",
        "object1 = HasPrivate(\"public\", \"private\")\n",
        "print (object1.private) \n",
        "object1.private=\"indirect\"\n",
        "print (object1.private) \n",
        "\n",
        "\n",
        "#방법2 - 데코레이터 없이 일반함수로 정의함\n",
        "class HasPrivate:\n",
        "    def __init__(self, input1, input2):\n",
        "        self.public = input1\n",
        "        self.__private=input2\n",
        "\n",
        "    def print_internal(self):\n",
        "        print(self.public)         #인스턴스 내부에서는 접근 가능\n",
        "        print(self.__private)      #인스턴스 내부에서는 접근 가능   \n",
        "   \n",
        "    def get_private(self):\n",
        "        return self.__private\n",
        "\n",
        "                          \n",
        "    def set_private(self, input_private):    \n",
        "        self.__private= input_private\n",
        "\n",
        "\n",
        "\n",
        "class Person:\n",
        "   pass\n",
        "\n",
        "class Student(Person):\n",
        "    pass\n",
        "\n",
        "print(issubclass(자식클래스, 부모크래스))  #상속관계 확인\n",
        "\n",
        "\n",
        "\n",
        "#파이썬은 다중 상속 허용합니다.\n",
        "class Lion:\n",
        "    def jump(self):\n",
        "        print(\"호랑이보다 점프 실력 낮음\")\n",
        "\n",
        "class Tiger:\n",
        "    def bite(self):\n",
        "        print(\"사자보다 강함\")\n",
        "\n",
        "class Liger(Tiger, Lion):\n",
        "    def play(self):\n",
        "        print(\"사자보다 강할까요? 호랑이보다 강할까요?)\n",
        "\n",
        "\n",
        "#자식클래스에서 부모클래스로부터 상속받은 메소드를 재정의할 수 있습니다.\n",
        "#재정의한 자신의 메소드 대신 부모로부터 상속받은 메소드를 명시적으로 호출하고 싶으면......super().메소드()\n",
        "\n"
      ],
      "execution_count": 0,
      "outputs": []
    },
    {
      "cell_type": "code",
      "metadata": {
        "id": "PmVUFkvT9wEC",
        "colab_type": "code",
        "colab": {}
      },
      "source": [
        "Quiz>\n",
        "class A:\n",
        "  def method(self):\n",
        "    print(\"A\")\n",
        "\n",
        "class B:\n",
        "  def method(self):\n",
        "    print(\"B\")\n",
        "\n",
        "class C(A):\n",
        "  def method(self):   # 재정의\n",
        "    print(\"C\")\n",
        "\n",
        "class D(B, C):\n",
        "  pass\n",
        "\n",
        "obj = D()\n",
        "obj.method()    # ?\n",
        "\n",
        "obj2 = E()\n",
        "obj2.method()   # ?\n"
      ],
      "execution_count": 0,
      "outputs": []
    },
    {
      "cell_type": "code",
      "metadata": {
        "id": "vC9Hatk24mhk",
        "colab_type": "code",
        "colab": {}
      },
      "source": [
        "Quiz> 모듈은 상속이 될까? \n",
        "안된다! 모듈은 상속 지원이 안된다.\n",
        "동일한 기능을 수행하지만, 속성이 다른 여러 객체를 사용해야 할 경우 클래스로 정의하여 사용한다.\n",
        "하나의 기능을 수행한다면 모듈로 만들어서 재사용한다. (실행시에 복사본은 하나만 사용한다.)\n",
        "\n",
        "연관된 모듈을 그룹핑 할 수 있다. -> 패키지로 그룹핑함.\n",
        "모듈은 물리적으로 하나의 .py 파일이고\n",
        "패키지는 물리적으로 디렉토리이다.\n",
        "\n",
        "패키지 내부에 서브패키지를 구성할 수 있다.\n",
        "패키지 구성 시 필수 파일 __inti__.py (패키지 내부의 서브패키지 구성정보, 모듈 구성정보)\n",
        "\n",
        "# 모듈 사용하기\n",
        "# 작업디렉토리에 사용 할 패키지와 모듈이 구성되어 있어야 한다.\n",
        "from 패키지.모듈 import 함수|변수|클래스\n",
        "함수\n",
        "변수\n",
        "객체 = 클래스()\n",
        "...\n",
        "# 이런식으로 바로 사용 가능\n",
        "\n",
        "from 패키지 import 모듈\n",
        "모듈.함수\n",
        "모듈.변수\n",
        "...\n",
        "# 이런식으로 써야함\n",
        "\n",
        "from 패키지 import 모듈 as 별칭\n",
        "별칭.함수\n",
        "별칭.변수\n",
        "...\n",
        "\n",
        "모듈은 계층구조로 호출되어 사용될 수 있다.\n",
        "최상위(Top level)에서 실행되는 파이썬 스크립터(모듈)은 내장 전역변수 __name__에 모듈이름 대신 __main__ 으로 지정된다.\n",
        "\n",
        "예외(Exceptin): 가벼운 에러, 논리적 에러로서 예외가 발생하면 프로그램은 실행 종료된다.\n",
        "예외처리를 통해서 프로그램이 예외가 발생되더라도 종료되지 않고 계속 다음 실행으로 제어 할 수 있도록 한다.\n",
        "\n",
        "\n",
        "a = [100,200,300]\n",
        "print(a[3])\n",
        ">> index error\n",
        "\n",
        "index error, name error, zero division error, type error, ... 내장된 예외 클래스\n",
        "내장된 예외 클래스들은 exception 모듈에 미리 정의되어있다.\n",
        "사용자 정의 예외클래스를 정의해서 사용 할 수 있다.\n",
        "(Exception - BaseException -  예외 클래스를 상속받아서 만든다.)\n",
        "\n",
        "try\n",
        "예외 발생 가능성이 있는 문장\n",
        "문장\n",
        "except 예외 타입 as 별칭:\n",
        "  예외 처리 문장\n",
        "except 예외 타입 as 별칭:\n",
        "  예외 처리 문장\n",
        "else:\n",
        "  예외가 발생하지 않은 경우에만 수행 할 문장\n",
        "finally:\n",
        "  예외 발생여부와 상관 없이 수행 할 문장\n",
        "\n",
        "다음 실행 문장\n"
      ],
      "execution_count": 0,
      "outputs": []
    },
    {
      "cell_type": "code",
      "metadata": {
        "id": "3qHEbb-NCSAw",
        "colab_type": "code",
        "colab": {}
      },
      "source": [
        "# test3/py\n",
        "print(\"Start\")\n",
        "list1 = [100,200,300]\n",
        "def getitem(idx):\n",
        "  return list1[idx]\n",
        "\n",
        "print(getitem(0))\n",
        "print(getitem(3))\n",
        "\n",
        "print(\"End\")\n",
        "\n",
        "# 예외 처리해주세요\n",
        "예외가 발생한 경우 발생한 예외타입이름과 abnormal event...and next\n",
        "예외가 발생하지 않은 경우 수행할 문장은 \"normally execute\"\n",
        "예외 발생여부와 상관없이 수행할 문자은 \"finllay block execute\""
      ],
      "execution_count": 0,
      "outputs": []
    },
    {
      "cell_type": "code",
      "metadata": {
        "id": "LR6J_JfoCY9W",
        "colab_type": "code",
        "colab": {}
      },
      "source": [
        "예외를 발생시킬 때 raise \n",
        "수행처리전에 조건을 체크해서 조건을 만족하지 않을 때 예외 발생 assert"
      ],
      "execution_count": 0,
      "outputs": []
    },
    {
      "cell_type": "markdown",
      "metadata": {
        "id": "mX_RUbgqDwOS",
        "colab_type": "text"
      },
      "source": [
        "### 12. 예외 처리와 파일\n",
        "**02. 파일 다루기**"
      ]
    },
    {
      "cell_type": "code",
      "metadata": {
        "id": "pzeXHdLVDVlG",
        "colab_type": "code",
        "colab": {}
      },
      "source": [
        "# 파일 읽기: 파일 읽기 실행하기\n",
        "\n",
        "f = open(\"dream.txt\",\"r\")\n",
        "contents = f.read()\n",
        "print(contents)\n",
        "f.close()               # 파일 사용 후 반드시 닫아주기!"
      ],
      "execution_count": 0,
      "outputs": []
    },
    {
      "cell_type": "code",
      "metadata": {
        "id": "VgrJBcOWEWv3",
        "colab_type": "code",
        "colab": {}
      },
      "source": [
        "# 파일 읽기: with 문과 함께 사용하기\n",
        "\n",
        "with open(\"dream.txt\",'r') as my_file:\n",
        "  contentc = my_file.read()\n",
        "  print(type(contents),contents)\n",
        "\n",
        "# close 하지 않아도 with블록이 끝나면 자동으로 닫힘"
      ],
      "execution_count": 0,
      "outputs": []
    },
    {
      "cell_type": "code",
      "metadata": {
        "id": "MlbJg-JCF9xG",
        "colab_type": "code",
        "colab": {}
      },
      "source": [
        "# 파일 읽기: 한 줄씩 읽어 리스트형으로 반환하기\n",
        "\n",
        "with open(\"dream.txt\",'r') as my_file:\n",
        "  content_list = my_file.readlines()      # 파일 전체를 리스트로 반환\n",
        "  print(type(content_list))               # 자료형 확인\n",
        "  print(content_list)                     # 리스트값 출력"
      ],
      "execution_count": 0,
      "outputs": []
    },
    {
      "cell_type": "code",
      "metadata": {
        "id": "YrlxFLqpG4dm",
        "colab_type": "code",
        "colab": {}
      },
      "source": [
        "# 파일 읽기: 실행할 때 마다 한 줄씩 읽어 오기\n",
        "\n",
        "with open(\"dream.txt\",'r') as my_file:\n",
        "  i = 0\n",
        "  while 1:\n",
        "    line = my_file.readline()\n",
        "    if not line:\n",
        "      break\n",
        "    print(str(i), \"===\", line.replace(\"\\n\",\"\"))     # 한 줄씩 값 출력\n",
        "    i = i +  1"
      ],
      "execution_count": 0,
      "outputs": []
    },
    {
      "cell_type": "code",
      "metadata": {
        "id": "2HBFHgdpHZxd",
        "colab_type": "code",
        "colab": {}
      },
      "source": [
        "# 파일 읽기: 파일 안 글자의 통계 정보 출력하기\n",
        "\n",
        "with open(\"dream.txt\",'r') as my_file:\n",
        "  contents = my_file.read()\n",
        "  word_list = contents.split(\" \")\n",
        "  line_list = contents.split(\"\\n\")\n",
        "\n",
        "print(\"총 글자의 수: \", len(contents))\n",
        "print(\"총 단어의 수: \", len(word_list)))\n",
        "print(\"총 줄의 수: \", len(line_list))"
      ],
      "execution_count": 0,
      "outputs": []
    },
    {
      "cell_type": "code",
      "metadata": {
        "id": "io_sI0Q4JPad",
        "colab_type": "code",
        "colab": {}
      },
      "source": [
        "# 파일 쓰기\n",
        "# 텍스트파일을 저장하기 위해서는 텍스트파일을 저장할 때 사용하는 표준을 지정해야 하는데, 이것을 인코딩이라고 한다.\n",
        "\n",
        "f = open(\"conut_log.txt\", 'w', encoding='utf8')\n",
        "for i in range(1,11):\n",
        "  data = \"%d번째 줄이다. \\n\"%i\n",
        "  f.write(data)\n",
        "f.close()"
      ],
      "execution_count": 0,
      "outputs": []
    },
    {
      "cell_type": "code",
      "metadata": {
        "id": "IylDuSJzKnNa",
        "colab_type": "code",
        "colab": {}
      },
      "source": [
        "# 파일 쓰기 : 파일 열기 모드 a로 새로운 글 추가하기\n",
        "# 상황에 따라 파일을 계속 추가해야 하는 작업이 있을 수도 있으므로, 기존 파일에 추가 작업을 해야하는 일이 있다.\n",
        "# 이 경우, 많이 사용하는 방법은 추가 모드 a를 사용하는 것이다.\n",
        "\n",
        "with open(\"count_log.txt\", 'a', encoding='utf8') as f :\n",
        "  for i in range(1,11):\n",
        "    data = \"%d번째 줄이다. \\n\"%i\n",
        "    f.write(data)"
      ],
      "execution_count": 0,
      "outputs": []
    },
    {
      "cell_type": "code",
      "metadata": {
        "id": "wRk4pNKnJmxM",
        "colab_type": "code",
        "colab": {}
      },
      "source": [
        ""
      ],
      "execution_count": 0,
      "outputs": []
    },
    {
      "cell_type": "code",
      "metadata": {
        "id": "ns3EVUTVciMk",
        "colab_type": "code",
        "colab": {}
      },
      "source": [
        "import os\n",
        "os.access 는 특정위치의 경로에 접근 가능한지 체크\n",
        "os.chdir(\"dir path\") 는 현재 디렉토리의 위치를 변경\n",
        "os.getcwd()는 현재 작업디렉토리 확인\n",
        "os.listdir(\"path\")는 인수 path 경로 아래 파일 디렉토리 리스트 반환\n",
        "os.path.exists(\"path\") 파일 또는 디렉토리 경로가 존재하는지 체크\n",
        "os.path.isDir()\n",
        "os.path.isFile()\n",
        "os.path.getsize(\"file path\")\n",
        "os.rmdir(\"dir name\") 디렉토리 삭제\n",
        "os.rename(old, new) 파일 이름 변경\n",
        "os.system(\"cls\") 시스템(운영체제)의 명령어, 프로그램을 호출\n",
        "os.unlink(\"file path\") 파일 삭제\n",
        "os.stat 는 파일 정보를 반환"
      ],
      "execution_count": 0,
      "outputs": []
    },
    {
      "cell_type": "code",
      "metadata": {
        "id": "5hI_iHcyc-KL",
        "colab_type": "code",
        "colab": {}
      },
      "source": [
        "import os\n",
        "print(os.getcwd())\n",
        "os.chdir(\"c/Temp\")\n",
        "print(os.getcwd())\n",
        "os.chdir(\"c/wokrspace\")"
      ],
      "execution_count": 0,
      "outputs": []
    },
    {
      "cell_type": "markdown",
      "metadata": {
        "id": "3hGAMj1Rf9n3",
        "colab_type": "text"
      },
      "source": [
        "> pickle 모듈"
      ]
    },
    {
      "cell_type": "code",
      "metadata": {
        "id": "vefgXCIEf4Rl",
        "colab_type": "code",
        "colab": {}
      },
      "source": [
        "네트워크(서버)에서 객체를 생성한 후 \n",
        "다른 서버로 보낼 떄(상대방 메모리로 보낼 때), 객체가 변경되면 안되므로(?) 피클모듈을 사용."
      ],
      "execution_count": 0,
      "outputs": []
    },
    {
      "cell_type": "markdown",
      "metadata": {
        "id": "rv4cSAirs5ed",
        "colab_type": "text"
      },
      "source": [
        "## OLACLE "
      ]
    },
    {
      "cell_type": "code",
      "metadata": {
        "id": "DSeV8Jdns8F4",
        "colab_type": "code",
        "colab": {}
      },
      "source": [
        "cmd> sqlplus /nolog\n",
        "SQL> conn  sys/oracle as sysdba\n",
        "SQL> alter user scott\n",
        "        identified by oracle\n",
        "        account unlock;\n",
        "SQL> conn scott/oracle\n",
        "SQL> select table_name from user_tables;\n",
        "SQL> describe emp"
      ],
      "execution_count": 0,
      "outputs": []
    },
    {
      "cell_type": "code",
      "metadata": {
        "id": "kAqdqkcot5Tq",
        "colab_type": "code",
        "colab": {}
      },
      "source": [
        "오라클 클라이언트 ---- select ---- sever process \n",
        "                                 1. system check -> 유저가 요청한 SQL이 있는지?  있다면, softpasing. 없으면 밑에 써있는거 실행.\n",
        "                                 2.   ㄴ library oracle 검색 -> 메모리 읽기, 수정\n",
        "                                 3. semantic check (meta 정보) -> \n",
        "                                 4. optimizer - 최적 실행 경로 탐색, 비용 계산(CPU와 i/o에 해당하는)\n",
        "                                 이 결과를 sever process에 준다.\n",
        "                                 5. library code ??????\n",
        "                                 6. SQL에 바인딩처리가 되어있으면 ???? 너무 빨라서 놓침 .. ㅠㅠ\n",
        "\n",
        "SQL 은 표준 언어.\n",
        "프로그래밍 언어와 다르다. 프로그램이 언어는 과정을 서술하지만,\n",
        "SQL은 결과를 서술한다. \n",
        "결과중심, 선언적언어, 구조적 방식\n",
        "과정을 서술할 수 없다는 치명적 단점.\n",
        "예) 네비게이션은 최적화된(DB에서 옵티마이저) 결과를 알려주지만, 내가 더 빠른 길을 알고 있어도 네비에 명령을 내릴 수 없음.\n",
        "\n",
        "\n",
        "데이터베이스는 2차원 구조.\n",
        "SQL을 사용하기 위해서는 구조적으로 사고해야한다."
      ],
      "execution_count": 0,
      "outputs": []
    },
    {
      "cell_type": "code",
      "metadata": {
        "id": "7Cz37a-HxDac",
        "colab_type": "code",
        "colab": {}
      },
      "source": [
        "describe dept\n",
        "select * from dept; ---모든 데이터 조회\n",
        "select dname, loc\n",
        "from dept;\n",
        "\n",
        "select deptno from emp; ---14 rows\n",
        "select distnct depfno from emp;\n",
        "select sal, sal * 12 from emp;\n",
        "select min(sal), max(sal), sum(sal), avg(sal) from emp;"
      ],
      "execution_count": 0,
      "outputs": []
    },
    {
      "cell_type": "code",
      "metadata": {
        "id": "hSMXzcR3xsos",
        "colab_type": "code",
        "colab": {}
      },
      "source": [
        "select empno, ename, sal, deptno\n",
        "from emp\n",
        "where deptno = 10; ---필터조건    여러조건인 경우, and | or | not 과 함께 사용\n",
        "\n",
        "# null 값의 의미 : 값이 존재하지 않음. 연산의 결과 모두 null을 리턴. 즉, 연산이 불가능하다.\n",
        "\n",
        "select ....           ---5\n",
        "from 대상객체         ---1\n",
        "where 조건            ---2\n",
        "group by              ---3\n",
        "having 그룹함수 조건  ---4"
      ],
      "execution_count": 0,
      "outputs": []
    },
    {
      "cell_type": "code",
      "metadata": {
        "id": "VIxhYBGp3i-4",
        "colab_type": "code",
        "colab": {}
      },
      "source": [
        "테이블에 데이터가 저장된 순서는 데이터 추가한 순서(block에 쌓여진 순서) ---heap table\n",
        "정렬결과를 반환받으려면 \n",
        "\n",
        "select ....           ---5\n",
        "from 대상객체         ---1\n",
        "where 조건            ---2\n",
        "group by              ---3\n",
        "having 그룹함수 조건  ---4\n",
        "order by 컬럼 acs | desc ---6"
      ],
      "execution_count": 0,
      "outputs": []
    },
    {
      "cell_type": "code",
      "metadata": {
        "id": "r3LDgEE54tgv",
        "colab_type": "code",
        "colab": {}
      },
      "source": [
        "Quiz > 관리자가 없는 사원을 제외하고, 부서로 그룹핑해서 부서별 평균이 6000이상인\n",
        "부서번호와 평균급여를 검색해서 평균급여의 내림차순으로 정렬한 결과를 출력하시오\n",
        "\n",
        "manager_id\n",
        "department_id\n",
        "salary\n",
        "is null, is not null 연산자가 null 비교연산자"
      ],
      "execution_count": 0,
      "outputs": []
    },
    {
      "cell_type": "code",
      "metadata": {
        "id": "8lpLdF0U59Il",
        "colab_type": "code",
        "colab": {}
      },
      "source": [
        "select department_id, avg(salary)\n",
        "    from employees\n",
        "    where manager_id is not null\n",
        "    group by department_id\n",
        "    having avg(salary) >= 6000\n",
        "    order by avg(salary) desc;\n"
      ],
      "execution_count": 0,
      "outputs": []
    },
    {
      "cell_type": "code",
      "metadata": {
        "id": "cJJKoyCHBycP",
        "colab_type": "code",
        "colab": {}
      },
      "source": [
        "SQL - \n",
        "DML (데이터 검색, 데이터 추가, 수정, 삭제)\n",
        "DDL(객체 생성, 객체 구조 변경, 객체 삭제), \n",
        "DCL(권한주기 , 회수)\n",
        "TCL (트랜잭션 제어 - commit, rollback)"
      ],
      "execution_count": 0,
      "outputs": []
    },
    {
      "cell_type": "code",
      "metadata": {
        "id": "nsAEyGZFB2Nm",
        "colab_type": "code",
        "colab": {}
      },
      "source": [
        "conn scott/oracle\n",
        "insert into dept (deptno, dname)\n",
        "values ( 50 , 'IT');  ---메모리에만 추가됨\n",
        "select * from dept;\n",
        "insert into dept  \n",
        "values ( 60, null, null);   --insert~values절로는 1개의  row만 추가됨\n",
        "\n",
        "select * from dept;\n",
        "\n",
        "create table tdepp (\n",
        "deptno   number(3),\n",
        "dname   varchar2(20),\n",
        "loc        varchar2(30)\n",
        ");\n",
        "desc tdepp  \n",
        "select * from tdepp; ---row없음\n",
        "\n",
        "insert into tdepp \n",
        "select * from dept;\n",
        "\n",
        "select * from tdepp;\n",
        "\n",
        "-- row의 컬럼값을 변경\n",
        "update 테이블명 set  컬럼명 = 변경값,........;\n",
        "update 테이블명 set  컬럼명 = 변경값,........where 조건;\n",
        "\n",
        "select ename, sal\n",
        "from emp;\n",
        "update emp set sal = 0 ;\n",
        "select ename, sal\n",
        "from emp;\n",
        "rollback;   ---변경 수행 취소\n",
        "select ename, sal\n",
        "from emp;\n",
        "\n",
        "update emp set sal = 0 where deptno = 10 ;\n",
        "select ename, sal\n",
        "from emp;\n",
        "rollback;\n",
        "\n",
        "select * from dept;\n",
        "delete [from] 테이블명; ---모든 row 삭제\n",
        "delete [from] 테이블명 where 조건;\n",
        "\n",
        "delete from dept;\n",
        "select * from dept;\n",
        "rollback;\n",
        "delete from dept where deptno in (50, 60) ;\n",
        "select * from dept;\n",
        "commit;"
      ],
      "execution_count": 0,
      "outputs": []
    },
    {
      "cell_type": "markdown",
      "metadata": {
        "id": "DJRQoTY9B7N8",
        "colab_type": "text"
      },
      "source": [
        "http://www.gurubee.net/\n",
        "\n",
        "\n",
        "http://www.dbguide.net/index.db\n",
        "\n",
        "\n",
        "bysql.net\n"
      ]
    },
    {
      "cell_type": "markdown",
      "metadata": {
        "id": "1wPxaAPfBKtd",
        "colab_type": "text"
      },
      "source": [
        "### python, oracle DB 연동"
      ]
    },
    {
      "cell_type": "code",
      "metadata": {
        "id": "iZDXXlSJBKeX",
        "colab_type": "code",
        "colab": {}
      },
      "source": [
        "pip install cx_Oracle\n",
        "또는 \n",
        "conda install -c https://conda.anaconda.org/anaconda cx_oracle\n",
        "\n",
        "import cx_Oracle\n",
        "import os\n",
        "os.putenv('NLS_LANG', 'KOREAN_KOREA.KO16MSWIN949')\n",
        "\n",
        "conn  =  cx_Oracle.connect(\"scott/oracle@127.0.0.1:1521/orcl\")   #DB 연결 \n",
        "#result = pandas.read_sql(\"sql문장\", con=conn)\n",
        "curs = conn.cursor()\n",
        "curs.execute(\"select * from emp\")\n",
        "\n",
        "for row in curs:\n",
        "    print(row)\n",
        "\n",
        "curs.close()\n",
        "conn.close()         \n",
        "\n",
        "\n",
        "\n",
        "import cx_Oracle\n",
        "import os\n",
        "os.putenv('NLS_LANG', 'KOREAN_KOREA.KO16MSWIN949')\n",
        "\n",
        "conn  =  cx_Oracle.connect(\"scott/oracle@127.0.0.1:1521/orcl\")   #DB 연결 \n",
        "#result = pandas.read_sql(\"sql문장\", con=conn)\n",
        "curs = conn.cursor()\n",
        "curs.execute(\"select deptno, avg(sal) from emp group by deptno \")\n",
        "\n",
        "for row in curs:\n",
        "    print(row)\n",
        "\n",
        "curs.close()\n",
        "conn.close()  \n",
        "\n",
        "\n",
        "\n",
        "import cx_Oracle\n",
        "import os\n",
        "os.putenv('NLS_LANG', 'KOREAN_KOREA.KO16MSWIN949')\n",
        "\n",
        "conn  =  cx_Oracle.connect(\"scott/oracle@127.0.0.1:1521/orcl\")   #DB 연결 \n",
        "curs = conn.cursor()\n",
        "curs.prepare(\"insert into dept (deptno, dname) values (:d_val1, :d_val2)\")\n",
        "curs.execute(None, {'d_val1':60, 'd_val2':'IT'})\n",
        "#curs.execute(\"insert into dept (deptno, dname) values (:d_val1, :d_val2)\", {'d_val1':60, 'd_val2':'IT'})\n",
        "conn.commit()\n",
        " \n",
        "curs.close()\n",
        "conn.close() \n"
      ],
      "execution_count": 0,
      "outputs": []
    }
  ]
}