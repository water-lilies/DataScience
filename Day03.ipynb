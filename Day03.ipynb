{
  "nbformat": 4,
  "nbformat_minor": 0,
  "metadata": {
    "colab": {
      "name": "Day03.ipynb",
      "provenance": [],
      "collapsed_sections": [],
      "include_colab_link": true
    },
    "kernelspec": {
      "name": "python3",
      "display_name": "Python 3"
    }
  },
  "cells": [
    {
      "cell_type": "markdown",
      "metadata": {
        "id": "view-in-github",
        "colab_type": "text"
      },
      "source": [
        "<a href=\"https://colab.research.google.com/github/water-lilies/DataScience/blob/master/Day03.ipynb\" target=\"_parent\"><img src=\"https://colab.research.google.com/assets/colab-badge.svg\" alt=\"Open In Colab\"/></a>"
      ]
    },
    {
      "cell_type": "markdown",
      "metadata": {
        "id": "N0trcF2bR7Jl",
        "colab_type": "text"
      },
      "source": [
        "**2019.12.11 3일차**\n",
        "\n",
        "http://10.5.4.100:8080/python.html\n",
        "\n",
        "수업 자료 링크"
      ]
    },
    {
      "cell_type": "code",
      "metadata": {
        "id": "l2OpZT0BR4xA",
        "colab_type": "code",
        "colab": {}
      },
      "source": [
        "#반복문 \n",
        "for 변수 in Range(start:end:stepby):\n",
        "    반복 수행 문장\n",
        "\n",
        "for 변수 in 시퀀스자료형(리스트, 튜플, 딕셔너리, 문자열):\n",
        "    반복 수행 문장   \n",
        " \n",
        "for key, value in  dict.items() :\n",
        "    반복 수행 문장\n",
        "[else: \n",
        "     수행문장 ]\n",
        "\n",
        "while 조건:\n",
        "  반복수행문장\n",
        "[else:\n",
        "  수행문장]\n",
        "\n",
        "else: 반복문이 중단 없이 정상적으로 종료된 후에 한번 더 추가적으로 실행해야 할 코드\n",
        "break: 반복문 내부에서 어떤 조건을 만족했을 때 반복 수행을 중단할 때\n",
        "continue: 반복문 내부에서 어떤 조건을 만족했을 때 반복 수행 코드를 실행하지 않고 다음 반복 회차\n",
        "\n",
        ">> 포맷형식을 출력하기 위해서 python지원 가능\n",
        "1. % operator\n",
        "2. \"{1} {2} {0:2d%}\".format(값1,값2,값3) ==>괄호안에 인덱스 지정 가능! d%는 소수점 자리수 표현임\n",
        "3. f-string f\"{변수1} {변수2} {변수3}\" \n",
        "\n",
        ">> 함수 : 어떤 기능을 수행하는 코드들의 묶음\n",
        "재사용성 \n",
        "구현 용이(설계용이)\n",
        "변경 용이(유지보수 관리가 쉬워진다)\n",
        "! 다른함수에 영향을 주지 않도록 캡슐화를 잘 해야 한다.\n",
        "\n",
        "def 함수 ([매개변수,매개변수, ...]):\n",
        "  수행문장 1\n",
        "  수행문장 2\n",
        "  return 값(변수, 표현식, ...)\n",
        "\n",
        "! 함수에서 return을 생략하면 None 리턴\n",
        "\n",
        ">> 함수 호출 시 인수 전달 방법\n",
        "함수이름(인수, 인수, 인수, ...)\n",
        "1. call by value - 값이 복사되어 전달\n",
        "2. call by reference - 주소값이 전달\n",
        "\n",
        "def move(a,b):\n",
        "  return a+b\n",
        "\n",
        "def change(x,y):\n",
        "  temp = x\n",
        "  x = y\n",
        "  y = temp\n",
        "\n",
        "x = 10\n",
        "y = 100\n",
        "move(x,y)\n",
        "print(x) # 10\n",
        "print(y) # 100\n",
        "===> 함수 수행 후 스택에 쌓인 값이 garbage collection 되어서 사라지기때문에 초기값이 출력된다. \n",
        "\n"
      ],
      "execution_count": 0,
      "outputs": []
    },
    {
      "cell_type": "code",
      "metadata": {
        "id": "n7Iz6z6iXemF",
        "colab_type": "code",
        "outputId": "71dd0422-4c11-411d-b0eb-c276ede3067e",
        "colab": {
          "base_uri": "https://localhost:8080/",
          "height": 53
        }
      },
      "source": [
        "def change(x,y):\n",
        "  temp = x[0]\n",
        "  x[0] = y[0]\n",
        "  y[0] = temp\n",
        "\n",
        "x=[10]\n",
        "y=[100]\n",
        "change(x,y)\n",
        "print(x)  # [100]\n",
        "print(y)  # [10]"
      ],
      "execution_count": 0,
      "outputs": [
        {
          "output_type": "stream",
          "text": [
            "[100]\n",
            "[10]\n"
          ],
          "name": "stdout"
        }
      ]
    },
    {
      "cell_type": "code",
      "metadata": {
        "id": "3-hxIdJUYGJS",
        "colab_type": "code",
        "colab": {}
      },
      "source": [
        "# 변수 scope\n",
        "전역변수 : 전역 메모리에서 생성되는 변수로서 어디에서나 참조 가능\n",
        "로컬변수 : 블럭 내부에서 생성되는 변수로서 생성된 블럭 내부에서만 참조 가능\n",
        "\n",
        "블럭 내부에서 전역변수와 동일한 이름의 변수를 사용할 경우 충돌 없이 로컬변수로 생성됨\n",
        "블럭 내부에서 전역변수에 저장된 값을 변경하려면 global 키워드로 변수를 선언해준다.\n",
        "\n",
        "# 함수의 매개변수 종류\n",
        "함수 호출시에 인수 전달 기본방식은 positional parameter 방식 (순서대로 전달되기때문에 순서가 중요하다)\n",
        "\n",
        "키워드 매개변수 : named parameter 방식, 함수 선언된 매개변수이름과 함께 값을 전달하는 방식, 순서 무관\n",
        "가변 매개변수 : 인수의 개수가 가변적이다. > *매개변수 < 형태로 선언해줌. 아스트릭?? 뭔 그거를 앞에 붙임 그게 *\n",
        "                다른인수와 함께 선언될 경우 마지막에 선언\n",
        "                함수 내부에서 가변변수는 튜플\n",
        "디폴드 매개변수 : 매개변수의 초기값을 함께 선언하고, 함수 호출시 인수를 생략하면 매개변수의 초기값이 사용된다.\n",
        "키워드 가변 매개변수 : 인수의 개수가 가변적, > **매개변수 < , 다른인수와 함께 선언될 경우 마지막에 선언\n",
        "                       함수 내부에서 키워드 가변 매개변수 딕셔너리로  handling 할 수 있음\n",
        "\n",
        "문자열 - 시퀀스 자료형\n",
        "len(), count(), upper(), lower(), ...\n",
        "파일핸들러 = open(\"파일경로이름\",\"r\") # r, w, a\n",
        "readlines() 는 리스트 객체를 리턴, 리스트 객체의 요소는 행단위 문자열이 저장됨\n",
        "\n",
        "반드시 f.close() 로 파일을 닫아줘야한다.\n",
        "===> 외부에서 엑세스하여 내용을 변경할수도 있고, 동시사용이 안될수도 있고 등등의 이유가 있기 때문에"
      ],
      "execution_count": 0,
      "outputs": []
    },
    {
      "cell_type": "code",
      "metadata": {
        "id": "slsGRSglndkW",
        "colab_type": "code",
        "outputId": "ca2b0e64-ec65-47d4-db2a-2460517fdcbb",
        "colab": {
          "base_uri": "https://localhost:8080/",
          "height": 89
        }
      },
      "source": [
        "word = input(\"input a word: \")\n",
        "world_list = list(word)\n",
        "print(world_list)\n",
        "\n",
        "result = []\n",
        "for _ in range(len(world_list)):\n",
        "  result.append(world_list.pop())\n",
        "\n",
        "print(result)\n",
        "print(word[::-1])\n",
        "\n",
        "\n",
        "# 스택방식으로 데이터를 출력하는 것(?)"
      ],
      "execution_count": 0,
      "outputs": [
        {
          "output_type": "stream",
          "text": [
            "input a word: hello\n",
            "['h', 'e', 'l', 'l', 'o']\n",
            "['o', 'l', 'l', 'e', 'h']\n",
            "olleh\n"
          ],
          "name": "stdout"
        }
      ]
    },
    {
      "cell_type": "code",
      "metadata": {
        "id": "DErcXNYMymmy",
        "colab_type": "code",
        "colab": {}
      },
      "source": [
        "### 프로그래밍 연습문재 ###\n",
        "1. 사용자로부터 정수값을 최대 10개까지 입력 받을 수 있습니다.\n",
        "  사용자가 정수값 0을 입력하면 더이상 입력 받지 않고\n",
        "  이전에 입력된 정수값들중 두번째로 큰 정수를 출력합니다.\n",
        "\n",
        "2. 사용자로부터 알파벳 대소문자로 구성된 단어 혹은 문장을 입력받아서\n",
        "  가장 많이 사용된 알파벳이 무엇인지 알아내는 프로그램을 작성하시오\n",
        "  가장 많이 사용된 알파벳이 여러개 존재 할 경우 ?을 출력하시오.\n",
        "  단, 대소문자 구분 안함."
      ],
      "execution_count": 0,
      "outputs": []
    },
    {
      "cell_type": "code",
      "metadata": {
        "id": "uhIKUjGPItnk",
        "colab_type": "code",
        "colab": {}
      },
      "source": [
        "user_list=[]\n",
        "\n",
        "while len(user_list) != 10:\n",
        "  user_num = int(input(\"숫자를 입력하세요: \"))\n",
        "  user_list.append(user_num)\n",
        "  if user_num == 0:\n",
        "    user_list.sort(reverse=True)\n",
        "    print(user_list[1])\n",
        "    break"
      ],
      "execution_count": 0,
      "outputs": []
    },
    {
      "cell_type": "code",
      "metadata": {
        "id": "tblcXB_lKyw7",
        "colab_type": "code",
        "colab": {}
      },
      "source": [
        "from collections import Counter\n",
        "\n",
        "user_word = str(input(\"input a word: \")).upper()\n",
        "word_list = list(user_word)\n",
        "\n",
        "cwl = Counter(word_list)\n",
        "result = cwl.most_common(2)\n",
        "\n",
        "if result[0][1] == result[1][1]:\n",
        "  print(\"?\")\n",
        "else:\n",
        "  print(cwl.most_common(1))\n"
      ],
      "execution_count": 0,
      "outputs": []
    },
    {
      "cell_type": "code",
      "metadata": {
        "id": "rJxQYZT8S17m",
        "colab_type": "code",
        "colab": {}
      },
      "source": [
        ""
      ],
      "execution_count": 0,
      "outputs": []
    },
    {
      "cell_type": "code",
      "metadata": {
        "id": "X9_6_ONMn5Vx",
        "colab_type": "code",
        "colab": {}
      },
      "source": [
        "num1 = square_number()\n",
        "\n",
        "--\n",
        "\n",
        "def square_numbers2(nums):\n",
        "  result = []\n",
        "  for i in nums:\n",
        "    yield i*i\n",
        "\n",
        "nums2 = square_numbers2([1,2,3,4,5])\n",
        "print nums2\n",
        "print next(nums2)\n",
        "print next(nums2)\n",
        "\n",
        "num3 = square_numbers2([1,2,3,4,5])\n",
        "for num in num3:\n",
        "  print num\n"
      ],
      "execution_count": 0,
      "outputs": []
    },
    {
      "cell_type": "code",
      "metadata": {
        "id": "frWDhhg97GeQ",
        "colab_type": "code",
        "colab": {}
      },
      "source": [
        "위의 코드를 (* 또는 **을 사용하여  unpacking하고) zip 함수를 이용해서 학생별 평균을 구하시오\n"
      ],
      "execution_count": 0,
      "outputs": []
    },
    {
      "cell_type": "code",
      "metadata": {
        "id": "ct9QTSDe6Nk7",
        "colab_type": "code",
        "colab": {}
      },
      "source": [
        "map 함수와 zip 함수를 사용하여 학생별 평균을 구한후에\n",
        "reduce 함수로 전체 평균을 구하는 코드를 작성하시오\n",
        "\n",
        "리스트 컴프리헨션으로 학생별 평균을 구해보세요"
      ],
      "execution_count": 0,
      "outputs": []
    },
    {
      "cell_type": "code",
      "metadata": {
        "id": "VXmNZ5yl-X_P",
        "colab_type": "code",
        "colab": {}
      },
      "source": [
        ""
      ],
      "execution_count": 0,
      "outputs": []
    },
    {
      "cell_type": "code",
      "metadata": {
        "id": "7auLVyMy-ROo",
        "colab_type": "code",
        "outputId": "01b56513-8ab8-4a52-930a-19e73ca3f6ea",
        "colab": {
          "base_uri": "https://localhost:8080/",
          "height": 179
        }
      },
      "source": [
        "words = 'the quick brown fox jumps over the lazy dag'.split()\n",
        "\n",
        "stuff =[[w.upper(), w.lower(), len(w)] for w in words]\n",
        "for i in stuff:\n",
        "  print(i)"
      ],
      "execution_count": 0,
      "outputs": [
        {
          "output_type": "stream",
          "text": [
            "['THE', 'the', 3]\n",
            "['QUICK', 'quick', 5]\n",
            "['BROWN', 'brown', 5]\n",
            "['FOX', 'fox', 3]\n",
            "['JUMPS', 'jumps', 5]\n",
            "['OVER', 'over', 4]\n",
            "['THE', 'the', 3]\n",
            "['LAZY', 'lazy', 4]\n",
            "['DAG', 'dag', 3]\n"
          ],
          "name": "stdout"
        }
      ]
    },
    {
      "cell_type": "markdown",
      "metadata": {
        "id": "5PxiWdDpG4iF",
        "colab_type": "text"
      },
      "source": [
        "파이썬에서 언더스코어(_)는 다음과 같은 상황에서 사용되는데 크게 5가지의 경우가 있다.\n",
        "\n",
        "- 인터프리터(Interpreter)에서 마지막 값을 저장할 때\n",
        "- 값을 무시하고 싶을 때 (흔히 “I don’t care”라고 부른다.)\n",
        "- 변수나 함수명에 특별한 의미 또는 기능을 부여하고자 할 때\n",
        "- 국제화(Internationalization, i18n)/지역화(Localization, l10n) 함수로써 사용할 때\n",
        "- 숫자 리터럴값의 자릿수 구분을 위한 구분자로써 사용할 때"
      ]
    },
    {
      "cell_type": "code",
      "metadata": {
        "id": "jMdbo6ZW-ZgH",
        "colab_type": "code",
        "colab": {}
      },
      "source": [
        "# 일반적인 반복문 + 리스트\n",
        "\n",
        "def sclar_vector_product(scalar, vector):\n",
        "  result = []\n",
        "  for value in vector:\n",
        "    result.append(scalar * value)\n",
        "  return result\n",
        "\n",
        "iteration_max = 10000\n",
        "\n",
        "vector = list(range(iteration_max))\n",
        "scalar = 2\n",
        "\n",
        "for _ in range(iteration_max):\n",
        "  sclar_vector_product(scalar,vector)\n"
      ],
      "execution_count": 0,
      "outputs": []
    },
    {
      "cell_type": "code",
      "metadata": {
        "id": "isRCUyonFjGp",
        "colab_type": "code",
        "colab": {}
      },
      "source": [
        "# 리스트 컴프리헨션\n",
        "\n",
        "iteration_max = 10000\n",
        "\n",
        "vector = list(range(iteration_max))\n",
        "scalar = 2\n",
        "\n",
        "for _ in range(iteration_max):\n",
        "  [scalar * value for value in range(iteration_max)]\n",
        "\n",
        "# 두 코드는 벡터-스칼라 곱셈을 실행하는 코드"
      ],
      "execution_count": 0,
      "outputs": []
    },
    {
      "cell_type": "code",
      "metadata": {
        "id": "f3ecQBwnJIKL",
        "colab_type": "code",
        "outputId": "bdb4351b-22b4-4ff5-c1a9-c2f0f4f1c7c2",
        "colab": {
          "base_uri": "https://localhost:8080/",
          "height": 233
        }
      },
      "source": [
        "# enmerate() 함수\n",
        "# 리스트값을 추출할 때 인덱스를 붙여 함께 출력\n",
        "\n",
        "for i, v in enumerate(['tic','tac','toc']):\n",
        "  print(i,v)\n",
        "\n",
        "\n",
        "# 주로 딕셔너리형으로, 인덱스를 키로, 단어를 값으로 하여 쌍으로 묶어 결과를 출력하는 방식으로 사용\n",
        "\n",
        "{i:j for i,j in enumerate('TEAMLAB is an academic institute located in Sout Korea.'.split())}"
      ],
      "execution_count": 0,
      "outputs": [
        {
          "output_type": "stream",
          "text": [
            "0 tic\n",
            "1 tac\n",
            "2 toc\n"
          ],
          "name": "stdout"
        },
        {
          "output_type": "execute_result",
          "data": {
            "text/plain": [
              "{0: 'TEAMLAB',\n",
              " 1: 'is',\n",
              " 2: 'an',\n",
              " 3: 'academic',\n",
              " 4: 'institute',\n",
              " 5: 'located',\n",
              " 6: 'in',\n",
              " 7: 'Sout',\n",
              " 8: 'Korea.'}"
            ]
          },
          "metadata": {
            "tags": []
          },
          "execution_count": 75
        }
      ]
    },
    {
      "cell_type": "code",
      "metadata": {
        "id": "1GSv0wePInJb",
        "colab_type": "code",
        "outputId": "12366771-13bf-4439-e7c4-3bc4f774fb04",
        "colab": {
          "base_uri": "https://localhost:8080/",
          "height": 53
        }
      },
      "source": [
        "# zip 함수\n",
        "# 같은 위치에 있는 값 끼리 묶어줌\n",
        "\n",
        "a, b, c = zip((1,2,3),(10,20,30),(100,200,300))\n",
        "print(a,b,c)\n",
        "\n",
        "[sum(x) for x in zip((1,2,3),(10,20,30),(100,200,300))]\n"
      ],
      "execution_count": 0,
      "outputs": [
        {
          "output_type": "stream",
          "text": [
            "(1, 10, 100) (2, 20, 200) (3, 30, 300)\n"
          ],
          "name": "stdout"
        },
        {
          "output_type": "execute_result",
          "data": {
            "text/plain": [
              "[111, 222, 333]"
            ]
          },
          "metadata": {
            "tags": []
          },
          "execution_count": 73
        }
      ]
    },
    {
      "cell_type": "code",
      "metadata": {
        "id": "GYDuQVyRIxLL",
        "colab_type": "code",
        "colab": {}
      },
      "source": [
        ""
      ],
      "execution_count": 0,
      "outputs": []
    },
    {
      "cell_type": "code",
      "metadata": {
        "id": "B0KalfIwQO0A",
        "colab_type": "code",
        "colab": {}
      },
      "source": [
        "kor_score = [49, 80, 20, 100, 80]\n",
        "math_score = [43, 60, 85, 30, 90]\n",
        "eng_score = [49, 82, 48, 50, 100]\n",
        "midterm_score = [kor_score, math_score, eng_score]\n",
        "\n",
        "student_score = [0, 0, 0, 0, 0]\n",
        "i = 0\n",
        "for subject in midterm_score:\n",
        "    for score in subject:\n",
        "        student_score[i] += score                   # 학생마다 개별로 교과 점수를 저장\n",
        "        i += 1                                      # 학생 인덱스 구분\n",
        "    i = 0                                           # 과목이 바뀔 때 학생 인덱스 초기화\n",
        "else:\n",
        "    a, b, c, d, e = student_score                   # 학생별 점수를 언패킹\n",
        "    student_average = [a/3, b/3, c/3, d/3, e/3]\n",
        "    print(student_average)\n",
        "\n",
        "위의 코드를  (*  또는  **를 사용하여 unpacking하고) zip함수를 이용해서\n",
        "학생별 평균을 구하시오\n",
        "\n",
        "\n",
        "map 함수와 zip함수를 사용하여 학생별 평균을 구한후에\n",
        "reduce함수로 전체 평균을 구하는 코드를 작성하시오\n",
        "\n",
        "\n",
        "리스트 컴프리헨션으로 학생별 평균을 구해보세요\n",
        "\n",
        "\n",
        "\n",
        "#############################################################\n",
        "#제너레이터\n",
        "반복자(iterator)와 같은 루프의 작용을 컨트롤하기 위해 쓰여지는 함수 또는 루틴\n",
        "모든 제너레이터는 반복자이다.\n",
        "제너레이터는 배열이나 리스트를 리턴하는 함수와 비슷하며, 호출을 할 수 있는 파라미터를 가지고 있고,\n",
        "연속적인 값들을 만들어낸다\n",
        "한번에 모든 값을 포함한 배열을 만들어서 리턴하는대신 yield구문을 이용해 한번 호출할 때마다\n",
        "하나의 값만을 리턴한다.\n",
        "반복자(iterator) 에 비해 작은 메모리를 사용 \n",
        "def square_numbers(nums):\n",
        "    result = []\n",
        "    for i in nums:\n",
        "        result.append(i*i)\n",
        "    return result\n",
        "\n",
        "nums1 = square_numbers([1,2,3,4,5])\n",
        "print nums1\n",
        "\n",
        "\n",
        "def square_numbers2(nums):\n",
        "    result = []\n",
        "    for i in nums:\n",
        "         yield i*i\n",
        "\n",
        "nums2 = square_numbers2([1,2,3,4,5])\n",
        "print nums2\n",
        "print next(nums2)\n",
        "print next(nums2)\n",
        "\n",
        "num3 = square_numbers2([1,2,3,4,5])\n",
        "for num in num3:\n",
        "    print num\n",
        "\n",
        "\n",
        "\n",
        "\n",
        "\n",
        "\n",
        "\n",
        "\n",
        "#파이썬 실행시간 간단 측정 방법 1\n",
        "import timeit   #내장 모듈\n",
        "start = timeit.default_timer()\n",
        "#실행 코드\n",
        "stop = timeit.default_timer()\n",
        "print(\"수행시간\", (stop-start))\n",
        "\n",
        "#파이썬 실행시간 간단 측정 방법 2\n",
        "import time #내장모듈\n",
        "starttime = time.time()\n",
        "#실행코드\n",
        "endtime = time.time() - starttime\n",
        "print(endtime)\n",
        "\n",
        "\n",
        "\n",
        "\n",
        "########## 프로그래밍 연습문제  #################\n",
        "1. 사용자로부터 정수값을 최대 10개까지 입력 받을 수 있습니다.\n",
        "   사용자가 정수값 0을 입력하면   더 이상 입력을 받지 않고\n",
        "   0 이전에 입력된 정수값들중 두번째로 큰 정수를 출력합니다.\n",
        "\n",
        "2. 사용자로부터 알파벳 대소문자로 구성된 단어 혹은 문장을 입력받아서 \n",
        "가장 많이 사용된 알파벳이 무엇인지 알아내는 프로그램을 작성하시오\n",
        "가장 많이 사용된 알파벳이 여러 개 존재할 경우 ?를 출력하시오\n",
        "단, 대소문자 구분 안함 \n",
        "\n",
        "\n",
        "text = \"\"\"A press release is the quickest and easiest way to get free publicity. If well written, a press release can result in multiple published articles about your firm and its products. And that can mean new prospects contacting you asking you to sell to them. ….\"\"\"\n",
        "\n",
        "#############Review################################\n",
        "#반복문 \n",
        "for 변수 in Range(start:end:stepby):\n",
        "    반복 수행 문장\n",
        "\n",
        "for 변수 in 시퀀스자료형(리스트, 튜플, 딕셔너리, 문자열):\n",
        "    반복 수행 문장   \n",
        " \n",
        "for key, value in  dict.items() :\n",
        "    반복 수행 문장\n",
        "[else: \n",
        "     수행문장 ]\n",
        "\n",
        "\n",
        "while 조건 :\n",
        "    반복 수행 문장\n",
        "[else: \n",
        "     수행문장 ]\n",
        "\n",
        "else : 반복문이 중단 없이 정상적으로 종료된 후에 한번 더 추가적으로 실행해야 할 코드\n",
        "\n",
        "break - 반복문 내부에서 어떤 조건을 만족했을때 반복 수행을 중단할 때 \n",
        "continue - 반복문 내부에서 어떤 조건을 만족했을때 반복 수행 코드를 실행하지 않고 다음 반복 회차로 넘길때 \n",
        "\n",
        "#포맷형식을 출력하기 위해서 python지원 기능\n",
        "1. % operator \n",
        "2. \" {1 }  {2 }  {0:2d% } \".format(값1, 값2, 값3)\n",
        "3. f-string f\"   {변수1  }  { 변수2 }  { 변수3 }  \" \n",
        "\n",
        "# 함수  - 어떤 기능을 수행하는 코드들의 묶음 \n",
        "재사용\n",
        "구현 용이(설계 용이)\n",
        "변경 용이( 유지보수 관리 용이)\n",
        "\n",
        "def 함수([매개변수, 매개변수,...]):\n",
        "    수행 문장1\n",
        "    수행 문장2\n",
        "    return 값(변수, 표현식,..)\n",
        "\n",
        "함수에서 return을 생략하면  None리턴\n",
        "\n",
        "# 함수 호출할때 인수 전달 방법\n",
        "함수이름(인수, 인수, 인수,...) \n",
        "1. call by value  - 값이 복사 되어 전달\n",
        "2. call by reference - 주소값이 전달\n",
        "\n",
        "def change(x, y) :\n",
        "    temp = x\n",
        "    x = y\n",
        "    y= temp\n",
        "\n",
        "\n",
        "x=10\n",
        "y=100\n",
        "change(x, y)\n",
        "print(x)  #10\n",
        "print(y)  #100\n",
        "\n",
        "\n",
        "def change2(x, y) :\n",
        "    temp = x[0]\n",
        "    x[0] = y[0]\n",
        "    y[0]= temp\n",
        "\n",
        "\n",
        "x=[10]\n",
        "y=[100]\n",
        "change2(x, y)\n",
        "print(x)   #\n",
        "print(y)   #\n",
        "\n",
        "#변수 scope\n",
        "전역변수 : 전역 메모리에 생성되는 변수로서 어디에서나 참조가능\n",
        "로컬변수 : 블럭 내부에서 생성되는 변수로서 생성된 블럭내부에서만 참조 가능\n",
        "블럭 내부에서 전역변수와 동일한 이름의 변수를 사용할 경우 충돌없이 로컬변수로 새로 생성됨\n",
        "블럭 내부에서 전역변수에 저장된 값을 변경하려면 global 키워드로 변수를 선언해줍니다.\n",
        "\n",
        "\n",
        "#함수의 매개변수 종류\n",
        "함수 호출시에 인수 전달 기본 방식은 positional parameter 방식, 인수 전달 순서가 중요\n",
        "키워드 매개변수 : named parameter 방식, 함수 선언된 매개변수이름과 함께 값을 전달 방식, 순서 무관\n",
        "가변 매개변수 : 인수의 개수가 가변적, *매개변수, 다른 인수와 함께 선언될경우 마지막에 선언\n",
        "                      함수 내부에서 가변 매개변수는 튜플\n",
        "디폴트 매개변수 : 매개변수에 초기값을 함께 선언하고, 함수 호출시 인수를 생략하면 매개변수의 초기값이 사용됩니다.\n",
        "키워드 가변 매개변수 :  인수의 개수가 가변적, **매개변수, 다른 인수와 함께 선언될경우 마지막에 선언\n",
        "                       함수 내부에서 키워드 가변 매개변수 딕셔너리로 handling할 수 있음\n",
        "\n",
        "문자열-시퀀스자료형\n",
        "len(), count(), upper(), lower(),.....\n",
        "파일핸들러=open('파일경로이름', 'r') #r, w, a\n",
        "readlines() 는 리스트 객체를 리턴, 리스트 객체의 요소는 행단위 문자열이 저장됨\n",
        "반드시  f.close()\n",
        "\n",
        "list1 = [1,100,100]\n",
        "id(list1)\n",
        "list1[0]\n",
        "list"
      ],
      "execution_count": 0,
      "outputs": []
    }
  ]
}