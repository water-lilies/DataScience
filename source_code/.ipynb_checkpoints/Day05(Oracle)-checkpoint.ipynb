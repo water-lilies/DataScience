{
 "cells": [
  {
   "cell_type": "code",
   "execution_count": 2,
   "metadata": {},
   "outputs": [
    {
     "name": "stdout",
     "output_type": "stream",
     "text": [
      "(7369, 'SMITH', 'CLERK', 7902, datetime.datetime(1980, 12, 17, 0, 0), 800.0, None, 20)\n",
      "(7499, 'ALLEN', 'SALESMAN', 7698, datetime.datetime(1981, 2, 20, 0, 0), 1600.0, 300.0, 30)\n",
      "(7521, 'WARD', 'SALESMAN', 7698, datetime.datetime(1981, 2, 22, 0, 0), 1250.0, 500.0, 30)\n",
      "(7566, 'JONES', 'MANAGER', 7839, datetime.datetime(1981, 4, 2, 0, 0), 2975.0, None, 20)\n",
      "(7654, 'MARTIN', 'SALESMAN', 7698, datetime.datetime(1981, 9, 28, 0, 0), 1250.0, 1400.0, 30)\n",
      "(7698, 'BLAKE', 'MANAGER', 7839, datetime.datetime(1981, 5, 1, 0, 0), 2850.0, None, 30)\n",
      "(7782, 'CLARK', 'MANAGER', 7839, datetime.datetime(1981, 6, 9, 0, 0), 2450.0, None, 10)\n",
      "(7788, 'SCOTT', 'ANALYST', 7566, datetime.datetime(1987, 4, 19, 0, 0), 3000.0, None, 20)\n",
      "(7839, 'KING', 'PRESIDENT', None, datetime.datetime(1981, 11, 17, 0, 0), 5000.0, None, 10)\n",
      "(7844, 'TURNER', 'SALESMAN', 7698, datetime.datetime(1981, 9, 8, 0, 0), 1500.0, 0.0, 30)\n",
      "(7876, 'ADAMS', 'CLERK', 7788, datetime.datetime(1987, 5, 23, 0, 0), 1100.0, None, 20)\n",
      "(7900, 'JAMES', 'CLERK', 7698, datetime.datetime(1981, 12, 3, 0, 0), 950.0, None, 30)\n",
      "(7902, 'FORD', 'ANALYST', 7566, datetime.datetime(1981, 12, 3, 0, 0), 3000.0, None, 20)\n",
      "(7934, 'MILLER', 'CLERK', 7782, datetime.datetime(1982, 1, 23, 0, 0), 1300.0, None, 10)\n"
     ]
    }
   ],
   "source": [
    "import cx_Oracle\n",
    "import os\n",
    "os.putenv('NLS_LANG', 'KOREAN_KOREA.KO16MSWIN949')\n",
    "\n",
    "conn  =  cx_Oracle.connect(\"scott/oracle@127.0.0.1:1522/orcl\")   #DB 연결 \n",
    "#result = pandas.read_sql(\"sql문장\", con=conn)\n",
    "curs = conn.cursor()\n",
    "curs.execute(\"select * from emp\")\n",
    "\n",
    "for row in curs:\n",
    "    print(row)\n",
    "\n",
    "curs.close()\n",
    "conn.close()  "
   ]
  },
  {
   "cell_type": "code",
   "execution_count": 4,
   "metadata": {},
   "outputs": [
    {
     "name": "stdout",
     "output_type": "stream",
     "text": [
      "(30, 1566.6666666666667)\n",
      "(20, 2175)\n",
      "(10, 2916.6666666666665)\n"
     ]
    }
   ],
   "source": [
    "import cx_Oracle\n",
    "import os\n",
    "os.putenv('NLS_LANG', 'KOREAN_KOREA.KO16MSWIN949')\n",
    "\n",
    "conn  =  cx_Oracle.connect(\"scott/oracle@127.0.0.1:1522/orcl\")   #DB 연결 \n",
    "#result = pandas.read_sql(\"sql문장\", con=conn)\n",
    "curs = conn.cursor()\n",
    "curs.execute(\"select deptno, avg(sal) from emp group by deptno \")\n",
    "\n",
    "for row in curs:\n",
    "    print(row)\n",
    "\n",
    "curs.close()\n",
    "conn.close()  "
   ]
  },
  {
   "cell_type": "code",
   "execution_count": 6,
   "metadata": {},
   "outputs": [],
   "source": [
    "import cx_Oracle\n",
    "import os\n",
    "os.putenv('NLS_LANG', 'KOREAN_KOREA.KO16MSWIN949')\n",
    "\n",
    "conn  =  cx_Oracle.connect(\"scott/oracle@127.0.0.1:1522/orcl\")   #DB 연결 \n",
    "curs = conn.cursor()\n",
    "curs.prepare(\"insert into dept (deptno, dname) values (:d_val1, :d_val2)\")\n",
    "curs.execute(None, {'d_val1':60, 'd_val2':'IT'})\n",
    "#curs.execute(\"insert into dept (deptno, dname) values (:d_val1, :d_val2)\", {'d_val1':60, 'd_val2':'IT'})\n",
    "conn.commit()\n",
    " \n",
    "curs.close()\n",
    "conn.close() "
   ]
  },
  {
   "cell_type": "code",
   "execution_count": null,
   "metadata": {},
   "outputs": [],
   "source": []
  },
  {
   "cell_type": "code",
   "execution_count": 9,
   "metadata": {
    "scrolled": true
   },
   "outputs": [
    {
     "ename": "NameError",
     "evalue": "name 'seoung_nam_data' is not defined",
     "output_type": "error",
     "traceback": [
      "\u001b[1;31m---------------------------------------------------------------------------\u001b[0m",
      "\u001b[1;31mNameError\u001b[0m                                 Traceback (most recent call last)",
      "\u001b[1;32m<ipython-input-9-625d518a35da>\u001b[0m in \u001b[0;36m<module>\u001b[1;34m\u001b[0m\n\u001b[0;32m     21\u001b[0m \u001b[1;33m\u001b[0m\u001b[0m\n\u001b[0;32m     22\u001b[0m     \u001b[0mwriter\u001b[0m\u001b[1;33m.\u001b[0m\u001b[0mwriterow\u001b[0m\u001b[1;33m(\u001b[0m\u001b[0mheader\u001b[0m\u001b[1;33m)\u001b[0m\u001b[1;33m\u001b[0m\u001b[1;33m\u001b[0m\u001b[0m\n\u001b[1;32m---> 23\u001b[1;33m     \u001b[1;32mfor\u001b[0m \u001b[0mrow\u001b[0m \u001b[1;32min\u001b[0m \u001b[0mseoung_nam_data\u001b[0m\u001b[1;33m:\u001b[0m\u001b[1;33m\u001b[0m\u001b[1;33m\u001b[0m\u001b[0m\n\u001b[0m\u001b[0;32m     24\u001b[0m         \u001b[0mwriter\u001b[0m\u001b[1;33m.\u001b[0m\u001b[0mwriterow\u001b[0m\u001b[1;33m(\u001b[0m\u001b[0mrow\u001b[0m\u001b[1;33m)\u001b[0m\u001b[1;33m\u001b[0m\u001b[1;33m\u001b[0m\u001b[0m\n",
      "\u001b[1;31mNameError\u001b[0m: name 'seoung_nam_data' is not defined"
     ]
    }
   ],
   "source": [
    "import csv\n",
    "\n",
    "seoun_nam_data = []\n",
    "header = []\n",
    "rownum = 0\n",
    "\n",
    "with open(\"korea_floating_population_data.csv\",'r',encoding='cp949') as p_file:\n",
    "    csv_data = csv.reader(p_file)\n",
    "    \n",
    "    for row in csv_data:\n",
    "        if rownum == 0:\n",
    "            header = row\n",
    "        location = row[7]\n",
    "        if location.find(u\"성남시\")!=-1:\n",
    "            seoun_nam_data.append(row)\n",
    "            \n",
    "        rownum +=1\n",
    "\n",
    "with open(\"seoung_nam_floating_population_data.csv\",'w',encoding=\"utf8\") as s_p_file:\n",
    "    writer = csv.writer(s_p_file, delimiter='\\t', quotechar=\"'\", quoting=csv.QUOTE_ALL)\n",
    "    \n",
    "    writer.writerow(header)\n",
    "    for row in seoung_nam_data:\n",
    "        writer.writerow(row)"
   ]
  },
  {
   "cell_type": "code",
   "execution_count": null,
   "metadata": {},
   "outputs": [],
   "source": []
  }
 ],
 "metadata": {
  "kernelspec": {
   "display_name": "Python 3",
   "language": "python",
   "name": "python3"
  },
  "language_info": {
   "codemirror_mode": {
    "name": "ipython",
    "version": 3
   },
   "file_extension": ".py",
   "mimetype": "text/x-python",
   "name": "python",
   "nbconvert_exporter": "python",
   "pygments_lexer": "ipython3",
   "version": "3.7.3"
  }
 },
 "nbformat": 4,
 "nbformat_minor": 2
}
