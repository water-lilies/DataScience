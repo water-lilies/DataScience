{
 "cells": [
  {
   "cell_type": "markdown",
   "metadata": {},
   "source": [
    "## 로지스틱 회귀 분석\n",
    "머신러닝 교과서 with 파이썬, 사이킷런, 텐서플로 "
   ]
  },
  {
   "cell_type": "code",
   "execution_count": 1,
   "metadata": {},
   "outputs": [],
   "source": [
    "import pandas as pd\n",
    "import numpy as np\n",
    "import matplotlib.pyplot as plt\n",
    "import seaborn as sns"
   ]
  },
  {
   "cell_type": "code",
   "execution_count": 2,
   "metadata": {},
   "outputs": [
    {
     "name": "stdout",
     "output_type": "stream",
     "text": [
      "<class 'pandas.core.frame.DataFrame'>\n",
      "RangeIndex: 25 entries, 0 to 24\n",
      "Data columns (total 3 columns):\n",
      "score    25 non-null int64\n",
      "grade    25 non-null float64\n",
      "_pass    25 non-null int64\n",
      "dtypes: float64(1), int64(2)\n",
      "memory usage: 728.0 bytes\n"
     ]
    }
   ],
   "source": [
    "score=[56,60,61,67,69, 55,70,44,51,64, 60,50,68,72,90, 93,85,74,81,88, 92,97,77,78,98]\n",
    "grade=[3.61, 2.93, 3.14, 4.00, 3.23,  3.89, 3.66, 3.51, 2.53, 3.61,  2.93, 3.14, 4.00, 3.23, 2.53, 3.23, 3.89, 3.66, 3.51, 3.89,  3.66, 3.51, 2.53 ,3.14, 4.00]\n",
    "_pass = [0,0,0,0,0,0,0,0,0,0,0,1,1,1,1,1,1,1,1,1,1,1,1,1,1]\n",
    "\n",
    "df = pd.DataFrame( {\"score\":score, \"grade\": grade, \"_pass\":_pass})\n",
    "df.info()"
   ]
  },
  {
   "cell_type": "code",
   "execution_count": 3,
   "metadata": {},
   "outputs": [],
   "source": [
    "X=df[['score', 'grade']]\n",
    "Y=df[['_pass']]"
   ]
  },
  {
   "cell_type": "code",
   "execution_count": 4,
   "metadata": {},
   "outputs": [],
   "source": [
    "# train data 와 test data를 7:3 비율로 분리\n",
    "from sklearn.model_selection import train_test_split\n",
    "\n",
    "X_train, X_test, Y_train, Y_test = train_test_split(X, Y, test_size=0.3, random_state=0)  "
   ]
  },
  {
   "cell_type": "code",
   "execution_count": 5,
   "metadata": {},
   "outputs": [
    {
     "name": "stderr",
     "output_type": "stream",
     "text": [
      "C:\\Users\\student\\Anaconda3\\lib\\site-packages\\sklearn\\linear_model\\logistic.py:432: FutureWarning: Default solver will be changed to 'lbfgs' in 0.22. Specify a solver to silence this warning.\n",
      "  FutureWarning)\n",
      "C:\\Users\\student\\Anaconda3\\lib\\site-packages\\sklearn\\utils\\validation.py:724: DataConversionWarning: A column-vector y was passed when a 1d array was expected. Please change the shape of y to (n_samples, ), for example using ravel().\n",
      "  y = column_or_1d(y, warn=True)\n"
     ]
    },
    {
     "data": {
      "text/plain": [
       "LogisticRegression(C=1.0, class_weight=None, dual=False, fit_intercept=True,\n",
       "                   intercept_scaling=1, l1_ratio=None, max_iter=100,\n",
       "                   multi_class='warn', n_jobs=None, penalty='l2',\n",
       "                   random_state=None, solver='warn', tol=0.0001, verbose=0,\n",
       "                   warm_start=False)"
      ]
     },
     "execution_count": 5,
     "metadata": {},
     "output_type": "execute_result"
    }
   ],
   "source": [
    "from sklearn.linear_model import LogisticRegression \n",
    "\n",
    "logR = LogisticRegression() \n",
    "logR.fit(X_train, Y_train)   #학습"
   ]
  },
  {
   "cell_type": "code",
   "execution_count": 6,
   "metadata": {},
   "outputs": [
    {
     "name": "stdout",
     "output_type": "stream",
     "text": [
      "정확도:  0.8823529411764706\n",
      "정확도:  0.75\n"
     ]
    }
   ],
   "source": [
    "print('정확도: ' , logR.score(X_train, Y_train))\n",
    "print('정확도: ' , logR.score(X_test, Y_test))"
   ]
  },
  {
   "cell_type": "code",
   "execution_count": 7,
   "metadata": {},
   "outputs": [
    {
     "name": "stdout",
     "output_type": "stream",
     "text": [
      "              precision    recall  f1-score   support\n",
      "\n",
      "           0       0.50      1.00      0.67         2\n",
      "           1       1.00      0.67      0.80         6\n",
      "\n",
      "    accuracy                           0.75         8\n",
      "   macro avg       0.75      0.83      0.73         8\n",
      "weighted avg       0.88      0.75      0.77         8\n",
      "\n"
     ]
    }
   ],
   "source": [
    "#Confusion Matrix기반 정확률, 지지율, F1계수, 재현율을 계산해서 보고서 반환\n",
    "from sklearn.metrics import classification_report\n",
    "\n",
    "y_predict = logR.predict(X_test)\n",
    "\n",
    "print(classification_report(Y_test, y_predict ))   \n",
    "#실제 합격/불합격 테스트 데이터,  모형으로부터 예측된 합격/불합격 테스트 데이터 "
   ]
  },
  {
   "cell_type": "markdown",
   "metadata": {},
   "source": [
    "**방법2 :**"
   ]
  },
  {
   "cell_type": "code",
   "execution_count": 8,
   "metadata": {
    "scrolled": true
   },
   "outputs": [
    {
     "name": "stdout",
     "output_type": "stream",
     "text": [
      "Optimization terminated successfully.\n",
      "         Current function value: 0.431881\n",
      "         Iterations 7\n"
     ]
    },
    {
     "data": {
      "text/html": [
       "<table class=\"simpletable\">\n",
       "<tr>\n",
       "        <td>Model:</td>              <td>Logit</td>      <td>Pseudo R-squared:</td>    <td>0.370</td>  \n",
       "</tr>\n",
       "<tr>\n",
       "  <td>Dependent Variable:</td>       <td>_pass</td>            <td>AIC:</td>          <td>25.5940</td> \n",
       "</tr>\n",
       "<tr>\n",
       "         <td>Date:</td>        <td>2019-12-20 16:29</td>       <td>BIC:</td>          <td>28.0318</td> \n",
       "</tr>\n",
       "<tr>\n",
       "   <td>No. Observations:</td>         <td>25</td>         <td>Log-Likelihood:</td>    <td>-10.797</td> \n",
       "</tr>\n",
       "<tr>\n",
       "       <td>Df Model:</td>              <td>1</td>            <td>LL-Null:</td>        <td>-17.148</td> \n",
       "</tr>\n",
       "<tr>\n",
       "     <td>Df Residuals:</td>           <td>23</td>          <td>LLR p-value:</td>    <td>0.00036517</td>\n",
       "</tr>\n",
       "<tr>\n",
       "      <td>Converged:</td>           <td>1.0000</td>           <td>Scale:</td>         <td>1.0000</td>  \n",
       "</tr>\n",
       "<tr>\n",
       "    <td>No. Iterations:</td>        <td>7.0000</td>              <td></td>               <td></td>     \n",
       "</tr>\n",
       "</table>\n",
       "<table class=\"simpletable\">\n",
       "<tr>\n",
       "    <td></td>     <th>Coef.</th>  <th>Std.Err.</th>    <th>z</th>     <th>P>|z|</th> <th>[0.025</th>  <th>0.975]</th> \n",
       "</tr>\n",
       "<tr>\n",
       "  <th>score</th> <td>0.1320</td>   <td>0.0536</td>  <td>2.4625</td>  <td>0.0138</td> <td>0.0269</td>  <td>0.2371</td> \n",
       "</tr>\n",
       "<tr>\n",
       "  <th>grade</th> <td>-2.6205</td>  <td>1.0922</td>  <td>-2.3994</td> <td>0.0164</td> <td>-4.7611</td> <td>-0.4799</td>\n",
       "</tr>\n",
       "</table>"
      ],
      "text/plain": [
       "<class 'statsmodels.iolib.summary2.Summary'>\n",
       "\"\"\"\n",
       "                         Results: Logit\n",
       "=================================================================\n",
       "Model:              Logit            Pseudo R-squared: 0.370     \n",
       "Dependent Variable: _pass            AIC:              25.5940   \n",
       "Date:               2019-12-20 16:29 BIC:              28.0318   \n",
       "No. Observations:   25               Log-Likelihood:   -10.797   \n",
       "Df Model:           1                LL-Null:          -17.148   \n",
       "Df Residuals:       23               LLR p-value:      0.00036517\n",
       "Converged:          1.0000           Scale:            1.0000    \n",
       "No. Iterations:     7.0000                                       \n",
       "-------------------------------------------------------------------\n",
       "           Coef.    Std.Err.      z      P>|z|     [0.025    0.975]\n",
       "-------------------------------------------------------------------\n",
       "score      0.1320     0.0536    2.4625   0.0138    0.0269    0.2371\n",
       "grade     -2.6205     1.0922   -2.3994   0.0164   -4.7611   -0.4799\n",
       "=================================================================\n",
       "\n",
       "\"\"\""
      ]
     },
     "execution_count": 8,
     "metadata": {},
     "output_type": "execute_result"
    }
   ],
   "source": [
    "import statsmodels.api as sm\n",
    "\n",
    "logit = sm.Logit(df['_pass'], X)  #로지스틱 회귀분석 실행\n",
    "result = logit.fit()\n",
    "result.summary2()"
   ]
  },
  {
   "cell_type": "markdown",
   "metadata": {},
   "source": [
    "--- "
   ]
  },
  {
   "cell_type": "markdown",
   "metadata": {},
   "source": [
    "### 로지스틱 회귀 분석을 수행하시오\n",
    "\n",
    "weather.csv파일을 읽어서 Temp, Sunshine,  Humidity, Pressure, Cloud, RainToday , RainTomorrow 특성을 읽어서 dataframe으로 생성하고\n",
    "RainTomorrow 변수(특성)을  로짓변환 (출력범위를 [0,1]로 조정) 합니다.\n",
    "\n",
    "데이터를 train data 와 test data=> 7:3 비율로 분리하여 \n",
    "로지스틱 회귀분석을 수행하고, 모델의 정확도를 출력하고\n",
    "Temp, Sunshine,  Humidity, Pressure, Cloud가 내일 비가 올것이라고 예보하는 영향도를 평가하시오"
   ]
  },
  {
   "cell_type": "code",
   "execution_count": null,
   "metadata": {},
   "outputs": [],
   "source": [
    "import pandas as pd\n",
    "import numpy as np\n",
    "import seaborn as sns\n",
    "\n",
    "import matplotlib.pyplot as plt\n",
    "%matplotlib inline \n",
    "\n",
    "from matplotlib import font_manager, rc\n",
    "font_name = font_manager.FontProperties(fname=\"c:/Windows/Fonts/malgun.ttf\").get_name()\n",
    "rc('font', family=font_name)"
   ]
  },
  {
   "cell_type": "code",
   "execution_count": 16,
   "metadata": {},
   "outputs": [
    {
     "data": {
      "text/html": [
       "<div>\n",
       "<style scoped>\n",
       "    .dataframe tbody tr th:only-of-type {\n",
       "        vertical-align: middle;\n",
       "    }\n",
       "\n",
       "    .dataframe tbody tr th {\n",
       "        vertical-align: top;\n",
       "    }\n",
       "\n",
       "    .dataframe thead th {\n",
       "        text-align: right;\n",
       "    }\n",
       "</style>\n",
       "<table border=\"1\" class=\"dataframe\">\n",
       "  <thead>\n",
       "    <tr style=\"text-align: right;\">\n",
       "      <th></th>\n",
       "      <th>Date</th>\n",
       "      <th>MinTemp</th>\n",
       "      <th>MaxTemp</th>\n",
       "      <th>Rainfall</th>\n",
       "      <th>Sunshine</th>\n",
       "      <th>WindGustDir</th>\n",
       "      <th>WindGustSpeed</th>\n",
       "      <th>WindDir</th>\n",
       "      <th>WindSpeed</th>\n",
       "      <th>Humidity</th>\n",
       "      <th>Pressure</th>\n",
       "      <th>Cloud</th>\n",
       "      <th>Temp</th>\n",
       "      <th>RainToday</th>\n",
       "      <th>RainTomorrow</th>\n",
       "    </tr>\n",
       "  </thead>\n",
       "  <tbody>\n",
       "    <tr>\n",
       "      <td>0</td>\n",
       "      <td>2014-11-01</td>\n",
       "      <td>8.0</td>\n",
       "      <td>24.3</td>\n",
       "      <td>0.0</td>\n",
       "      <td>6.3</td>\n",
       "      <td>NW</td>\n",
       "      <td>30.0</td>\n",
       "      <td>NW</td>\n",
       "      <td>20</td>\n",
       "      <td>29</td>\n",
       "      <td>1015.0</td>\n",
       "      <td>7</td>\n",
       "      <td>23.6</td>\n",
       "      <td>No</td>\n",
       "      <td>Yes</td>\n",
       "    </tr>\n",
       "    <tr>\n",
       "      <td>1</td>\n",
       "      <td>2014-11-02</td>\n",
       "      <td>14.0</td>\n",
       "      <td>26.9</td>\n",
       "      <td>3.6</td>\n",
       "      <td>9.7</td>\n",
       "      <td>ENE</td>\n",
       "      <td>39.0</td>\n",
       "      <td>W</td>\n",
       "      <td>17</td>\n",
       "      <td>36</td>\n",
       "      <td>1008.4</td>\n",
       "      <td>3</td>\n",
       "      <td>25.7</td>\n",
       "      <td>Yes</td>\n",
       "      <td>Yes</td>\n",
       "    </tr>\n",
       "    <tr>\n",
       "      <td>2</td>\n",
       "      <td>2014-11-03</td>\n",
       "      <td>13.7</td>\n",
       "      <td>23.4</td>\n",
       "      <td>3.6</td>\n",
       "      <td>3.3</td>\n",
       "      <td>NW</td>\n",
       "      <td>85.0</td>\n",
       "      <td>NNE</td>\n",
       "      <td>6</td>\n",
       "      <td>69</td>\n",
       "      <td>1007.2</td>\n",
       "      <td>7</td>\n",
       "      <td>20.2</td>\n",
       "      <td>Yes</td>\n",
       "      <td>Yes</td>\n",
       "    </tr>\n",
       "    <tr>\n",
       "      <td>3</td>\n",
       "      <td>2014-11-04</td>\n",
       "      <td>13.3</td>\n",
       "      <td>15.5</td>\n",
       "      <td>39.8</td>\n",
       "      <td>9.1</td>\n",
       "      <td>NW</td>\n",
       "      <td>54.0</td>\n",
       "      <td>W</td>\n",
       "      <td>24</td>\n",
       "      <td>56</td>\n",
       "      <td>1007.0</td>\n",
       "      <td>7</td>\n",
       "      <td>14.1</td>\n",
       "      <td>Yes</td>\n",
       "      <td>Yes</td>\n",
       "    </tr>\n",
       "    <tr>\n",
       "      <td>4</td>\n",
       "      <td>2014-11-05</td>\n",
       "      <td>7.6</td>\n",
       "      <td>16.1</td>\n",
       "      <td>2.8</td>\n",
       "      <td>10.6</td>\n",
       "      <td>SSE</td>\n",
       "      <td>50.0</td>\n",
       "      <td>ESE</td>\n",
       "      <td>28</td>\n",
       "      <td>49</td>\n",
       "      <td>1018.5</td>\n",
       "      <td>7</td>\n",
       "      <td>15.4</td>\n",
       "      <td>Yes</td>\n",
       "      <td>No</td>\n",
       "    </tr>\n",
       "  </tbody>\n",
       "</table>\n",
       "</div>"
      ],
      "text/plain": [
       "         Date  MinTemp  MaxTemp  Rainfall  Sunshine WindGustDir  \\\n",
       "0  2014-11-01      8.0     24.3       0.0       6.3          NW   \n",
       "1  2014-11-02     14.0     26.9       3.6       9.7         ENE   \n",
       "2  2014-11-03     13.7     23.4       3.6       3.3          NW   \n",
       "3  2014-11-04     13.3     15.5      39.8       9.1          NW   \n",
       "4  2014-11-05      7.6     16.1       2.8      10.6         SSE   \n",
       "\n",
       "   WindGustSpeed WindDir  WindSpeed  Humidity  Pressure  Cloud  Temp  \\\n",
       "0           30.0      NW         20        29    1015.0      7  23.6   \n",
       "1           39.0       W         17        36    1008.4      3  25.7   \n",
       "2           85.0     NNE          6        69    1007.2      7  20.2   \n",
       "3           54.0       W         24        56    1007.0      7  14.1   \n",
       "4           50.0     ESE         28        49    1018.5      7  15.4   \n",
       "\n",
       "  RainToday RainTomorrow  \n",
       "0        No          Yes  \n",
       "1       Yes          Yes  \n",
       "2       Yes          Yes  \n",
       "3       Yes          Yes  \n",
       "4       Yes           No  "
      ]
     },
     "execution_count": 16,
     "metadata": {},
     "output_type": "execute_result"
    }
   ],
   "source": [
    "df = pd.read_csv(\"./data/weather.csv\", encoding=\"cp949\")\n",
    "df.head()"
   ]
  },
  {
   "cell_type": "code",
   "execution_count": 17,
   "metadata": {
    "scrolled": true
   },
   "outputs": [
    {
     "data": {
      "text/html": [
       "<div>\n",
       "<style scoped>\n",
       "    .dataframe tbody tr th:only-of-type {\n",
       "        vertical-align: middle;\n",
       "    }\n",
       "\n",
       "    .dataframe tbody tr th {\n",
       "        vertical-align: top;\n",
       "    }\n",
       "\n",
       "    .dataframe thead th {\n",
       "        text-align: right;\n",
       "    }\n",
       "</style>\n",
       "<table border=\"1\" class=\"dataframe\">\n",
       "  <thead>\n",
       "    <tr style=\"text-align: right;\">\n",
       "      <th></th>\n",
       "      <th>Temp</th>\n",
       "      <th>Sunshine</th>\n",
       "      <th>Humidity</th>\n",
       "      <th>Pressure</th>\n",
       "      <th>Cloud</th>\n",
       "      <th>RainToday</th>\n",
       "      <th>RainTomorrow</th>\n",
       "    </tr>\n",
       "  </thead>\n",
       "  <tbody>\n",
       "    <tr>\n",
       "      <td>0</td>\n",
       "      <td>23.6</td>\n",
       "      <td>6.3</td>\n",
       "      <td>29</td>\n",
       "      <td>1015.0</td>\n",
       "      <td>7</td>\n",
       "      <td>No</td>\n",
       "      <td>Yes</td>\n",
       "    </tr>\n",
       "    <tr>\n",
       "      <td>1</td>\n",
       "      <td>25.7</td>\n",
       "      <td>9.7</td>\n",
       "      <td>36</td>\n",
       "      <td>1008.4</td>\n",
       "      <td>3</td>\n",
       "      <td>Yes</td>\n",
       "      <td>Yes</td>\n",
       "    </tr>\n",
       "    <tr>\n",
       "      <td>2</td>\n",
       "      <td>20.2</td>\n",
       "      <td>3.3</td>\n",
       "      <td>69</td>\n",
       "      <td>1007.2</td>\n",
       "      <td>7</td>\n",
       "      <td>Yes</td>\n",
       "      <td>Yes</td>\n",
       "    </tr>\n",
       "    <tr>\n",
       "      <td>3</td>\n",
       "      <td>14.1</td>\n",
       "      <td>9.1</td>\n",
       "      <td>56</td>\n",
       "      <td>1007.0</td>\n",
       "      <td>7</td>\n",
       "      <td>Yes</td>\n",
       "      <td>Yes</td>\n",
       "    </tr>\n",
       "    <tr>\n",
       "      <td>4</td>\n",
       "      <td>15.4</td>\n",
       "      <td>10.6</td>\n",
       "      <td>49</td>\n",
       "      <td>1018.5</td>\n",
       "      <td>7</td>\n",
       "      <td>Yes</td>\n",
       "      <td>No</td>\n",
       "    </tr>\n",
       "  </tbody>\n",
       "</table>\n",
       "</div>"
      ],
      "text/plain": [
       "   Temp  Sunshine  Humidity  Pressure  Cloud RainToday RainTomorrow\n",
       "0  23.6       6.3        29    1015.0      7        No          Yes\n",
       "1  25.7       9.7        36    1008.4      3       Yes          Yes\n",
       "2  20.2       3.3        69    1007.2      7       Yes          Yes\n",
       "3  14.1       9.1        56    1007.0      7       Yes          Yes\n",
       "4  15.4      10.6        49    1018.5      7       Yes           No"
      ]
     },
     "execution_count": 17,
     "metadata": {},
     "output_type": "execute_result"
    }
   ],
   "source": [
    "df = df[['Temp','Sunshine','Humidity','Pressure','Cloud','RainToday','RainTomorrow']]\n",
    "df.head()"
   ]
  },
  {
   "cell_type": "code",
   "execution_count": null,
   "metadata": {},
   "outputs": [],
   "source": []
  },
  {
   "cell_type": "code",
   "execution_count": null,
   "metadata": {},
   "outputs": [],
   "source": [
    "X=df[['score', 'grade']]\n",
    "Y=df[['_pass']]"
   ]
  },
  {
   "cell_type": "code",
   "execution_count": null,
   "metadata": {},
   "outputs": [],
   "source": [
    "# train data 와 test data를 7:3 비율로 분리\n",
    "from sklearn.model_selection import train_test_split\n",
    "\n",
    "X_train, X_test, Y_train, Y_test = train_test_split(X, Y, test_size=0.3, random_state=0)  "
   ]
  },
  {
   "cell_type": "code",
   "execution_count": null,
   "metadata": {},
   "outputs": [],
   "source": [
    "from sklearn.linear_model import LogisticRegression \n",
    "\n",
    "logR = LogisticRegression() \n",
    "logR.fit(X_train, Y_train)   #학습"
   ]
  },
  {
   "cell_type": "code",
   "execution_count": null,
   "metadata": {},
   "outputs": [],
   "source": []
  }
 ],
 "metadata": {
  "kernelspec": {
   "display_name": "Python 3",
   "language": "python",
   "name": "python3"
  },
  "language_info": {
   "codemirror_mode": {
    "name": "ipython",
    "version": 3
   },
   "file_extension": ".py",
   "mimetype": "text/x-python",
   "name": "python",
   "nbconvert_exporter": "python",
   "pygments_lexer": "ipython3",
   "version": "3.7.3"
  }
 },
 "nbformat": 4,
 "nbformat_minor": 2
}
