{
 "cells": [
  {
   "cell_type": "markdown",
   "metadata": {},
   "source": [
    "## 지도 이용 시각화"
   ]
  },
  {
   "cell_type": "code",
   "execution_count": 8,
   "metadata": {
    "scrolled": false
   },
   "outputs": [],
   "source": [
    "import folium\n",
    "seoul_map = folium.Map(location=[37.55, 126.98], zoom_start=12)\n",
    "\n",
    "seoul_map.save('./output/seoul.html')"
   ]
  },
  {
   "cell_type": "code",
   "execution_count": 9,
   "metadata": {},
   "outputs": [],
   "source": [
    "import folium\n",
    "seoul_map1 = folium.Map(location=[37.55, 126.98], tiles = 'Stamen Terrain' , zoom_start=12)\n",
    "seoul_map2 = folium.Map(location=[37.55, 126.98], tiles = 'Stamen Toner' , zoom_start=12)\n",
    "\n",
    "seoul_map2.save('./output/seoul2.html')\n",
    "seoul_map1.save('./output/seoul1.html')"
   ]
  },
  {
   "cell_type": "markdown",
   "metadata": {},
   "source": [
    "---"
   ]
  },
  {
   "cell_type": "code",
   "execution_count": 11,
   "metadata": {},
   "outputs": [],
   "source": [
    "import folium\n",
    "import pandas as pd"
   ]
  },
  {
   "cell_type": "code",
   "execution_count": 14,
   "metadata": {},
   "outputs": [
    {
     "data": {
      "text/html": [
       "<div>\n",
       "<style scoped>\n",
       "    .dataframe tbody tr th:only-of-type {\n",
       "        vertical-align: middle;\n",
       "    }\n",
       "\n",
       "    .dataframe tbody tr th {\n",
       "        vertical-align: top;\n",
       "    }\n",
       "\n",
       "    .dataframe thead th {\n",
       "        text-align: right;\n",
       "    }\n",
       "</style>\n",
       "<table border=\"1\" class=\"dataframe\">\n",
       "  <thead>\n",
       "    <tr style=\"text-align: right;\">\n",
       "      <th></th>\n",
       "      <th>Unnamed: 0</th>\n",
       "      <th>위도</th>\n",
       "      <th>경도</th>\n",
       "    </tr>\n",
       "  </thead>\n",
       "  <tbody>\n",
       "    <tr>\n",
       "      <td>0</td>\n",
       "      <td>KAIST 서울캠퍼스</td>\n",
       "      <td>37.592573</td>\n",
       "      <td>127.046737</td>\n",
       "    </tr>\n",
       "    <tr>\n",
       "      <td>1</td>\n",
       "      <td>KC대학교</td>\n",
       "      <td>37.548345</td>\n",
       "      <td>126.854797</td>\n",
       "    </tr>\n",
       "    <tr>\n",
       "      <td>2</td>\n",
       "      <td>가톨릭대학교(성신교정)</td>\n",
       "      <td>37.585922</td>\n",
       "      <td>127.004328</td>\n",
       "    </tr>\n",
       "    <tr>\n",
       "      <td>3</td>\n",
       "      <td>가톨릭대학교(성의교정)</td>\n",
       "      <td>37.499623</td>\n",
       "      <td>127.006065</td>\n",
       "    </tr>\n",
       "    <tr>\n",
       "      <td>4</td>\n",
       "      <td>감리교신학대학교</td>\n",
       "      <td>37.567645</td>\n",
       "      <td>126.961610</td>\n",
       "    </tr>\n",
       "  </tbody>\n",
       "</table>\n",
       "</div>"
      ],
      "text/plain": [
       "     Unnamed: 0         위도          경도\n",
       "0  KAIST 서울캠퍼스   37.592573  127.046737\n",
       "1         KC대학교  37.548345  126.854797\n",
       "2  가톨릭대학교(성신교정)  37.585922  127.004328\n",
       "3  가톨릭대학교(성의교정)  37.499623  127.006065\n",
       "4      감리교신학대학교  37.567645  126.961610"
      ]
     },
     "execution_count": 14,
     "metadata": {},
     "output_type": "execute_result"
    }
   ],
   "source": [
    "df = pd.read_excel('./data/서울지역 대학교 위치.xlsx')\n",
    "df.head()"
   ]
  },
  {
   "cell_type": "code",
   "execution_count": 17,
   "metadata": {},
   "outputs": [],
   "source": [
    "seoul_map = folium.Map(location=[37.55, 126.98], tiles = 'Stamen Terrain' , zoom_start=12)\n",
    "\n",
    "for name, lat, lng in zip(df.index, df.위도, df.경도):\n",
    "    folium.Marker([lat, lng], popup=name).add_to(seoul_map)\n",
    "\n",
    "seoul_map.save('./output/seoul_colleges.html')"
   ]
  },
  {
   "cell_type": "code",
   "execution_count": 20,
   "metadata": {},
   "outputs": [],
   "source": [
    "seoul_map = folium.Map(location=[37.55, 126.98], tiles = 'Stamen Terrain' , zoom_start=12)\n",
    "\n",
    "for  name, lat, lng in zip(df.대학, df.위도, df.경도):\n",
    "    folium.CircleMarker([lat, lng], radius=10, color='black' , fill=True,  fill_color='yellow',\n",
    "                                          fill_opacity=0.7,  popup=name).add_to(seoul_map)\t\n",
    "\n",
    "seoul_map.save('./output/seoul_colleges2.html')"
   ]
  },
  {
   "cell_type": "markdown",
   "metadata": {},
   "source": [
    "---"
   ]
  },
  {
   "cell_type": "code",
   "execution_count": 21,
   "metadata": {
    "scrolled": true
   },
   "outputs": [
    {
     "data": {
      "text/html": [
       "<div>\n",
       "<style scoped>\n",
       "    .dataframe tbody tr th:only-of-type {\n",
       "        vertical-align: middle;\n",
       "    }\n",
       "\n",
       "    .dataframe tbody tr th {\n",
       "        vertical-align: top;\n",
       "    }\n",
       "\n",
       "    .dataframe thead th {\n",
       "        text-align: right;\n",
       "    }\n",
       "</style>\n",
       "<table border=\"1\" class=\"dataframe\">\n",
       "  <thead>\n",
       "    <tr style=\"text-align: right;\">\n",
       "      <th></th>\n",
       "      <th>2007</th>\n",
       "      <th>2008</th>\n",
       "      <th>2009</th>\n",
       "      <th>2010</th>\n",
       "      <th>2011</th>\n",
       "      <th>2012</th>\n",
       "      <th>2013</th>\n",
       "      <th>2014</th>\n",
       "      <th>2015</th>\n",
       "      <th>2016</th>\n",
       "      <th>2017</th>\n",
       "    </tr>\n",
       "    <tr>\n",
       "      <th>구분</th>\n",
       "      <th></th>\n",
       "      <th></th>\n",
       "      <th></th>\n",
       "      <th></th>\n",
       "      <th></th>\n",
       "      <th></th>\n",
       "      <th></th>\n",
       "      <th></th>\n",
       "      <th></th>\n",
       "      <th></th>\n",
       "      <th></th>\n",
       "    </tr>\n",
       "  </thead>\n",
       "  <tbody>\n",
       "    <tr>\n",
       "      <td>수원시장안구</td>\n",
       "      <td>287474</td>\n",
       "      <td>285803</td>\n",
       "      <td>290798</td>\n",
       "      <td>293692</td>\n",
       "      <td>290999</td>\n",
       "      <td>291757</td>\n",
       "      <td>300908</td>\n",
       "      <td>301196</td>\n",
       "      <td>299016</td>\n",
       "      <td>296479</td>\n",
       "      <td>293828</td>\n",
       "    </tr>\n",
       "    <tr>\n",
       "      <td>수원시권선구</td>\n",
       "      <td>310553</td>\n",
       "      <td>308177</td>\n",
       "      <td>304097</td>\n",
       "      <td>306783</td>\n",
       "      <td>321176</td>\n",
       "      <td>332633</td>\n",
       "      <td>331773</td>\n",
       "      <td>339835</td>\n",
       "      <td>351053</td>\n",
       "      <td>358393</td>\n",
       "      <td>365653</td>\n",
       "    </tr>\n",
       "    <tr>\n",
       "      <td>수원시팔달구</td>\n",
       "      <td>216945</td>\n",
       "      <td>213235</td>\n",
       "      <td>219833</td>\n",
       "      <td>216503</td>\n",
       "      <td>209772</td>\n",
       "      <td>206794</td>\n",
       "      <td>204805</td>\n",
       "      <td>203479</td>\n",
       "      <td>199180</td>\n",
       "      <td>198515</td>\n",
       "      <td>193311</td>\n",
       "    </tr>\n",
       "    <tr>\n",
       "      <td>수원시영통구</td>\n",
       "      <td>252730</td>\n",
       "      <td>260210</td>\n",
       "      <td>258421</td>\n",
       "      <td>260557</td>\n",
       "      <td>266542</td>\n",
       "      <td>289074</td>\n",
       "      <td>310671</td>\n",
       "      <td>329718</td>\n",
       "      <td>335375</td>\n",
       "      <td>340654</td>\n",
       "      <td>349836</td>\n",
       "    </tr>\n",
       "    <tr>\n",
       "      <td>성남시수정구</td>\n",
       "      <td>256744</td>\n",
       "      <td>248452</td>\n",
       "      <td>242161</td>\n",
       "      <td>241070</td>\n",
       "      <td>236123</td>\n",
       "      <td>233997</td>\n",
       "      <td>228167</td>\n",
       "      <td>223539</td>\n",
       "      <td>219531</td>\n",
       "      <td>232841</td>\n",
       "      <td>236932</td>\n",
       "    </tr>\n",
       "  </tbody>\n",
       "</table>\n",
       "</div>"
      ],
      "text/plain": [
       "          2007    2008    2009    2010    2011    2012    2013    2014  \\\n",
       "구분                                                                       \n",
       "수원시장안구  287474  285803  290798  293692  290999  291757  300908  301196   \n",
       "수원시권선구  310553  308177  304097  306783  321176  332633  331773  339835   \n",
       "수원시팔달구  216945  213235  219833  216503  209772  206794  204805  203479   \n",
       "수원시영통구  252730  260210  258421  260557  266542  289074  310671  329718   \n",
       "성남시수정구  256744  248452  242161  241070  236123  233997  228167  223539   \n",
       "\n",
       "          2015    2016    2017  \n",
       "구분                              \n",
       "수원시장안구  299016  296479  293828  \n",
       "수원시권선구  351053  358393  365653  \n",
       "수원시팔달구  199180  198515  193311  \n",
       "수원시영통구  335375  340654  349836  \n",
       "성남시수정구  219531  232841  236932  "
      ]
     },
     "execution_count": 21,
     "metadata": {},
     "output_type": "execute_result"
    }
   ],
   "source": [
    "df = pd.read_excel('./data/경기도인구데이터.xlsx', index_col='구분')\n",
    "df.columns=df.columns.map(str)\n",
    "df.head()"
   ]
  },
  {
   "cell_type": "code",
   "execution_count": 25,
   "metadata": {},
   "outputs": [],
   "source": [
    "import json\n",
    "\n",
    "geo_data = json.load(open('./data/경기도행정구역경계.json', encoding='utf-8'))\n",
    "\n",
    "g_map = folium.Map(location=[37.5502, 126.982], tiles = 'Stamen Terrain' , zoom_start=9) \t\n",
    "year= '2017'\n",
    "folium.Choropleth(geo_data=geo_data,\n",
    "                        data= df[year],\n",
    "                        columns = [df.index, df[year]],\n",
    "                        fill_color='YlOrRd', fill_opacity=0.7, line_opacity=0.3,\n",
    "                        threshold_scale=[10000, 100000, 300000, 500000, 700000],\n",
    "                        key_on = 'feature.properties.name').add_to(g_map)\n",
    "\n",
    "g_map.save('./output/gyonggi_pop_2017.html')"
   ]
  },
  {
   "cell_type": "code",
   "execution_count": null,
   "metadata": {},
   "outputs": [],
   "source": []
  },
  {
   "cell_type": "code",
   "execution_count": null,
   "metadata": {},
   "outputs": [],
   "source": []
  },
  {
   "cell_type": "code",
   "execution_count": null,
   "metadata": {},
   "outputs": [],
   "source": []
  }
 ],
 "metadata": {
  "kernelspec": {
   "display_name": "Python 3",
   "language": "python",
   "name": "python3"
  },
  "language_info": {
   "codemirror_mode": {
    "name": "ipython",
    "version": 3
   },
   "file_extension": ".py",
   "mimetype": "text/x-python",
   "name": "python",
   "nbconvert_exporter": "python",
   "pygments_lexer": "ipython3",
   "version": "3.7.4"
  }
 },
 "nbformat": 4,
 "nbformat_minor": 2
}
