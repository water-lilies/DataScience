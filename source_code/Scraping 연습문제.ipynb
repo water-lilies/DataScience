{
 "cells": [
  {
   "cell_type": "markdown",
   "metadata": {},
   "source": [
    "스크래핑할 웹 사이트 URL \n",
    ">url <-'https://www.imdb.com/search/title/?count=100&release_date=2019,2019&title_type=feature' \\\n",
    " https://www.imdb.com/search/title/?count=100&release_date=2018,2018&title_type=feature \\\n",
    " http://www.imdb.com/search/title?count=100&release_date=2017,2017&title_type=feature\n",
    "\n",
    "- 스크래핑할 데이터 - rank, title, description, runtime, genre, rating, metascore, votes, gross_earning_in_Mil, director, actor\n",
    "\n",
    "\n",
    "- 스크래핑한 데이터 pandas의 data.frame으로 변환하여 2017bestfilms.csv파일로 저장하거나 Database의 테이블에 저장하시오\n",
    "\n",
    "    1. gross revenue(총수익)  높은 필름(영화)는?\n",
    "\n",
    "    2. 상영시간이 가장 긴 필름의 장르는?\n",
    " \n",
    "    3. 상영시간이 130-160 분인 장르중 votes가 가장 높은 것은?\n",
    " "
   ]
  },
  {
   "cell_type": "code",
   "execution_count": null,
   "metadata": {},
   "outputs": [],
   "source": []
  },
  {
   "cell_type": "code",
   "execution_count": null,
   "metadata": {},
   "outputs": [],
   "source": []
  },
  {
   "cell_type": "code",
   "execution_count": null,
   "metadata": {},
   "outputs": [],
   "source": []
  }
 ],
 "metadata": {
  "kernelspec": {
   "display_name": "Python 3",
   "language": "python",
   "name": "python3"
  },
  "language_info": {
   "codemirror_mode": {
    "name": "ipython",
    "version": 3
   },
   "file_extension": ".py",
   "mimetype": "text/x-python",
   "name": "python",
   "nbconvert_exporter": "python",
   "pygments_lexer": "ipython3",
   "version": "3.7.4"
  }
 },
 "nbformat": 4,
 "nbformat_minor": 2
}
