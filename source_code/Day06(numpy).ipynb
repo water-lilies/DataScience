{
 "cells": [
  {
   "cell_type": "code",
   "execution_count": 41,
   "metadata": {},
   "outputs": [
    {
     "data": {
      "text/plain": [
       "'1.16.5'"
      ]
     },
     "execution_count": 41,
     "metadata": {},
     "output_type": "execute_result"
    }
   ],
   "source": [
    "from IPython.display import Image\n",
    "import numpy as np\n",
    "np.__version__"
   ]
  },
  {
   "cell_type": "markdown",
   "metadata": {},
   "source": [
    "numpy 배열\n",
    "- Numpy 배열은 다차원 배열을 지원\n",
    "- Numpy 배열의 구조는 \"Shape\"으로 표현\n",
    "- Shape은 배열의 구조를 파이썬 튜플 자료형을 이용하여 정의한다.\n",
    "- 다차원 배열의 데이터 방향을  axis로 표현 할 수 있다\n",
    "- 행방항(높이), 열방향(폭), 채널 방향은 각각 axis = 0, aixs = 1 그리고 axis = 2로 지정된다.\n",
    "- Numpy집계(Aggregation)함수는 배열 데이터의 집계 방향을 지정하는 axis 옵션을 제공한다.\n",
    "\n",
    "(ex) \n",
    "28*28 컬러사진은 높이가 28, 폭이 28, 각 픽셀은 3개 채널(RGB)로 구성된 데이터 구조를 갖는다.\n",
    "즉, 컬러사진 데이터는 Shaepe이 (28,28,3)인 3차원 배열이다."
   ]
  },
  {
   "cell_type": "markdown",
   "metadata": {},
   "source": [
    "numpy 패키지\n",
    "- 과학 계산을 위한 라이브러리\n",
    "- 강력한 N차원 배열 객체\n",
    "- 정교한 브로드캐스팅 기능\n",
    "- C/C++ 및 포트린 코드 통합 도구\n",
    "- 유용한 선형대수학, 푸리에 변환 및 난수 가능\n",
    "- 범용적 데이터 처리에 사용가능한 다차원 컨테이너\n",
    "- 다차원 배열을 처리하는데 필요한 여러 유용한 기능을 제공"
   ]
  },
  {
   "cell_type": "markdown",
   "metadata": {},
   "source": [
    "> **Numpy 1차원, 2차원, 3치원 배열과 Axis**\n",
    "\n",
    "![Numpy 1차원, 2차원, 3치원 배열과 Axis](img/nparr.jpg)"
   ]
  },
  {
   "cell_type": "markdown",
   "metadata": {},
   "source": [
    "http://taewan.kim/post/numpy_cheat_sheet/ ==> **numpy 참조하기**"
   ]
  },
  {
   "cell_type": "code",
   "execution_count": 8,
   "metadata": {},
   "outputs": [],
   "source": [
    "def pprint(arr):\n",
    "    print(\"type:{}\".format(type(arr)))\n",
    "    print(\"shape: {}, dimension: {}, dtype:{}\".format(arr.shape, arr.ndim, arr.dtype))\n",
    "    print(\"Array's Data:\\n\", arr)"
   ]
  },
  {
   "cell_type": "code",
   "execution_count": 9,
   "metadata": {
    "scrolled": true
   },
   "outputs": [
    {
     "name": "stdout",
     "output_type": "stream",
     "text": [
      "[[[1. 2. 3.]\n",
      "  [4. 5. 6.]]\n",
      "\n",
      " [[3. 2. 1.]\n",
      "  [4. 5. 6.]]]\n"
     ]
    }
   ],
   "source": [
    "#파이썬 3차원 배열로 NumPy 배열 생성, 원소 데이터 타입 지정\n",
    "arr = np.array([[[1,2,3], [4,5,6]], [[3,2,1], [4,5,6]]], dtype = float)\n",
    "a= np.array(arr, dtype = float)\n",
    "print(a)"
   ]
  },
  {
   "cell_type": "code",
   "execution_count": 10,
   "metadata": {},
   "outputs": [
    {
     "name": "stdout",
     "output_type": "stream",
     "text": [
      "type:<class 'numpy.ndarray'>\n",
      "shape: (5,), dimension: 1, dtype:float64\n",
      "Array's Data:\n",
      " [0.   0.25 0.5  0.75 1.  ]\n"
     ]
    },
    {
     "data": {
      "image/png": "[encoded data removed]",
      "text/plain": [
       "<Figure size 432x288 with 1 Axes>"
      ]
     },
     "metadata": {
      "needs_background": "light"
     },
     "output_type": "display_data"
    }
   ],
   "source": [
    "%matplotlib inline\n",
    "a = np.linspace(0, 1, 5)\n",
    "pprint(a)\n",
    "# linspace의 데이터 추출 시각화\n",
    "import matplotlib.pyplot as plt\n",
    "plt.plot(a, 'o')\n",
    "plt.show()"
   ]
  },
  {
   "cell_type": "code",
   "execution_count": 11,
   "metadata": {},
   "outputs": [
    {
     "name": "stdout",
     "output_type": "stream",
     "text": [
      "type:<class 'numpy.ndarray'>\n",
      "shape: (5,), dimension: 1, dtype:float64\n",
      "Array's Data:\n",
      " [0. 2. 4. 6. 8.]\n"
     ]
    },
    {
     "data": {
      "image/png": "[encoded data removed]",
      "text/plain": [
       "<Figure size 432x288 with 1 Axes>"
      ]
     },
     "metadata": {
      "needs_background": "light"
     },
     "output_type": "display_data"
    }
   ],
   "source": [
    "a = np.arange(0, 10, 2, np.float)\n",
    "pprint(a)\n",
    "# arange의 데이터 추출 시각화\n",
    "import matplotlib.pyplot as plt\n",
    "plt.plot(a, 'o')\n",
    "plt.show()"
   ]
  },
  {
   "cell_type": "code",
   "execution_count": 12,
   "metadata": {},
   "outputs": [
    {
     "name": "stdout",
     "output_type": "stream",
     "text": [
      "type:<class 'numpy.ndarray'>\n",
      "shape: (20,), dimension: 1, dtype:float64\n",
      "Array's Data:\n",
      " [ 1.25892541  1.40400425  1.565802    1.74624535  1.94748304  2.1719114\n",
      "  2.42220294  2.70133812  3.0126409   3.35981829  3.74700446  4.17881006\n",
      "  4.66037703  5.19743987  5.79639395  6.46437163  7.2093272   8.04013161\n",
      "  8.9666781  10.        ]\n"
     ]
    },
    {
     "data": {
      "image/png": "[encoded data removed]",
      "text/plain": [
       "<Figure size 432x288 with 1 Axes>"
      ]
     },
     "metadata": {
      "needs_background": "light"
     },
     "output_type": "display_data"
    }
   ],
   "source": [
    "a = np.logspace(0.1, 1, 20, endpoint=True)\n",
    "pprint(a)\n",
    "# logspace의 데이터 추출 시각화\n",
    "import matplotlib.pyplot as plt\n",
    "plt.plot(a, 'o')\n",
    "plt.show()"
   ]
  },
  {
   "cell_type": "code",
   "execution_count": 13,
   "metadata": {},
   "outputs": [
    {
     "name": "stdout",
     "output_type": "stream",
     "text": [
      "type:<class 'numpy.ndarray'>\n",
      "shape: (2, 3), dimension: 2, dtype:float64\n",
      "Array's Data:\n",
      " [[-0.47434296  0.57338196 -0.65707112]\n",
      " [-0.39638096  0.27196611 -0.29363552]]\n"
     ]
    },
    {
     "data": {
      "image/png": "[encoded data removed]",
      "text/plain": [
       "<Figure size 432x288 with 1 Axes>"
      ]
     },
     "metadata": {
      "needs_background": "light"
     },
     "output_type": "display_data"
    }
   ],
   "source": [
    "mean = 0\n",
    "std = 1\n",
    "a = np.random.normal(mean, std, (2, 3))\n",
    "pprint(a)\n",
    "data = np.random.normal(0, 1, 10000)\n",
    "import matplotlib.pyplot as plt\n",
    "plt.hist(data, bins=100)\n",
    "plt.show()"
   ]
  },
  {
   "cell_type": "code",
   "execution_count": 14,
   "metadata": {},
   "outputs": [
    {
     "name": "stdout",
     "output_type": "stream",
     "text": [
      "type:<class 'numpy.ndarray'>\n",
      "shape: (3, 2), dimension: 2, dtype:float64\n",
      "Array's Data:\n",
      " [[0.92067211 0.30199406]\n",
      " [0.318148   0.55671196]\n",
      " [0.65580092 0.35192484]]\n"
     ]
    },
    {
     "data": {
      "image/png": "[encoded data removed]",
      "text/plain": [
       "<Figure size 432x288 with 1 Axes>"
      ]
     },
     "metadata": {
      "needs_background": "light"
     },
     "output_type": "display_data"
    }
   ],
   "source": [
    "a = np.random.rand(3,2)\n",
    "pprint(a)\n",
    "data = np.random.rand(10000)\n",
    "import matplotlib.pyplot as plt\n",
    "plt.hist(data, bins=10)\n",
    "plt.show()"
   ]
  },
  {
   "cell_type": "code",
   "execution_count": 15,
   "metadata": {},
   "outputs": [
    {
     "name": "stdout",
     "output_type": "stream",
     "text": [
      "type:<class 'numpy.ndarray'>\n",
      "shape: (2, 4), dimension: 2, dtype:int32\n",
      "Array's Data:\n",
      " [[7 7 5 9]\n",
      " [7 8 6 9]]\n",
      "type:<class 'numpy.ndarray'>\n",
      "shape: (10,), dimension: 1, dtype:int32\n",
      "Array's Data:\n",
      " [0 0 0 0 0 0 0 0 0 0]\n"
     ]
    }
   ],
   "source": [
    "a = np.random.randint(5, 10, size=(2, 4))\n",
    "pprint(a)\n",
    "a = np.random.randint(1, size=10)\n",
    "pprint(a)"
   ]
  },
  {
   "cell_type": "code",
   "execution_count": 16,
   "metadata": {},
   "outputs": [
    {
     "data": {
      "image/png": "[encoded data removed]",
      "text/plain": [
       "<Figure size 432x288 with 1 Axes>"
      ]
     },
     "metadata": {
      "needs_background": "light"
     },
     "output_type": "display_data"
    }
   ],
   "source": [
    "data = np.random.randint(-100, 100, 10000)\n",
    "import matplotlib.pyplot as plt\n",
    "plt.hist(data, bins=10)\n",
    "plt.show()"
   ]
  },
  {
   "cell_type": "code",
   "execution_count": 17,
   "metadata": {},
   "outputs": [
    {
     "name": "stdout",
     "output_type": "stream",
     "text": [
      "type:<class 'numpy.ndarray'>\n",
      "shape: (2, 4), dimension: 2, dtype:float64\n",
      "Array's Data:\n",
      " [[1.44392642e-01 3.34927286e-01 5.01645354e-01 7.30693964e-01]\n",
      " [9.48818276e-01 8.41574405e-01 2.04846766e-04 6.29369725e-01]]\n"
     ]
    }
   ],
   "source": [
    "a = np.random.random((2, 4))\n",
    "pprint(a)"
   ]
  },
  {
   "cell_type": "code",
   "execution_count": 18,
   "metadata": {},
   "outputs": [
    {
     "data": {
      "image/png": "[encoded data removed]",
      "text/plain": [
       "<Figure size 432x288 with 1 Axes>"
      ]
     },
     "metadata": {
      "needs_background": "light"
     },
     "output_type": "display_data"
    }
   ],
   "source": [
    "data = np.random.random(100000)\n",
    "import matplotlib.pyplot as plt\n",
    "plt.hist(data, bins=10)\n",
    "plt.show()"
   ]
  },
  {
   "cell_type": "code",
   "execution_count": 19,
   "metadata": {},
   "outputs": [
    {
     "name": "stdout",
     "output_type": "stream",
     "text": [
      "type:<class 'numpy.ndarray'>\n",
      "shape: (3, 3), dimension: 2, dtype:float64\n",
      "Array's Data:\n",
      " [[0.13129994 0.11020041 0.9576925 ]\n",
      " [0.59895538 0.13275723 0.89984549]\n",
      " [0.80167838 0.3849028  0.26439169]]\n",
      "type:<class 'numpy.ndarray'>\n",
      "shape: (3, 3), dimension: 2, dtype:float64\n",
      "Array's Data:\n",
      " [[0.11020041 0.13129994 0.9576925 ]\n",
      " [0.13275723 0.59895538 0.89984549]\n",
      " [0.26439169 0.3849028  0.80167838]]\n",
      "type:<class 'numpy.ndarray'>\n",
      "shape: (3, 3), dimension: 2, dtype:float64\n",
      "Array's Data:\n",
      " [[0.13129994 0.11020041 0.26439169]\n",
      " [0.59895538 0.13275723 0.89984549]\n",
      " [0.80167838 0.3849028  0.9576925 ]]\n",
      "type:<class 'numpy.ndarray'>\n",
      "shape: (3, 3), dimension: 2, dtype:float64\n",
      "Array's Data:\n",
      " [[0.11020041 0.13129994 0.9576925 ]\n",
      " [0.13275723 0.59895538 0.89984549]\n",
      " [0.26439169 0.3849028  0.80167838]]\n"
     ]
    }
   ],
   "source": [
    "#ndarray 객체는 axis를 기준으로 요소 정렬하는 sort 함수를 제공합니다.\n",
    "unsorted_arr = np.random.random((3, 3))\n",
    "pprint(unsorted_arr)\n",
    "#데모를 위한 배열 복사\n",
    "unsorted_arr1 = unsorted_arr.copy()\n",
    "unsorted_arr2 = unsorted_arr.copy()\n",
    "unsorted_arr3 = unsorted_arr.copy()\n",
    "\n",
    "unsorted_arr1.sort()  #배열 정렬\n",
    "pprint(unsorted_arr1)\n",
    "\n",
    "unsorted_arr2.sort(axis=0)   #배열 정렬, axis=0\n",
    "pprint(unsorted_arr2)\n",
    "\n",
    "unsorted_arr3.sort(axis=1) #배열 정렬, axis=1\n",
    "pprint(unsorted_arr3)"
   ]
  },
  {
   "cell_type": "code",
   "execution_count": null,
   "metadata": {},
   "outputs": [],
   "source": []
  },
  {
   "cell_type": "markdown",
   "metadata": {},
   "source": [
    "### 4.1.5  불리언 값으로 선택하기 (p.150)"
   ]
  },
  {
   "cell_type": "code",
   "execution_count": 44,
   "metadata": {},
   "outputs": [
    {
     "name": "stdout",
     "output_type": "stream",
     "text": [
      "type:<class 'numpy.ndarray'>\n",
      "shape: (4, 6), dimension: 2, dtype:int32\n",
      "Array's Data:\n",
      " [[ 1  2  3  4  5  6]\n",
      " [ 7  8  9 10 11 12]\n",
      " [13 14 15 16 17 18]\n",
      " [19 20 21 22 23 24]]\n",
      "type:<class 'numpy.ndarray'>\n",
      "shape: (4, 6), dimension: 2, dtype:bool\n",
      "Array's Data:\n",
      " [[False  True False  True False  True]\n",
      " [False  True False  True False  True]\n",
      " [False  True False  True False  True]\n",
      " [False  True False  True False  True]]\n"
     ]
    },
    {
     "data": {
      "text/plain": [
       "300"
      ]
     },
     "execution_count": 44,
     "metadata": {},
     "output_type": "execute_result"
    }
   ],
   "source": [
    "#NumPy는 불린 인덱싱은 배열 각 요소의 선택 여부를 True, False 지정하는 방식입니다. \n",
    "a1 = np.arange(1, 25).reshape((4, 6)) #2차원 배열\n",
    "pprint(a1)\n",
    "# 짝수인 요소 확인\n",
    "# numpy broadcasting을 이용하여 짝수인 배열 요소 확인\n",
    "even_arr = a1%2==0\n",
    "pprint(even_arr)\n",
    "# a1[a1%2==0] 동일한 의미입니다. \n",
    "a1[even_arr]\n",
    "np.sum(a1)"
   ]
  },
  {
   "cell_type": "code",
   "execution_count": 13,
   "metadata": {},
   "outputs": [
    {
     "data": {
      "text/plain": [
       "array(['Bob', 'Joe', 'Will', 'Bob', 'Will', 'Joe', 'Joe'], dtype='<U4')"
      ]
     },
     "execution_count": 13,
     "metadata": {},
     "output_type": "execute_result"
    }
   ],
   "source": [
    "names = np.array(['Bob','Joe','Will','Bob','Will','Joe','Joe'])\n",
    "names"
   ]
  },
  {
   "cell_type": "code",
   "execution_count": 14,
   "metadata": {
    "scrolled": true
   },
   "outputs": [
    {
     "data": {
      "text/plain": [
       "array([[-0.28737973, -0.65672843,  0.11971961,  0.45556505],\n",
       "       [-0.09122836, -0.45818964,  0.80576355,  1.16255199],\n",
       "       [-0.08238631,  0.73080004,  0.22310289,  0.33293745],\n",
       "       [ 0.26418751, -1.18059004,  0.73665936,  0.26264628],\n",
       "       [ 0.88059728, -0.64301105, -1.09053333, -1.64491896],\n",
       "       [-0.56374221,  0.32725713,  1.05444487, -0.3157143 ],\n",
       "       [ 0.22758656, -1.54708638,  1.24027022, -1.75525452]])"
      ]
     },
     "execution_count": 14,
     "metadata": {},
     "output_type": "execute_result"
    }
   ],
   "source": [
    "data = np.random.randn(7,4)\n",
    "data"
   ]
  },
  {
   "cell_type": "code",
   "execution_count": 7,
   "metadata": {},
   "outputs": [
    {
     "data": {
      "text/plain": [
       "array([ True, False, False,  True, False, False, False])"
      ]
     },
     "execution_count": 7,
     "metadata": {},
     "output_type": "execute_result"
    }
   ],
   "source": [
    "# 만약 전체 로우에서 'Bob'과 같은 이름을 선택하려면 \n",
    "# 산술연산과 마찬가지로 배열에 대한 비교연산도 백터화되므로 \n",
    "# names 를 'Bob'문자열과 비교하면 불리언 배열을 반환한다.\n",
    "names =='Bob'"
   ]
  },
  {
   "cell_type": "code",
   "execution_count": 9,
   "metadata": {},
   "outputs": [
    {
     "data": {
      "text/plain": [
       "array([[-0.0028144 ,  1.20534309, -0.78491645, -0.14165484],\n",
       "       [-0.99952491, -0.77991714,  0.4566568 ,  0.40197001]])"
      ]
     },
     "execution_count": 9,
     "metadata": {},
     "output_type": "execute_result"
    }
   ],
   "source": [
    "# 불리언 배열은 배열의 색인으로 사용 할 수 있다.\n",
    "data[names =='Bob']"
   ]
  },
  {
   "cell_type": "code",
   "execution_count": 10,
   "metadata": {},
   "outputs": [
    {
     "data": {
      "text/plain": [
       "array([[-0.78491645, -0.14165484],\n",
       "       [ 0.4566568 ,  0.40197001]])"
      ]
     },
     "execution_count": 10,
     "metadata": {},
     "output_type": "execute_result"
    }
   ],
   "source": [
    "data[names == 'Bob',2:]"
   ]
  },
  {
   "cell_type": "code",
   "execution_count": 11,
   "metadata": {},
   "outputs": [
    {
     "data": {
      "text/plain": [
       "array([-0.14165484,  0.40197001])"
      ]
     },
     "execution_count": 11,
     "metadata": {},
     "output_type": "execute_result"
    }
   ],
   "source": [
    "data[names == 'Bob',3]"
   ]
  },
  {
   "cell_type": "code",
   "execution_count": 12,
   "metadata": {},
   "outputs": [
    {
     "data": {
      "text/plain": [
       "array([ True, False,  True,  True,  True, False, False])"
      ]
     },
     "execution_count": 12,
     "metadata": {},
     "output_type": "execute_result"
    }
   ],
   "source": [
    "# &(and) 나 |(or) 연산자를 이용하여 여러개의 불리언 조건 사용 가능\n",
    "mask = (names == 'Bob') | (names == 'Will')\n",
    "mask"
   ]
  },
  {
   "cell_type": "code",
   "execution_count": 15,
   "metadata": {},
   "outputs": [
    {
     "data": {
      "text/plain": [
       "array([[-0.28737973, -0.65672843,  0.11971961,  0.45556505],\n",
       "       [-0.08238631,  0.73080004,  0.22310289,  0.33293745],\n",
       "       [ 0.26418751, -1.18059004,  0.73665936,  0.26264628],\n",
       "       [ 0.88059728, -0.64301105, -1.09053333, -1.64491896]])"
      ]
     },
     "execution_count": 15,
     "metadata": {},
     "output_type": "execute_result"
    }
   ],
   "source": [
    "data[mask]"
   ]
  },
  {
   "cell_type": "code",
   "execution_count": 16,
   "metadata": {},
   "outputs": [
    {
     "data": {
      "text/plain": [
       "array([[0.        , 0.        , 0.11971961, 0.45556505],\n",
       "       [0.        , 0.        , 0.80576355, 1.16255199],\n",
       "       [0.        , 0.73080004, 0.22310289, 0.33293745],\n",
       "       [0.26418751, 0.        , 0.73665936, 0.26264628],\n",
       "       [0.88059728, 0.        , 0.        , 0.        ],\n",
       "       [0.        , 0.32725713, 1.05444487, 0.        ],\n",
       "       [0.22758656, 0.        , 1.24027022, 0.        ]])"
      ]
     },
     "execution_count": 16,
     "metadata": {},
     "output_type": "execute_result"
    }
   ],
   "source": [
    "data[data<0] = 0\n",
    "data"
   ]
  },
  {
   "cell_type": "markdown",
   "metadata": {},
   "source": [
    "### 4.1.6 팬시 색인\n",
    ": 팬시인덱스는 정수 배열을 사용한 색인을 설명하기 위해 Numpy에서 차용한 단어이다.\n",
    "\n",
    "(= 배열에 인덱스 배열을 전달하여 요소를 참조하는 방법)\n",
    "\n",
    "팬시 인덱스는 슬라이싱과 달리 선택된 데이터를 새로운 배열로 복사한다."
   ]
  },
  {
   "cell_type": "code",
   "execution_count": 20,
   "metadata": {},
   "outputs": [
    {
     "name": "stdout",
     "output_type": "stream",
     "text": [
      "type:<class 'numpy.ndarray'>\n",
      "shape: (4, 6), dimension: 2, dtype:int32\n",
      "Array's Data:\n",
      " [[ 1  2  3  4  5  6]\n",
      " [ 7  8  9 10 11 12]\n",
      " [13 14 15 16 17 18]\n",
      " [19 20 21 22 23 24]]\n"
     ]
    }
   ],
   "source": [
    "arr = np.arange(1, 25).reshape((4, 6))\n",
    "pprint(arr)"
   ]
  },
  {
   "cell_type": "markdown",
   "metadata": {},
   "source": [
    "- Fancy Case 1"
   ]
  },
  {
   "cell_type": "code",
   "execution_count": 21,
   "metadata": {},
   "outputs": [
    {
     "data": {
      "text/plain": [
       "[1, 8, 15, 22]"
      ]
     },
     "execution_count": 21,
     "metadata": {},
     "output_type": "execute_result"
    }
   ],
   "source": [
    "[arr[0,0], arr[1, 1], arr[2, 2], arr[3, 3]]"
   ]
  },
  {
   "cell_type": "code",
   "execution_count": 22,
   "metadata": {},
   "outputs": [
    {
     "data": {
      "text/plain": [
       "array([ 1,  8, 15, 22])"
      ]
     },
     "execution_count": 22,
     "metadata": {},
     "output_type": "execute_result"
    }
   ],
   "source": [
    "# 두 배열을 전달==> (0, 0), (1,1), (2,2), (3, 3)\n",
    "arr[[0, 1, 2, 3], [0, 1, 2, 3]]"
   ]
  },
  {
   "cell_type": "markdown",
   "metadata": {},
   "source": [
    "- Fancy Case 2"
   ]
  },
  {
   "cell_type": "code",
   "execution_count": 23,
   "metadata": {},
   "outputs": [
    {
     "data": {
      "text/plain": [
       "array([[ 2,  3],\n",
       "       [ 8,  9],\n",
       "       [14, 15],\n",
       "       [20, 21]])"
      ]
     },
     "execution_count": 23,
     "metadata": {},
     "output_type": "execute_result"
    }
   ],
   "source": [
    "# 전체 행에 대해서, 1, 2번 컬럼 참조\n",
    "arr[:, [1, 2]]"
   ]
  },
  {
   "cell_type": "markdown",
   "metadata": {},
   "source": [
    "### 4.1.7 배열 전치와 축 바꾸기\n",
    "배열 전치는 데이터를 복사하지 않고 데이터의 모양이 바뀐 뷰를 반환하는 특별한 기능."
   ]
  },
  {
   "cell_type": "code",
   "execution_count": null,
   "metadata": {},
   "outputs": [],
   "source": [
    "# 전치(Transpose)\n",
    "# : 행렬의 인덱스가 바뀌는 변환"
   ]
  },
  {
   "cell_type": "code",
   "execution_count": 24,
   "metadata": {},
   "outputs": [
    {
     "name": "stdout",
     "output_type": "stream",
     "text": [
      "type:<class 'numpy.ndarray'>\n",
      "shape: (2, 3), dimension: 2, dtype:int32\n",
      "Array's Data:\n",
      " [[5 7 6]\n",
      " [1 4 5]]\n"
     ]
    }
   ],
   "source": [
    "# 행렬 생성\n",
    "a = np.random.randint(1, 10, (2, 3))\n",
    "pprint(a)"
   ]
  },
  {
   "cell_type": "code",
   "execution_count": 25,
   "metadata": {},
   "outputs": [
    {
     "name": "stdout",
     "output_type": "stream",
     "text": [
      "type:<class 'numpy.ndarray'>\n",
      "shape: (3, 2), dimension: 2, dtype:int32\n",
      "Array's Data:\n",
      " [[5 1]\n",
      " [7 4]\n",
      " [6 5]]\n"
     ]
    }
   ],
   "source": [
    "#행렬의 전치\n",
    "pprint(a.T)"
   ]
  },
  {
   "cell_type": "code",
   "execution_count": 28,
   "metadata": {},
   "outputs": [
    {
     "data": {
      "text/plain": [
       "array([[ 2.07850257, -1.31650594,  0.38385879],\n",
       "       [ 0.64023371,  0.57991399,  0.23822736],\n",
       "       [ 0.13156122, -0.31236801,  0.9511452 ],\n",
       "       [ 1.08051219,  0.03658807,  0.27444123],\n",
       "       [ 0.46730673, -0.22705572, -0.58790151],\n",
       "       [-0.95109935,  1.03917029, -1.44934241]])"
      ]
     },
     "execution_count": 28,
     "metadata": {},
     "output_type": "execute_result"
    }
   ],
   "source": [
    "# 행렬의 내적\n",
    "arr = np.random.randn(6,3)\n",
    "arr"
   ]
  },
  {
   "cell_type": "code",
   "execution_count": 29,
   "metadata": {},
   "outputs": [
    {
     "data": {
      "text/plain": [
       "array([[ 7.03785265, -3.46110103,  2.47578186],\n",
       "       [-3.46110103,  3.2998298 , -2.02689424],\n",
       "       [ 2.47578186, -2.02689424,  3.63031663]])"
      ]
     },
     "execution_count": 29,
     "metadata": {},
     "output_type": "execute_result"
    }
   ],
   "source": [
    "np.dot(arr.T,arr)\n",
    "# 혹은 arr.T@arr"
   ]
  },
  {
   "cell_type": "code",
   "execution_count": 31,
   "metadata": {},
   "outputs": [
    {
     "name": "stdout",
     "output_type": "stream",
     "text": [
      "[[[ 0  1  2]\n",
      "  [ 3  4  5]\n",
      "  [ 6  7  8]]\n",
      "\n",
      " [[ 9 10 11]\n",
      "  [12 13 14]\n",
      "  [15 16 17]]\n",
      "\n",
      " [[18 19 20]\n",
      "  [21 22 23]\n",
      "  [24 25 26]]]\n"
     ]
    }
   ],
   "source": [
    "# 3차원 배열\n",
    "a = np.arange(27).reshape(3,3,3)\n",
    "print(a)"
   ]
  },
  {
   "cell_type": "code",
   "execution_count": null,
   "metadata": {},
   "outputs": [],
   "source": [
    "# axis=None은 기본값으로 모든 요소의 값을 합산하여 1개의 스칼라값을 반환한다."
   ]
  },
  {
   "cell_type": "code",
   "execution_count": 32,
   "metadata": {},
   "outputs": [
    {
     "data": {
      "text/plain": [
       "array([[27, 30, 33],\n",
       "       [36, 39, 42],\n",
       "       [45, 48, 51]])"
      ]
     },
     "execution_count": 32,
     "metadata": {},
     "output_type": "execute_result"
    }
   ],
   "source": [
    "a.sum(axis=0) # 면 (x축을 기준으로 여러 row를 한개로 합치는 과정)"
   ]
  },
  {
   "cell_type": "code",
   "execution_count": 33,
   "metadata": {},
   "outputs": [
    {
     "data": {
      "text/plain": [
       "array([[ 9, 12, 15],\n",
       "       [36, 39, 42],\n",
       "       [63, 66, 69]])"
      ]
     },
     "execution_count": 33,
     "metadata": {},
     "output_type": "execute_result"
    }
   ],
   "source": [
    "a.sum(axis=1) # 열 (y축을 기준으로 row별로 존재하는 column들의 값을 합쳐 1개로 축소하는 과정)"
   ]
  },
  {
   "cell_type": "code",
   "execution_count": 34,
   "metadata": {},
   "outputs": [
    {
     "data": {
      "text/plain": [
       "array([[ 3, 12, 21],\n",
       "       [30, 39, 48],\n",
       "       [57, 66, 75]])"
      ]
     },
     "execution_count": 34,
     "metadata": {},
     "output_type": "execute_result"
    }
   ],
   "source": [
    "a.sum(axis=2) # 행 (z축을 기준으로 column의 depth가 가진 값을 축소하는 과정)"
   ]
  },
  {
   "cell_type": "code",
   "execution_count": 38,
   "metadata": {},
   "outputs": [
    {
     "data": {
      "text/plain": [
       "array([[[ 0,  1,  2,  3],\n",
       "        [ 4,  5,  6,  7]],\n",
       "\n",
       "       [[ 8,  9, 10, 11],\n",
       "        [12, 13, 14, 15]]])"
      ]
     },
     "execution_count": 38,
     "metadata": {},
     "output_type": "execute_result"
    }
   ],
   "source": [
    "# swapaxes 메서드\n",
    "# 두개의 축 번호를 받아서 배열을 바꾼다.\n",
    "\n",
    "arr = np.arange(16).reshape((2,2,4))\n",
    "arr"
   ]
  },
  {
   "cell_type": "code",
   "execution_count": 39,
   "metadata": {},
   "outputs": [
    {
     "data": {
      "text/plain": [
       "array([[[ 0,  4],\n",
       "        [ 1,  5],\n",
       "        [ 2,  6],\n",
       "        [ 3,  7]],\n",
       "\n",
       "       [[ 8, 12],\n",
       "        [ 9, 13],\n",
       "        [10, 14],\n",
       "        [11, 15]]])"
      ]
     },
     "execution_count": 39,
     "metadata": {},
     "output_type": "execute_result"
    }
   ],
   "source": [
    "arr.swapaxes(1,2)"
   ]
  },
  {
   "cell_type": "code",
   "execution_count": null,
   "metadata": {},
   "outputs": [],
   "source": []
  },
  {
   "cell_type": "code",
   "execution_count": null,
   "metadata": {},
   "outputs": [],
   "source": []
  },
  {
   "cell_type": "markdown",
   "metadata": {},
   "source": [
    "### Numpy 배열 객체의 산술연산"
   ]
  },
  {
   "cell_type": "code",
   "execution_count": 45,
   "metadata": {},
   "outputs": [
    {
     "name": "stdout",
     "output_type": "stream",
     "text": [
      "type:<class 'numpy.ndarray'>\n",
      "shape: (3, 3), dimension: 2, dtype:int32\n",
      "Array's Data:\n",
      " [[9 8 7]\n",
      " [6 5 4]\n",
      " [3 2 1]]\n"
     ]
    }
   ],
   "source": [
    "# arange로 9부터 0까지 범위에서 1씩 감소하는 배열 생성\n",
    "# 배열의 shape을 (3, 3)으로 지정\n",
    "b = np.arange(9, 0, -1).reshape(3, 3)\n",
    "pprint(b)"
   ]
  },
  {
   "cell_type": "code",
   "execution_count": 46,
   "metadata": {},
   "outputs": [
    {
     "data": {
      "text/plain": [
       "array([[[-9, -7, -5],\n",
       "        [-3, -1,  1],\n",
       "        [ 3,  5,  7]],\n",
       "\n",
       "       [[ 0,  2,  4],\n",
       "        [ 6,  8, 10],\n",
       "        [12, 14, 16]],\n",
       "\n",
       "       [[ 9, 11, 13],\n",
       "        [15, 17, 19],\n",
       "        [21, 23, 25]]])"
      ]
     },
     "execution_count": 46,
     "metadata": {},
     "output_type": "execute_result"
    }
   ],
   "source": [
    "a - b\n",
    "np.subtract(a, b)"
   ]
  },
  {
   "cell_type": "code",
   "execution_count": 47,
   "metadata": {},
   "outputs": [
    {
     "data": {
      "text/plain": [
       "array([[[ 9,  9,  9],\n",
       "        [ 9,  9,  9],\n",
       "        [ 9,  9,  9]],\n",
       "\n",
       "       [[18, 18, 18],\n",
       "        [18, 18, 18],\n",
       "        [18, 18, 18]],\n",
       "\n",
       "       [[27, 27, 27],\n",
       "        [27, 27, 27],\n",
       "        [27, 27, 27]]])"
      ]
     },
     "execution_count": 47,
     "metadata": {},
     "output_type": "execute_result"
    }
   ],
   "source": [
    "a+b\n",
    "np.add(a, b)"
   ]
  },
  {
   "cell_type": "code",
   "execution_count": 48,
   "metadata": {},
   "outputs": [
    {
     "data": {
      "text/plain": [
       "array([[[ 0.        ,  0.125     ,  0.28571429],\n",
       "        [ 0.5       ,  0.8       ,  1.25      ],\n",
       "        [ 2.        ,  3.5       ,  8.        ]],\n",
       "\n",
       "       [[ 1.        ,  1.25      ,  1.57142857],\n",
       "        [ 2.        ,  2.6       ,  3.5       ],\n",
       "        [ 5.        ,  8.        , 17.        ]],\n",
       "\n",
       "       [[ 2.        ,  2.375     ,  2.85714286],\n",
       "        [ 3.5       ,  4.4       ,  5.75      ],\n",
       "        [ 8.        , 12.5       , 26.        ]]])"
      ]
     },
     "execution_count": 48,
     "metadata": {},
     "output_type": "execute_result"
    }
   ],
   "source": [
    "a/b\n",
    "np.divide(a, b)"
   ]
  },
  {
   "cell_type": "code",
   "execution_count": 49,
   "metadata": {},
   "outputs": [
    {
     "data": {
      "text/plain": [
       "array([[[  0,   8,  14],\n",
       "        [ 18,  20,  20],\n",
       "        [ 18,  14,   8]],\n",
       "\n",
       "       [[ 81,  80,  77],\n",
       "        [ 72,  65,  56],\n",
       "        [ 45,  32,  17]],\n",
       "\n",
       "       [[162, 152, 140],\n",
       "        [126, 110,  92],\n",
       "        [ 72,  50,  26]]])"
      ]
     },
     "execution_count": 49,
     "metadata": {},
     "output_type": "execute_result"
    }
   ],
   "source": [
    "a*b\n",
    "np.multiply(a, b)"
   ]
  },
  {
   "cell_type": "code",
   "execution_count": 50,
   "metadata": {},
   "outputs": [
    {
     "data": {
      "text/plain": [
       "False"
      ]
     },
     "execution_count": 50,
     "metadata": {},
     "output_type": "execute_result"
    }
   ],
   "source": [
    "a==b\n",
    "np.array_equal(a, b)"
   ]
  },
  {
   "cell_type": "code",
   "execution_count": 51,
   "metadata": {},
   "outputs": [
    {
     "name": "stdout",
     "output_type": "stream",
     "text": [
      "type:<class 'numpy.ndarray'>\n",
      "shape: (3, 3), dimension: 2, dtype:int32\n",
      "Array's Data:\n",
      " [[1 2 3]\n",
      " [4 5 6]\n",
      " [7 8 9]]\n"
     ]
    },
    {
     "data": {
      "text/plain": [
       "(array([ 6, 15, 24]), array([ 6, 15, 24]))"
      ]
     },
     "execution_count": 51,
     "metadata": {},
     "output_type": "execute_result"
    }
   ],
   "source": [
    "a = np.arange(1, 10).reshape(3, 3)\n",
    "pprint(a)\n",
    "# np.sum(): 합계\n",
    "a.sum(), np.sum(a)\n",
    "a.sum(axis=0), np.sum(a, axis=0)\n",
    "a.sum(axis=1), np.sum(a, axis=1)"
   ]
  },
  {
   "cell_type": "code",
   "execution_count": 52,
   "metadata": {},
   "outputs": [
    {
     "data": {
      "text/plain": [
       "(array([[ 1,  3,  6],\n",
       "        [ 4,  9, 15],\n",
       "        [ 7, 15, 24]], dtype=int32), array([[ 1,  3,  6],\n",
       "        [ 4,  9, 15],\n",
       "        [ 7, 15, 24]], dtype=int32))"
      ]
     },
     "execution_count": 52,
     "metadata": {},
     "output_type": "execute_result"
    }
   ],
   "source": [
    "# np.cumsum(): 누적 합계\n",
    "a.cumsum(), np.cumsum(a)\n",
    "a.cumsum(axis=0), np.cumsum(a, axis=0)\n",
    "a.cumsum(axis=1), np.cumsum(a, axis=1)"
   ]
  },
  {
   "cell_type": "code",
   "execution_count": 53,
   "metadata": {},
   "outputs": [
    {
     "data": {
      "text/plain": [
       "(array([2., 5., 8.]), array([2., 5., 8.]))"
      ]
     },
     "execution_count": 53,
     "metadata": {},
     "output_type": "execute_result"
    }
   ],
   "source": [
    "# np.mean(): 평균\n",
    "a.mean(), np.mean(a)\n",
    "a.mean(axis=0), np.mean(a, axis=0)\n",
    "a.mean(axis=1), np.mean(a, axis=1)"
   ]
  },
  {
   "cell_type": "code",
   "execution_count": 54,
   "metadata": {},
   "outputs": [
    {
     "data": {
      "text/plain": [
       "array([2., 5., 8.])"
      ]
     },
     "execution_count": 54,
     "metadata": {},
     "output_type": "execute_result"
    }
   ],
   "source": [
    "#np.median(): 중앙값\n",
    "np.median(a)\n",
    "np.mean(a, axis=0)\n",
    "np.mean(a, axis=1)"
   ]
  },
  {
   "cell_type": "code",
   "execution_count": 55,
   "metadata": {},
   "outputs": [
    {
     "data": {
      "text/plain": [
       "array([[1., 1., 1.],\n",
       "       [1., 1., 1.],\n",
       "       [1., 1., 1.]])"
      ]
     },
     "execution_count": 55,
     "metadata": {},
     "output_type": "execute_result"
    }
   ],
   "source": [
    "# np.corrcoef(): 상관계수\n",
    "np.corrcoef(a)"
   ]
  },
  {
   "cell_type": "code",
   "execution_count": 56,
   "metadata": {},
   "outputs": [
    {
     "data": {
      "text/plain": [
       "(array([0.81649658, 0.81649658, 0.81649658]),\n",
       " array([0.81649658, 0.81649658, 0.81649658]))"
      ]
     },
     "execution_count": 56,
     "metadata": {},
     "output_type": "execute_result"
    }
   ],
   "source": [
    "#np.std(): 표준편차\n",
    "a.std(), np.std(a)\n",
    "a.std(axis=0), np.std(a, axis=0)\n",
    "a.std(axis=1), np.std(a, axis=1)"
   ]
  },
  {
   "cell_type": "code",
   "execution_count": null,
   "metadata": {},
   "outputs": [],
   "source": []
  },
  {
   "cell_type": "code",
   "execution_count": null,
   "metadata": {},
   "outputs": [],
   "source": []
  },
  {
   "cell_type": "code",
   "execution_count": 57,
   "metadata": {},
   "outputs": [
    {
     "name": "stdout",
     "output_type": "stream",
     "text": [
      "type:<class 'numpy.ndarray'>\n",
      "shape: (2, 3), dimension: 2, dtype:int32\n",
      "Array's Data:\n",
      " [[7 7 9]\n",
      " [8 4 2]]\n",
      "type:<class 'numpy.ndarray'>\n",
      "shape: (2, 3), dimension: 2, dtype:int32\n",
      "Array's Data:\n",
      " [[5 3 7]\n",
      " [7 3 0]]\n"
     ]
    }
   ],
   "source": [
    "a = np.random.randint(0, 10, (2, 3))\n",
    "b = np.random.randint(0, 10, (2, 3))\n",
    "pprint(a)\n",
    "pprint(b)\n",
    "# a배열 파일에 저장\n",
    "np.save(\"./my_array1\", a)\n",
    "# a, b 두 개 배열을 파일에 저장\n",
    "np.savez(\"my_array2\", a, b)"
   ]
  },
  {
   "cell_type": "code",
   "execution_count": 58,
   "metadata": {},
   "outputs": [
    {
     "name": "stdout",
     "output_type": "stream",
     "text": [
      "type:<class 'numpy.ndarray'>\n",
      "shape: (2, 3), dimension: 2, dtype:int32\n",
      "Array's Data:\n",
      " [[7 7 9]\n",
      " [8 4 2]]\n"
     ]
    }
   ],
   "source": [
    "# 1개 배열 로딩\n",
    "c = np.load(\"./my_array1.npy\")\n",
    "pprint(c)"
   ]
  },
  {
   "cell_type": "code",
   "execution_count": 59,
   "metadata": {},
   "outputs": [
    {
     "data": {
      "text/plain": [
       "array([[5, 3, 7],\n",
       "       [7, 3, 0]])"
      ]
     },
     "execution_count": 59,
     "metadata": {},
     "output_type": "execute_result"
    }
   ],
   "source": [
    "npzfiles = np.load(\"./my_array2.npz\")\n",
    "npzfiles.files\n",
    "npzfiles['arr_0']\n",
    "npzfiles['arr_1']"
   ]
  },
  {
   "cell_type": "code",
   "execution_count": 83,
   "metadata": {
    "scrolled": false
   },
   "outputs": [
    {
     "name": "stdout",
     "output_type": "stream",
     "text": [
      "type:<class 'numpy.ndarray'>\n",
      "shape: (2, 3), dimension: 2, dtype:int64\n",
      "Array's Data:\n",
      " [[1 2 3]\n",
      " [4 5 6]]\n"
     ]
    }
   ],
   "source": [
    "#dype 속성으로 데이터 타입 변경 가능합니다. \n",
    "#파일 데이터 배열로 로딩 및 데이터 타입 지정\n",
    "data2 = np.loadtxt(\"./data/simple.csv\", delimiter=\",\", dtype=np.int64)\n",
    "pprint(data2)"
   ]
  },
  {
   "cell_type": "code",
   "execution_count": 116,
   "metadata": {
    "scrolled": true
   },
   "outputs": [
    {
     "name": "stdout",
     "output_type": "stream",
     "text": [
      "type:<class 'numpy.ndarray'>\n",
      "shape: (3,), dimension: 1, dtype:[('order', '<f8'), ('name', 'S15'), ('height', 'S15')]\n",
      "Array's Data:\n",
      " [(1., b\" 'MOON'\", b\" '178.5'\") (2., b\" 'LEE'\", b\" '160.2'\")\n",
      " (3., b\" 'KIM'\", b\" '182.4'\")]\n"
     ]
    }
   ],
   "source": [
    "# dtype에 dict 형식으로 데이터 타입 지정\n",
    "data = np.loadtxt(\"./data/sample.csv\", delimiter=\",\", skiprows=1, dtype={\n",
    "  'names': (\"order\",\"name\",\"height\"),\n",
    "  'formats':(np.float, 'S15', 'S15')\n",
    "})\n",
    "pprint(data)"
   ]
  },
  {
   "cell_type": "code",
   "execution_count": null,
   "metadata": {},
   "outputs": [],
   "source": [
    "# 배열 데이터 출력\n",
    "data[:3]\n",
    "# 데모 데이터 생성\n",
    "data = np.random.random((3, 4))\n",
    "pprint(data)\n",
    "# 배열 객체 텍스트 파일로 저장\n",
    "np.savetxt(\"./data/saved.csv\", data, delimiter=\",\")\n",
    "# 데이터 파일 로딩\n",
    "np.loadtxt('./data/saved.csv', delimiter=',',dtype=np.int64)"
   ]
  },
  {
   "cell_type": "code",
   "execution_count": null,
   "metadata": {},
   "outputs": [],
   "source": []
  },
  {
   "cell_type": "markdown",
   "metadata": {},
   "source": [
    "## Chapter 5. Pandas"
   ]
  },
  {
   "cell_type": "code",
   "execution_count": 117,
   "metadata": {},
   "outputs": [],
   "source": [
    "import pandas as pd"
   ]
  },
  {
   "cell_type": "code",
   "execution_count": 120,
   "metadata": {},
   "outputs": [
    {
     "name": "stdout",
     "output_type": "stream",
     "text": [
      "a    1\n",
      "b    2\n",
      "c    3\n",
      "dtype: int64\n"
     ]
    }
   ],
   "source": [
    "dict_data = {'a':1,'b':2,'c':3}\n",
    "sr = pd.Series(dict_data)\n",
    "print(sr)"
   ]
  },
  {
   "cell_type": "code",
   "execution_count": 122,
   "metadata": {},
   "outputs": [
    {
     "name": "stdout",
     "output_type": "stream",
     "text": [
      "0    2019-12-16\n",
      "1          3.14\n",
      "2           ABC\n",
      "3           100\n",
      "4          True\n",
      "dtype: object\n"
     ]
    }
   ],
   "source": [
    "list_data = ['2019-12-16', 3.14, 'ABC', 100, True]\n",
    "sr1 = pd.Series(list_data)\n",
    "print(sr1)"
   ]
  },
  {
   "cell_type": "code",
   "execution_count": 124,
   "metadata": {},
   "outputs": [
    {
     "name": "stdout",
     "output_type": "stream",
     "text": [
      "RangeIndex(start=0, stop=5, step=1)\n"
     ]
    }
   ],
   "source": [
    "print(sr1.index)"
   ]
  },
  {
   "cell_type": "code",
   "execution_count": 125,
   "metadata": {},
   "outputs": [
    {
     "name": "stdout",
     "output_type": "stream",
     "text": [
      "['2019-12-16' 3.14 'ABC' 100 True]\n"
     ]
    }
   ],
   "source": [
    "print(sr1.values)"
   ]
  },
  {
   "cell_type": "code",
   "execution_count": null,
   "metadata": {},
   "outputs": [],
   "source": []
  }
 ],
 "metadata": {
  "kernelspec": {
   "display_name": "Python 3",
   "language": "python",
   "name": "python3"
  },
  "language_info": {
   "codemirror_mode": {
    "name": "ipython",
    "version": 3
   },
   "file_extension": ".py",
   "mimetype": "text/x-python",
   "name": "python",
   "nbconvert_exporter": "python",
   "pygments_lexer": "ipython3",
   "version": "3.7.4"
  }
 },
 "nbformat": 4,
 "nbformat_minor": 2
}
