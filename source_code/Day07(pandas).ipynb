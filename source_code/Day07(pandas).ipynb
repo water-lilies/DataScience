{
 "cells": [
  {
   "cell_type": "code",
   "execution_count": null,
   "metadata": {},
   "outputs": [],
   "source": [
    "import pandas as pd\n",
    "import numpy as np"
   ]
  },
  {
   "cell_type": "markdown",
   "metadata": {},
   "source": [
    "### pandas의 DataFrame 생성\n",
    "- pandas의 2차원 자료 구조 객체 (Matrix) - DataFrame (컬럼, 데이터, 인덱스)\n",
    "- ndarray, dict, list 등 다양한 데이터 타입으로부터 pandas의  DataFrame 생성"
   ]
  },
  {
   "cell_type": "code",
   "execution_count": null,
   "metadata": {},
   "outputs": [],
   "source": [
    "#dict 타입으로부터 DataFrame 생성\n",
    "dict_data = {'c0': [1,2,3], 'c1': [4,5,6], 'c2': [7,8,9], 'c3': [10,11,12], 'c4': [13,14,15]}\n",
    "df = pd.DataFrame(dict_data)\n",
    "print(type(df))\n",
    "print(df)\n",
    "print(df.index)  #행 인덱스\n",
    "print(df.columns)  #열 이름"
   ]
  },
  {
   "cell_type": "code",
   "execution_count": null,
   "metadata": {},
   "outputs": [],
   "source": [
    "# 데이터와 행인덱스, 열 이름을 지정해서 DataFrame 생성\n",
    "df2 = pd.DataFrame([[25,'남' , '율도국'],[17, '여', '인당수']], index=['홍길동', '심청'], columns=['나이', '성별', '주소'])\n",
    "print(type(df2))\n",
    "print(df2)\n",
    "print(df2.index)  #행 인덱스\n",
    "print(df2.columns)  #열 이름\n",
    "print(id(df2))  "
   ]
  },
  {
   "cell_type": "code",
   "execution_count": null,
   "metadata": {},
   "outputs": [],
   "source": [
    "df2.index =['주인공1', '주인공2']   #행 인덱스 변경 가능\n",
    "df2.columns = ['age', 'gender', 'address']   #열 이름 변경 가능\n",
    "print(df2)\n",
    "print(df2.index)  #행 인덱스\n",
    "print(df2.columns)  #열 이름\n",
    "print(id(df2)) "
   ]
  },
  {
   "cell_type": "markdown",
   "metadata": {},
   "source": [
    "### pandas의 2차원 자료 구조 객체 (Matrix) - DataFrame (컬럼, 데이터, 인덱스)\n",
    "\n",
    "ndarray, dict, list 등 다양한 데이터 타입으로부터 pandas의  DataFrame 생성"
   ]
  },
  {
   "cell_type": "code",
   "execution_count": null,
   "metadata": {},
   "outputs": [],
   "source": [
    "#dict 타입으로부터 DataFrame 생성\n",
    "dict_data = {'c0': [1,2,3], 'c1': [4,5,6], 'c2': [7,8,9], 'c3': [10,11,12], 'c4': [13,14,15]}\n",
    "df = pd.DataFrame(dict_data)\n",
    "print(type(df))\n",
    "print(df)\n",
    "print(df.index)  #행 인덱스\n",
    "print(df.columns)  #열 이름"
   ]
  },
  {
   "cell_type": "code",
   "execution_count": null,
   "metadata": {},
   "outputs": [],
   "source": [
    "# 데이터와 행인덱스, 열 이름을 지정해서 DataFrame 생성\n",
    "df2 = pd.DataFrame([[25,'남' , '율도국'],[17, '여', '인당수']], index=['홍길동', '심청'], columns=['나이', '성별', '주소'])\n",
    "print(type(df2))\n",
    "print(df2)\n",
    "print(df2.index)  #행 인덱스\n",
    "print(df2.columns)  #열 이름\n",
    "print(id(df2))  "
   ]
  },
  {
   "cell_type": "code",
   "execution_count": null,
   "metadata": {},
   "outputs": [],
   "source": [
    "df2.index =['주인공1', '주인공2']   #행 인덱스 변경 가능\n",
    "df2.columns = ['age', 'gender', 'address']   #열 이름 변경 가능\n",
    "print(df2)\n",
    "print(df2.index)  #행 인덱스\n",
    "print(df2.columns)  #열 이름\n",
    "print(id(df2)) "
   ]
  },
  {
   "cell_type": "markdown",
   "metadata": {},
   "source": [
    "### IPython.display은 IPython 셸 환경에서 dataframe을 테이블 형식으로 표현합니다."
   ]
  },
  {
   "cell_type": "code",
   "execution_count": null,
   "metadata": {},
   "outputs": [],
   "source": [
    "import pandas as pd\n",
    "import numpy as np\n",
    "from IPython.display import display\n",
    "my_2darray = np.array([[1,2,3], [4,5,6]])\n",
    "display(pd.DataFrame(my_2darray))"
   ]
  },
  {
   "cell_type": "code",
   "execution_count": null,
   "metadata": {},
   "outputs": [],
   "source": [
    "dict_data = {'c0': [1,2,3], 'c1': [4,5,6], 'c2': [7,8,9], 'c3': [10,11,12], 'c4': [13,14,15]}\n",
    "display( pd.DataFrame(dict_data))"
   ]
  },
  {
   "cell_type": "code",
   "execution_count": null,
   "metadata": {},
   "outputs": [],
   "source": [
    "df2 = pd.DataFrame([[25,'남' , '율도국'],[17, '여', '인당수']], index=['홍길동', '심청'], columns=['나이', '성별', '주소'])\n",
    "display(df2)"
   ]
  },
  {
   "cell_type": "code",
   "execution_count": null,
   "metadata": {},
   "outputs": [],
   "source": [
    "exam_data= {'수학': [90,80,70],\n",
    "                  '영어': [95,89,90],\n",
    "                  '국어': [100,80,75],\n",
    "                  '과학': [70,70,70]}\n",
    "df = pd.DataFrame(exam_data, index=['영희', '철수', '삼식'])\n",
    "print(df)"
   ]
  },
  {
   "cell_type": "code",
   "execution_count": null,
   "metadata": {},
   "outputs": [],
   "source": [
    "df2 = df[ : ]  # 새로운 DataFrame객체를 복제함\n",
    "#print(id(df))\n",
    "#print(id(df2))\n",
    "result = df2.drop('삼식')  #행 인덱스(label)로 행 삭제한 새로운 데이터프레임 객체 생성 반환\n",
    "print(df2)"
   ]
  },
  {
   "cell_type": "code",
   "execution_count": null,
   "metadata": {},
   "outputs": [],
   "source": [
    "print(result)"
   ]
  },
  {
   "cell_type": "code",
   "execution_count": null,
   "metadata": {},
   "outputs": [],
   "source": [
    "df2.drop('삼식', inplace=True)   #행 삭제한 새로운 데이터프레임 객체 반환대신 자기자신의 행 삭제\n",
    "print(df2)"
   ]
  },
  {
   "cell_type": "code",
   "execution_count": null,
   "metadata": {},
   "outputs": [],
   "source": [
    "df2 = df[ : ]  # 새로운 DataFrame객체를 복제함\n",
    "df2.drop('수학', axis=1,  inplace=True) \n",
    "print(df2)"
   ]
  },
  {
   "cell_type": "markdown",
   "metadata": {},
   "source": [
    "### 행선택"
   ]
  },
  {
   "cell_type": "code",
   "execution_count": null,
   "metadata": {},
   "outputs": [],
   "source": [
    "student1 = df.loc['철수']   #label 을 사용해서 행을 선택\n",
    "print(student1)\n",
    "student2 = df.iloc[0]  #index 을 사용해서 행을 선택\n",
    "print(student2)"
   ]
  },
  {
   "cell_type": "code",
   "execution_count": null,
   "metadata": {},
   "outputs": [],
   "source": [
    "students1 = df.loc[['철수', '삼식']]   #label 을 사용해서 2개 이상 행을 선택\n",
    "print(students1)"
   ]
  },
  {
   "cell_type": "code",
   "execution_count": null,
   "metadata": {},
   "outputs": [],
   "source": [
    "students2 = df.iloc[[0,1]]  #index 을 사용해서 2개 이상 행을 선택\n",
    "print(students2)"
   ]
  },
  {
   "cell_type": "code",
   "execution_count": null,
   "metadata": {},
   "outputs": [],
   "source": [
    "students3 = df.loc['철수' : '삼식']   #행 인덱스(labe) 범위 지정,  행 선택,  end label을 포함\n",
    "print(students3)"
   ]
  },
  {
   "cell_type": "code",
   "execution_count": null,
   "metadata": {},
   "outputs": [],
   "source": [
    "students4 = df.iloc[0:2]  #행 인덱스 범위 지정,  행 선택 -  end index는 포함하지 않는다.\n",
    "print(students4)"
   ]
  },
  {
   "cell_type": "markdown",
   "metadata": {},
   "source": [
    "### 데이터프레임으로부터 열 선택"
   ]
  },
  {
   "cell_type": "code",
   "execution_count": null,
   "metadata": {},
   "outputs": [],
   "source": [
    "exam_data= {'이름' : ['영희', '철수', '삼식'],\n",
    "                  '수학': [90,80,70],\n",
    "                  '영어': [95,89,90],\n",
    "                  '국어': [100,80,75],\n",
    "                  '과학': [70,70,70]}\n",
    "df = pd.DataFrame(exam_data)\n",
    "print(df)"
   ]
  },
  {
   "cell_type": "code",
   "execution_count": null,
   "metadata": {},
   "outputs": [],
   "source": [
    "print(df['수학'])\n",
    "eng =df.영어\n",
    "print(eng)\n",
    "print(type(eng))   #Series 타입"
   ]
  },
  {
   "cell_type": "code",
   "execution_count": null,
   "metadata": {},
   "outputs": [],
   "source": [
    "subjects = df[['수학', '국어']]\n",
    "print(subjects)\n",
    "print(type(subjects))    #DataFrame타입"
   ]
  },
  {
   "cell_type": "code",
   "execution_count": null,
   "metadata": {},
   "outputs": [],
   "source": [
    "df.set_index('이름', inplace=True)\n",
    "print(df)"
   ]
  },
  {
   "cell_type": "code",
   "execution_count": null,
   "metadata": {},
   "outputs": [],
   "source": [
    "# 철수의 수학, 과학 점수 선택 출력 (label인덱스와 index 사용합니다.)\n",
    "a = df.loc[ '철수', ['수학', '과학' ]]\n",
    "print(a)"
   ]
  },
  {
   "cell_type": "code",
   "execution_count": null,
   "metadata": {},
   "outputs": [],
   "source": [
    "b = df.iloc[ 1, [0, 3 ]]\n",
    "print(b)"
   ]
  },
  {
   "cell_type": "code",
   "execution_count": null,
   "metadata": {},
   "outputs": [],
   "source": [
    "# 철수의 국어, 과학 점수 선택 출력\n",
    "a = df.loc[ '철수',  '국어':'과학']\n",
    "print(a)"
   ]
  },
  {
   "cell_type": "code",
   "execution_count": null,
   "metadata": {},
   "outputs": [],
   "source": [
    "b = df.iloc[ 1, 2: ]\n",
    "print(b)"
   ]
  },
  {
   "cell_type": "code",
   "execution_count": null,
   "metadata": {},
   "outputs": [],
   "source": []
  },
  {
   "cell_type": "code",
   "execution_count": null,
   "metadata": {},
   "outputs": [],
   "source": [
    "exam_data= {'이름' : ['영희', '철수', '삼식'],\n",
    "                  '수학': [90,80,70],\n",
    "                  '영어': [95,89,90],\n",
    "                  '국어': [100,80,75],\n",
    "                  '과학': [70,70,70]}\n",
    "df = pd.DataFrame(exam_data)\n",
    "print(df)"
   ]
  },
  {
   "cell_type": "code",
   "execution_count": null,
   "metadata": {},
   "outputs": [],
   "source": [
    "#컬럼의 데이터 단일값으로 일괄 변경 \n",
    "df['과학'] = 95\n",
    "print(df)   #?"
   ]
  },
  {
   "cell_type": "code",
   "execution_count": null,
   "metadata": {},
   "outputs": [],
   "source": [
    "#행 추가  - 동일한 값으로 추가됨\n",
    "df.loc[3] = 0 \n",
    "print(df)"
   ]
  },
  {
   "cell_type": "code",
   "execution_count": null,
   "metadata": {},
   "outputs": [],
   "source": [
    "df.loc[4] = ['동식', 70,80,90,100] \n",
    "print(df)"
   ]
  },
  {
   "cell_type": "code",
   "execution_count": null,
   "metadata": {},
   "outputs": [],
   "source": [
    "df.loc['행5'] = df.loc[3]  # 기존 행을 복사해서 새로운 행으로 추가\n",
    "print(df)"
   ]
  },
  {
   "cell_type": "code",
   "execution_count": null,
   "metadata": {},
   "outputs": [],
   "source": [
    "# 철수의 수학, 과학 점수 50으로 변경 \n",
    "df.loc[ '철수', ['수학', '과학' ]] = 50,50\n",
    "print(df)"
   ]
  },
  {
   "cell_type": "markdown",
   "metadata": {},
   "source": [
    "--- "
   ]
  },
  {
   "cell_type": "code",
   "execution_count": null,
   "metadata": {},
   "outputs": [],
   "source": [
    "exam_data= {'이름' : ['영희', '철수', '삼식'],\n",
    "                  '수학': [90,80,70],\n",
    "                  '영어': [95,89,90],\n",
    "                  '국어': [100,80,75],\n",
    "                  '과학': [70,70,70]}\n",
    "df = pd.DataFrame(exam_data)\n",
    "print(df) "
   ]
  },
  {
   "cell_type": "code",
   "execution_count": null,
   "metadata": {},
   "outputs": [],
   "source": [
    "#데이터 프레임에서 전치를 수행하려면 메소드 활용\n",
    "df = df.transpose()\n",
    "print(df)"
   ]
  },
  {
   "cell_type": "code",
   "execution_count": null,
   "metadata": {},
   "outputs": [],
   "source": [
    "df = df.T   #데이터프레임 클래스의 속성 활용\n",
    "print(df)"
   ]
  },
  {
   "cell_type": "markdown",
   "metadata": {},
   "source": [
    "### 인덱스 재지정  : reindex()"
   ]
  },
  {
   "cell_type": "code",
   "execution_count": 3,
   "metadata": {
    "scrolled": true
   },
   "outputs": [
    {
     "name": "stdout",
     "output_type": "stream",
     "text": [
      "    c0  c1  c2  c3  c4\n",
      "r0   1   4   7  10  13\n",
      "r1   2   5   8  11  14\n",
      "r2   3   6   9  12  15\n"
     ]
    }
   ],
   "source": [
    "dict_data = {'c0': [1,2,3], 'c1': [4,5,6], 'c2': [7,8,9], 'c3': [10,11,12], 'c4': [13,14,15]}\n",
    "df2 = pd.DataFrame(dict_data, index=['r0', 'r1', 'r2'])\n",
    "print(df2)"
   ]
  },
  {
   "cell_type": "code",
   "execution_count": 20,
   "metadata": {},
   "outputs": [
    {
     "name": "stdout",
     "output_type": "stream",
     "text": [
      "    c0  c1  c2  c3  c4\n",
      "r0   1   4   7  10  13\n",
      "r1   2   5   8  11  14\n",
      "r2   3   6   9  12  15\n"
     ]
    }
   ],
   "source": [
    "new_index = ['r0', 'r1', 'r2', 'r3', 'r4' ]\n",
    "new_df = df2.reindex(new_index)     \n",
    "# 새로운 데이터프레임 객체를 생성 반환 ('r3', 'r4' 행의 데이터는 NA로 채움)\n",
    "\n",
    "print(df2)"
   ]
  },
  {
   "cell_type": "code",
   "execution_count": 21,
   "metadata": {},
   "outputs": [
    {
     "name": "stdout",
     "output_type": "stream",
     "text": [
      "     c0   c1   c2    c3    c4\n",
      "r0  1.0  4.0  7.0  10.0  13.0\n",
      "r1  2.0  5.0  8.0  11.0  14.0\n",
      "r2  3.0  6.0  9.0  12.0  15.0\n",
      "r3  NaN  NaN  NaN   NaN   NaN\n",
      "r4  NaN  NaN  NaN   NaN   NaN\n"
     ]
    }
   ],
   "source": [
    "print(new_df )"
   ]
  },
  {
   "cell_type": "code",
   "execution_count": 5,
   "metadata": {},
   "outputs": [
    {
     "name": "stdout",
     "output_type": "stream",
     "text": [
      "    c0  c1  c2  c3  c4\n",
      "r0   1   4   7  10  13\n",
      "r1   2   5   8  11  14\n",
      "r2   3   6   9  12  15\n",
      "    c0  c1  c2  c3  c4\n",
      "r0   1   4   7  10  13\n",
      "r1   2   5   8  11  14\n",
      "r2   3   6   9  12  15\n",
      "r3   0   0   0   0   0\n",
      "r4   0   0   0   0   0\n"
     ]
    }
   ],
   "source": [
    "new_df = df2.reindex(new_index, fill_value=0)    \n",
    "#reindex로 발생된 NA를 0으로 채움  \n",
    "\n",
    "print(df2)\n",
    "print(new_df )"
   ]
  },
  {
   "cell_type": "code",
   "execution_count": 6,
   "metadata": {},
   "outputs": [
    {
     "name": "stdout",
     "output_type": "stream",
     "text": [
      "  index  c0  c1  c2  c3  c4\n",
      "0    r0   1   4   7  10  13\n",
      "1    r1   2   5   8  11  14\n",
      "2    r2   3   6   9  12  15\n"
     ]
    }
   ],
   "source": [
    "new_df = df2.reset_index() \n",
    "# 새로운 데이터프레임 객체를 생성 반환,  행 인덱스를 정수형으로 초기화\n",
    "\n",
    "print(new_df )"
   ]
  },
  {
   "cell_type": "code",
   "execution_count": 7,
   "metadata": {},
   "outputs": [
    {
     "name": "stdout",
     "output_type": "stream",
     "text": [
      "    c0  c1  c2  c3  c4\n",
      "r2   3   6   9  12  15\n",
      "r1   2   5   8  11  14\n",
      "r0   1   4   7  10  13\n"
     ]
    }
   ],
   "source": [
    "new_df = df2.sort_index(ascending=False)  \n",
    "# 새로운 데이터프레임 객체를 생성 반환 , 행 인덱스기준으로 내림차순 정렬\n",
    "\n",
    "print(new_df )"
   ]
  },
  {
   "cell_type": "code",
   "execution_count": 8,
   "metadata": {},
   "outputs": [
    {
     "name": "stdout",
     "output_type": "stream",
     "text": [
      "    c0  c1  c2  c3  c4\n",
      "r2   3   6   9  12  15\n",
      "r1   2   5   8  11  14\n",
      "r0   1   4   7  10  13\n"
     ]
    }
   ],
   "source": [
    "new_df = df2.sort_index(ascending=False)  \n",
    "# 새로운 데이터프레임 객체를 생성 반환 , 행 인덱스기준으로 내림차순 정렬\n",
    "\n",
    "print(new_df )"
   ]
  },
  {
   "cell_type": "code",
   "execution_count": 9,
   "metadata": {},
   "outputs": [
    {
     "name": "stdout",
     "output_type": "stream",
     "text": [
      "국어    0.333333\n",
      "영어    0.300000\n",
      "수학    0.266667\n",
      "dtype: float64\n",
      "<class 'pandas.core.series.Series'>\n"
     ]
    }
   ],
   "source": [
    "student1 = pd.Series({'국어':100, '영어':90, '수학':80})\n",
    "percentage = student1/300\n",
    "print(percentage)\n",
    "print(type(percentage))"
   ]
  },
  {
   "cell_type": "code",
   "execution_count": 17,
   "metadata": {},
   "outputs": [
    {
     "name": "stdout",
     "output_type": "stream",
     "text": [
      "국어     NaN\n",
      "영어    90.0\n",
      "수학    80.0\n",
      "dtype: float64\n",
      "영어    90\n",
      "수학    80\n",
      "dtype: int64\n"
     ]
    }
   ],
   "source": [
    "student1 = pd.Series({'국어':np.nan, '영어':90, '수학':80})\n",
    "student2 = pd.Series({ '영어':90, '수학':80})\n",
    "print(student1)\n",
    "print(student2)"
   ]
  },
  {
   "cell_type": "code",
   "execution_count": 18,
   "metadata": {},
   "outputs": [
    {
     "name": "stdout",
     "output_type": "stream",
     "text": [
      "국어      NaN\n",
      "수학    160.0\n",
      "영어    180.0\n",
      "dtype: float64\n"
     ]
    }
   ],
   "source": [
    "print(student1+student2 )  # student1.add(student2"
   ]
  },
  {
   "cell_type": "code",
   "execution_count": 19,
   "metadata": {},
   "outputs": [
    {
     "name": "stdout",
     "output_type": "stream",
     "text": [
      "국어    NaN\n",
      "수학    1.0\n",
      "영어    1.0\n",
      "dtype: float64\n"
     ]
    }
   ],
   "source": [
    "division = student1/student2\n",
    "print(division )"
   ]
  },
  {
   "cell_type": "code",
   "execution_count": 13,
   "metadata": {},
   "outputs": [
    {
     "name": "stdout",
     "output_type": "stream",
     "text": [
      "     국어      수학      영어\n",
      "덧셈  NaN   160.0   180.0\n",
      "뺄셈  NaN     0.0     0.0\n",
      "곱셈  NaN  6400.0  8100.0\n",
      "나눗셈 NaN     1.0     1.0\n"
     ]
    }
   ],
   "source": [
    "re_add = student1.add(student2, fill_value=0)\n",
    "re_sub = student1.sub(student2, fill_value=0)\n",
    "re_mul = student1.mul(student2, fill_value=0)\n",
    "re_div = student1.div(student2, fill_value=0)\n",
    "result = pd.DataFrame([re_add,re_sub,re_mul,re_div], index=['덧셈','뺄셈', '곱셈', '나눗셈'])\n",
    "print(result)"
   ]
  },
  {
   "cell_type": "markdown",
   "metadata": {},
   "source": [
    "### 데이터프레임+ 산술연산자+스칼라값"
   ]
  },
  {
   "cell_type": "code",
   "execution_count": 14,
   "metadata": {},
   "outputs": [],
   "source": [
    "import  seaborn as sns\n",
    "titanic = sns.load_dataset('titanic')"
   ]
  },
  {
   "cell_type": "code",
   "execution_count": null,
   "metadata": {},
   "outputs": [],
   "source": [
    "df= titanic[ : , ['age', 'fare']]\n",
    "print(df.head())\n",
    "print(type(df))\n",
    "addition = df+10\n",
    "print(addition .head())\n",
    "print(type(addition))"
   ]
  },
  {
   "cell_type": "code",
   "execution_count": null,
   "metadata": {},
   "outputs": [],
   "source": [
    "subtraction= addition - df\n",
    "print(subtraction .head())"
   ]
  },
  {
   "cell_type": "code",
   "execution_count": null,
   "metadata": {},
   "outputs": [],
   "source": [
    "print(subtraction .tail())"
   ]
  },
  {
   "cell_type": "code",
   "execution_count": null,
   "metadata": {},
   "outputs": [],
   "source": [
    "print(type(subtraction))"
   ]
  },
  {
   "cell_type": "markdown",
   "metadata": {},
   "source": [
    "### 파일 읽고 저장하기"
   ]
  },
  {
   "cell_type": "code",
   "execution_count": null,
   "metadata": {},
   "outputs": [],
   "source": [
    "file_path='./datas/read_csv_sample.csv'\n",
    "df=pd.read_csv(file_path)\n",
    "print(df)\n",
    "print(type(df))\n",
    "print(df.dtypes)\n",
    "df2=pd.read_csv(file_path, header=None)\n",
    "print(df2)\n",
    "print(type(df2))\n",
    "\n",
    "df3=pd.read_csv(file_path, index_col=None)\n",
    "print(df3)\n",
    "print(type(df3))\n",
    "\n",
    "df4=pd.read_csv(file_path, index_col='c0')\n",
    "print(df4)\n",
    "print(type(df4))"
   ]
  },
  {
   "cell_type": "code",
   "execution_count": null,
   "metadata": {},
   "outputs": [],
   "source": [
    "file_path='./datas/남북한발전전력량.xlsx'\n",
    "df=pd.read_excel(file_path)\n",
    "print(df)\n",
    "print(type(df))\n",
    "print(df.dtypes)"
   ]
  },
  {
   "cell_type": "code",
   "execution_count": null,
   "metadata": {},
   "outputs": [],
   "source": [
    "df1=pd.read_excel(file_path, header=None)\n",
    "print(df1)\n",
    "print(type(df1))"
   ]
  },
  {
   "cell_type": "code",
   "execution_count": null,
   "metadata": {},
   "outputs": [],
   "source": [
    "#JSON형식의 파일 읽기\n",
    "file_path='./datas/df_sample.json'\n",
    "df=pd.read_json(file_path) \n",
    "print(df)\n",
    "print(df.index)\n",
    "print(df.columns)"
   ]
  },
  {
   "cell_type": "code",
   "execution_count": null,
   "metadata": {},
   "outputs": [],
   "source": [
    "#HTML형식의 파일로부터 테이블 읽기\n",
    "file_path='./datas/sample.html'\n",
    "tables=pd.read_html(file_path) \n",
    "print(len(tables))"
   ]
  },
  {
   "cell_type": "code",
   "execution_count": null,
   "metadata": {},
   "outputs": [],
   "source": [
    "for i in range(len(tables)):\n",
    "   print(\"tables[%s]\" % i)\n",
    "   print(tables[i])"
   ]
  },
  {
   "cell_type": "code",
   "execution_count": null,
   "metadata": {},
   "outputs": [],
   "source": [
    "df = tables[1]\n",
    "print(df)"
   ]
  },
  {
   "cell_type": "code",
   "execution_count": null,
   "metadata": {},
   "outputs": [],
   "source": [
    "df.set_index(['name'] , inplace=True)\n",
    "print(df)"
   ]
  },
  {
   "cell_type": "code",
   "execution_count": null,
   "metadata": {},
   "outputs": [],
   "source": [
    "#CSV파일로 저장\n",
    "exam_data= {'이름' : ['영희', '철수', '삼식'],\n",
    "                  '수학': [90,80,70],\n",
    "                  '영어': [95,89,90],\n",
    "                  '국어': [100,80,75],\n",
    "                  '과학': [70,70,70]}\n",
    "df = pd.DataFrame(exam_data)\n",
    "df.set_index('이름', inplace=True)\n",
    "print(df)"
   ]
  },
  {
   "cell_type": "code",
   "execution_count": null,
   "metadata": {},
   "outputs": [],
   "source": [
    "df.to_csv(\"./output/exam_sample.csv\")"
   ]
  },
  {
   "cell_type": "code",
   "execution_count": null,
   "metadata": {},
   "outputs": [],
   "source": [
    "#JSON파일로 저장\n",
    "df.to_json(\"./output/exam_sample.json\")"
   ]
  },
  {
   "cell_type": "code",
   "execution_count": null,
   "metadata": {},
   "outputs": [],
   "source": [
    "#excel파일로 저장\n",
    "df.to_excel(\"./output/exam_sample.xlsx\")"
   ]
  },
  {
   "cell_type": "code",
   "execution_count": null,
   "metadata": {},
   "outputs": [],
   "source": [
    "dict_data = {'c0': [1,2,3], 'c1': [4,5,6], 'c2': [7,8,9], 'c3': [10,11,12], 'c4': [13,14,15]}\n",
    "df2 = pd.DataFrame(dict_data, index=['r0', 'r1', 'r2'])\n",
    "print(df2)"
   ]
  },
  {
   "cell_type": "code",
   "execution_count": null,
   "metadata": {},
   "outputs": [],
   "source": [
    "writer=pd.ExcelWriter(\"./output/df_excelwriter.xlsx\")\n",
    "df.to_excel(writer, sheet_name=\"sheet1\")\n",
    "df2.to_excel(writer, sheet_name=\"sheet2\")\n",
    "writer.save()"
   ]
  },
  {
   "cell_type": "code",
   "execution_count": null,
   "metadata": {},
   "outputs": [],
   "source": [
    "#데이터 프레임에 함수 적용\n",
    "frame = pd.DataFrame(np.random.randn(4, 3), columns=list('bde'),\n",
    "                     index=['Utah', 'Ohio', 'Texas', 'Oregon'])\n",
    "frame\n",
    "np.abs(frame)   #numpy의 유니버셜 함수를 데이터프레임 객체에 적용 가능"
   ]
  },
  {
   "cell_type": "markdown",
   "metadata": {},
   "source": [
    "### 데이터 전처리"
   ]
  },
  {
   "cell_type": "code",
   "execution_count": null,
   "metadata": {},
   "outputs": [],
   "source": [
    "#누락 데이터 찾기\n",
    "import seaborn as sns\n",
    "df = sns.load_dataset('titanic')\n",
    "nan_deck_cnt= df['deck'].value_counts(dropna=False)\n",
    "print(nan_deck_cnt)"
   ]
  },
  {
   "cell_type": "code",
   "execution_count": null,
   "metadata": {},
   "outputs": [],
   "source": [
    "#데이터프레임의 데이터요소별로 NA 체크 - isnull(), notnull()\n",
    "print(df.head())"
   ]
  },
  {
   "cell_type": "code",
   "execution_count": null,
   "metadata": {},
   "outputs": [],
   "source": [
    "print(df.head().isnull())"
   ]
  },
  {
   "cell_type": "code",
   "execution_count": null,
   "metadata": {},
   "outputs": [],
   "source": [
    "print(df.head().notnull())"
   ]
  },
  {
   "cell_type": "code",
   "execution_count": null,
   "metadata": {},
   "outputs": [],
   "source": [
    "# 누락 데이터 개수 구하기\n",
    "print(df.head().isnull().sum(axis=0))"
   ]
  },
  {
   "cell_type": "code",
   "execution_count": null,
   "metadata": {},
   "outputs": [],
   "source": [
    "#누락 데이터 대체하기 \n"
   ]
  },
  {
   "cell_type": "code",
   "execution_count": null,
   "metadata": {},
   "outputs": [],
   "source": []
  }
 ],
 "metadata": {
  "kernelspec": {
   "display_name": "Python 3",
   "language": "python",
   "name": "python3"
  },
  "language_info": {
   "codemirror_mode": {
    "name": "ipython",
    "version": 3
   },
   "file_extension": ".py",
   "mimetype": "text/x-python",
   "name": "python",
   "nbconvert_exporter": "python",
   "pygments_lexer": "ipython3",
   "version": "3.7.4"
  }
 },
 "nbformat": 4,
 "nbformat_minor": 2
}
