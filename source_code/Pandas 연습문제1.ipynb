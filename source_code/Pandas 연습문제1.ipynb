{
 "cells": [
  {
   "cell_type": "markdown",
   "metadata": {},
   "source": [
    "### datas 압축파일을 받아서  '경기도인구데이터'.csv파일을 이용하여 \n",
    "다음 내용을 파이썬  numpy라이브러리를 사용해서 결과를 출력하세요\n",
    "1. 파일 내용을 읽은 후 상위 5개 데이터 확인\n",
    "2. 배열 객체의 크기 확인 \n",
    "3. 중복 지역 존재 여부 확인  \n",
    "4. 2017년 수원시 인구의 합\n",
    "5. 2017년 인구가 50만이상이 지역 출력\n",
    "6. 2017년 경기도 전체 인구의 시별 인구 평균  "
   ]
  },
  {
   "cell_type": "code",
   "execution_count": 2,
   "metadata": {},
   "outputs": [],
   "source": [
    "import numpy as np\n",
    "import pandas as pd\n",
    "import matplotlib.pyplot as plt\n",
    "%matplotlib inline"
   ]
  },
  {
   "cell_type": "markdown",
   "metadata": {},
   "source": [
    "### 1. 파일 내용을 읽은 후 상위 5개 데이터 확인"
   ]
  },
  {
   "cell_type": "code",
   "execution_count": 22,
   "metadata": {},
   "outputs": [
    {
     "data": {
      "text/html": [
       "<div>\n",
       "<style scoped>\n",
       "    .dataframe tbody tr th:only-of-type {\n",
       "        vertical-align: middle;\n",
       "    }\n",
       "\n",
       "    .dataframe tbody tr th {\n",
       "        vertical-align: top;\n",
       "    }\n",
       "\n",
       "    .dataframe thead th {\n",
       "        text-align: right;\n",
       "    }\n",
       "</style>\n",
       "<table border=\"1\" class=\"dataframe\">\n",
       "  <thead>\n",
       "    <tr style=\"text-align: right;\">\n",
       "      <th></th>\n",
       "      <th>구분</th>\n",
       "      <th>2007</th>\n",
       "      <th>2008</th>\n",
       "      <th>2009</th>\n",
       "      <th>2010</th>\n",
       "      <th>2011</th>\n",
       "      <th>2012</th>\n",
       "      <th>2013</th>\n",
       "      <th>2014</th>\n",
       "      <th>2015</th>\n",
       "      <th>2016</th>\n",
       "      <th>2017</th>\n",
       "    </tr>\n",
       "  </thead>\n",
       "  <tbody>\n",
       "    <tr>\n",
       "      <td>0</td>\n",
       "      <td>수원시장안구</td>\n",
       "      <td>287474</td>\n",
       "      <td>285803</td>\n",
       "      <td>290798</td>\n",
       "      <td>293692</td>\n",
       "      <td>290999</td>\n",
       "      <td>291757</td>\n",
       "      <td>300908</td>\n",
       "      <td>301196</td>\n",
       "      <td>299016</td>\n",
       "      <td>296479</td>\n",
       "      <td>293828</td>\n",
       "    </tr>\n",
       "    <tr>\n",
       "      <td>1</td>\n",
       "      <td>수원시권선구</td>\n",
       "      <td>310553</td>\n",
       "      <td>308177</td>\n",
       "      <td>304097</td>\n",
       "      <td>306783</td>\n",
       "      <td>321176</td>\n",
       "      <td>332633</td>\n",
       "      <td>331773</td>\n",
       "      <td>339835</td>\n",
       "      <td>351053</td>\n",
       "      <td>358393</td>\n",
       "      <td>365653</td>\n",
       "    </tr>\n",
       "    <tr>\n",
       "      <td>2</td>\n",
       "      <td>수원시팔달구</td>\n",
       "      <td>216945</td>\n",
       "      <td>213235</td>\n",
       "      <td>219833</td>\n",
       "      <td>216503</td>\n",
       "      <td>209772</td>\n",
       "      <td>206794</td>\n",
       "      <td>204805</td>\n",
       "      <td>203479</td>\n",
       "      <td>199180</td>\n",
       "      <td>198515</td>\n",
       "      <td>193311</td>\n",
       "    </tr>\n",
       "    <tr>\n",
       "      <td>3</td>\n",
       "      <td>수원시영통구</td>\n",
       "      <td>252730</td>\n",
       "      <td>260210</td>\n",
       "      <td>258421</td>\n",
       "      <td>260557</td>\n",
       "      <td>266542</td>\n",
       "      <td>289074</td>\n",
       "      <td>310671</td>\n",
       "      <td>329718</td>\n",
       "      <td>335375</td>\n",
       "      <td>340654</td>\n",
       "      <td>349836</td>\n",
       "    </tr>\n",
       "    <tr>\n",
       "      <td>4</td>\n",
       "      <td>성남시수정구</td>\n",
       "      <td>256744</td>\n",
       "      <td>248452</td>\n",
       "      <td>242161</td>\n",
       "      <td>241070</td>\n",
       "      <td>236123</td>\n",
       "      <td>233997</td>\n",
       "      <td>228167</td>\n",
       "      <td>223539</td>\n",
       "      <td>219531</td>\n",
       "      <td>232841</td>\n",
       "      <td>236932</td>\n",
       "    </tr>\n",
       "  </tbody>\n",
       "</table>\n",
       "</div>"
      ],
      "text/plain": [
       "       구분    2007    2008    2009    2010    2011    2012    2013    2014  \\\n",
       "0  수원시장안구  287474  285803  290798  293692  290999  291757  300908  301196   \n",
       "1  수원시권선구  310553  308177  304097  306783  321176  332633  331773  339835   \n",
       "2  수원시팔달구  216945  213235  219833  216503  209772  206794  204805  203479   \n",
       "3  수원시영통구  252730  260210  258421  260557  266542  289074  310671  329718   \n",
       "4  성남시수정구  256744  248452  242161  241070  236123  233997  228167  223539   \n",
       "\n",
       "     2015    2016    2017  \n",
       "0  299016  296479  293828  \n",
       "1  351053  358393  365653  \n",
       "2  199180  198515  193311  \n",
       "3  335375  340654  349836  \n",
       "4  219531  232841  236932  "
      ]
     },
     "execution_count": 22,
     "metadata": {},
     "output_type": "execute_result"
    }
   ],
   "source": [
    "df = pd.read_excel('./data/경기도인구데이터.xlsx', encoding = 'euc-kr')\n",
    "df.head(5)"
   ]
  },
  {
   "cell_type": "markdown",
   "metadata": {},
   "source": [
    "### 2. 배열 객체의 크기 확인 "
   ]
  },
  {
   "cell_type": "code",
   "execution_count": 4,
   "metadata": {},
   "outputs": [
    {
     "data": {
      "text/plain": [
       "(44, 12)"
      ]
     },
     "execution_count": 4,
     "metadata": {},
     "output_type": "execute_result"
    }
   ],
   "source": [
    "df.shape"
   ]
  },
  {
   "cell_type": "markdown",
   "metadata": {},
   "source": [
    "### 3. 중복 지역 존재 여부 확인"
   ]
  },
  {
   "cell_type": "code",
   "execution_count": 23,
   "metadata": {
    "scrolled": true
   },
   "outputs": [
    {
     "name": "stdout",
     "output_type": "stream",
     "text": [
      "중복이 없습니다.\n"
     ]
    }
   ],
   "source": [
    "if any(df['구분'].duplicated()):\n",
    "  print('중복이 있습니다.')\n",
    "else:\n",
    "  print('중복이 없습니다.')"
   ]
  },
  {
   "cell_type": "code",
   "execution_count": 7,
   "metadata": {},
   "outputs": [
    {
     "name": "stdout",
     "output_type": "stream",
     "text": [
      "False\n",
      "\n",
      "\n"
     ]
    }
   ],
   "source": [
    "area_list = []\n",
    "check = True\n",
    "for i in range (len(df)):\n",
    "    str = ''\n",
    "    for j in range (len(df.loc[i]['구분'])):\n",
    "        if df.loc[i]['구분'][j] == '시' and j > 0:\n",
    "            str += df.loc[i]['구분'][j]\n",
    "            break\n",
    "        else:\n",
    "            str += df.loc[i]['구분'][j]\n",
    "    if str in area_list:\n",
    "        check = False\n",
    "    else:\n",
    "        area_list.append(str)\n",
    "if check:\n",
    "    print(\"True\")\n",
    "else:\n",
    "    print(\"False\")\n",
    "print(\"\\n\")"
   ]
  },
  {
   "cell_type": "markdown",
   "metadata": {},
   "source": [
    "### 4. 2017년 수원시 인구의 합"
   ]
  },
  {
   "cell_type": "code",
   "execution_count": 26,
   "metadata": {
    "scrolled": true
   },
   "outputs": [
    {
     "data": {
      "text/html": [
       "<div>\n",
       "<style scoped>\n",
       "    .dataframe tbody tr th:only-of-type {\n",
       "        vertical-align: middle;\n",
       "    }\n",
       "\n",
       "    .dataframe tbody tr th {\n",
       "        vertical-align: top;\n",
       "    }\n",
       "\n",
       "    .dataframe thead th {\n",
       "        text-align: right;\n",
       "    }\n",
       "</style>\n",
       "<table border=\"1\" class=\"dataframe\">\n",
       "  <thead>\n",
       "    <tr style=\"text-align: right;\">\n",
       "      <th></th>\n",
       "      <th>구분</th>\n",
       "      <th>2007</th>\n",
       "      <th>2008</th>\n",
       "      <th>2009</th>\n",
       "      <th>2010</th>\n",
       "      <th>2011</th>\n",
       "      <th>2012</th>\n",
       "      <th>2013</th>\n",
       "      <th>2014</th>\n",
       "      <th>2015</th>\n",
       "      <th>2016</th>\n",
       "      <th>2017</th>\n",
       "    </tr>\n",
       "  </thead>\n",
       "  <tbody>\n",
       "    <tr>\n",
       "      <td>0</td>\n",
       "      <td>수원시장안구</td>\n",
       "      <td>287474</td>\n",
       "      <td>285803</td>\n",
       "      <td>290798</td>\n",
       "      <td>293692</td>\n",
       "      <td>290999</td>\n",
       "      <td>291757</td>\n",
       "      <td>300908</td>\n",
       "      <td>301196</td>\n",
       "      <td>299016</td>\n",
       "      <td>296479</td>\n",
       "      <td>293828</td>\n",
       "    </tr>\n",
       "    <tr>\n",
       "      <td>1</td>\n",
       "      <td>수원시권선구</td>\n",
       "      <td>310553</td>\n",
       "      <td>308177</td>\n",
       "      <td>304097</td>\n",
       "      <td>306783</td>\n",
       "      <td>321176</td>\n",
       "      <td>332633</td>\n",
       "      <td>331773</td>\n",
       "      <td>339835</td>\n",
       "      <td>351053</td>\n",
       "      <td>358393</td>\n",
       "      <td>365653</td>\n",
       "    </tr>\n",
       "    <tr>\n",
       "      <td>2</td>\n",
       "      <td>수원시팔달구</td>\n",
       "      <td>216945</td>\n",
       "      <td>213235</td>\n",
       "      <td>219833</td>\n",
       "      <td>216503</td>\n",
       "      <td>209772</td>\n",
       "      <td>206794</td>\n",
       "      <td>204805</td>\n",
       "      <td>203479</td>\n",
       "      <td>199180</td>\n",
       "      <td>198515</td>\n",
       "      <td>193311</td>\n",
       "    </tr>\n",
       "    <tr>\n",
       "      <td>3</td>\n",
       "      <td>수원시영통구</td>\n",
       "      <td>252730</td>\n",
       "      <td>260210</td>\n",
       "      <td>258421</td>\n",
       "      <td>260557</td>\n",
       "      <td>266542</td>\n",
       "      <td>289074</td>\n",
       "      <td>310671</td>\n",
       "      <td>329718</td>\n",
       "      <td>335375</td>\n",
       "      <td>340654</td>\n",
       "      <td>349836</td>\n",
       "    </tr>\n",
       "  </tbody>\n",
       "</table>\n",
       "</div>"
      ],
      "text/plain": [
       "       구분    2007    2008    2009    2010    2011    2012    2013    2014  \\\n",
       "0  수원시장안구  287474  285803  290798  293692  290999  291757  300908  301196   \n",
       "1  수원시권선구  310553  308177  304097  306783  321176  332633  331773  339835   \n",
       "2  수원시팔달구  216945  213235  219833  216503  209772  206794  204805  203479   \n",
       "3  수원시영통구  252730  260210  258421  260557  266542  289074  310671  329718   \n",
       "\n",
       "     2015    2016    2017  \n",
       "0  299016  296479  293828  \n",
       "1  351053  358393  365653  \n",
       "2  199180  198515  193311  \n",
       "3  335375  340654  349836  "
      ]
     },
     "execution_count": 26,
     "metadata": {},
     "output_type": "execute_result"
    }
   ],
   "source": [
    "suwon = df.loc[df['구분'].str.startswith('수원')]\n",
    "suwon"
   ]
  },
  {
   "cell_type": "code",
   "execution_count": 28,
   "metadata": {
    "scrolled": false
   },
   "outputs": [
    {
     "name": "stdout",
     "output_type": "stream",
     "text": [
      "2017년 수원시 인구의 합: 1202628\n"
     ]
    }
   ],
   "source": [
    "suwon_sum = suwon.sum(axis=0)\n",
    "print('2017년 수원시 인구의 합:',suwon_sum[2017])"
   ]
  },
  {
   "cell_type": "markdown",
   "metadata": {},
   "source": [
    "---"
   ]
  },
  {
   "cell_type": "code",
   "execution_count": 33,
   "metadata": {
    "scrolled": true
   },
   "outputs": [
    {
     "name": "stdout",
     "output_type": "stream",
     "text": [
      "1202628\n"
     ]
    }
   ],
   "source": [
    "print(df[df['구분'].str.contains('수원')][2017].sum())"
   ]
  },
  {
   "cell_type": "code",
   "execution_count": 12,
   "metadata": {
    "scrolled": true
   },
   "outputs": [
    {
     "name": "stdout",
     "output_type": "stream",
     "text": [
      "2017년 수원시 총 인구는 1202628명\n"
     ]
    }
   ],
   "source": [
    "df.set_index('구분', inplace = True)  \n",
    "import re\n",
    "char = r'수원시'\n",
    "df_sw = df.loc[[x for x in df.index if re.match(char, x) != None]]\n",
    "sw_sum = df_sw[2017].sum()\n",
    "print('2017년 수원시 총 인구는 %d명'%sw_sum)"
   ]
  },
  {
   "cell_type": "code",
   "execution_count": 41,
   "metadata": {},
   "outputs": [
    {
     "name": "stdout",
     "output_type": "stream",
     "text": [
      "4. 2017년 수원시 인구의 합 : 1202628\n"
     ]
    }
   ],
   "source": [
    "import re\n",
    " \n",
    "total_population_suwon_2017 = 0\n",
    "pattern = r\"수원시\"\n",
    "\n",
    "for i in range(len(df)):\n",
    "    if re.match(pattern, df['구분'][i]):\n",
    "        total_population_suwon_2017 = total_population_suwon_2017 + df[2017][i]\n",
    "\n",
    "print(\"4. 2017년 수원시 인구의 합 :\", total_population_suwon_2017)"
   ]
  },
  {
   "cell_type": "code",
   "execution_count": 38,
   "metadata": {},
   "outputs": [
    {
     "name": "stdout",
     "output_type": "stream",
     "text": [
      "1202628\n",
      "\n",
      "\n"
     ]
    }
   ],
   "source": [
    "sum = 0\n",
    "for i in range (len(df)):\n",
    "    if '수원시' in df.loc[i]['구분']:\n",
    "        sum += df.loc[i][2017]\n",
    "print(sum)\n",
    "print(\"\\n\")"
   ]
  },
  {
   "cell_type": "markdown",
   "metadata": {},
   "source": [
    "### 5. 2017년 인구가 50만이상이 지역 출력"
   ]
  },
  {
   "cell_type": "code",
   "execution_count": 69,
   "metadata": {
    "scrolled": true
   },
   "outputs": [
    {
     "name": "stdout",
     "output_type": "stream",
     "text": [
      "         구분    2017\n",
      "0    수원시장안구  293828\n",
      "1    수원시권선구  365653\n",
      "2    수원시팔달구  193311\n",
      "3    수원시영통구  349836\n",
      "4    성남시수정구  236932\n",
      "5    성남시중원구  230366\n",
      "6    성남시분당구  500212\n",
      "7      의정부시  441584\n",
      "8    안양시만안구  254977\n",
      "9    안양시동안구  332787\n",
      "10   부천시원미구  442898\n",
      "11   부천시소사구  222016\n",
      "12   부천시오정구  184073\n",
      "13      광명시  332790\n",
      "14      평택시  481530\n",
      "15     동두천시   97071\n",
      "16   안산시상록구  370744\n",
      "17   안산시단원구  306966\n",
      "18   고양시덕양구  448684\n",
      "19  고양시일산동구  293673\n",
      "20  고양시일산서구  299626\n",
      "21      과천시   57527\n",
      "22      구리시  200042\n",
      "23     남양주시  665321\n",
      "24      오산시  213437\n",
      "25      시흥시  419664\n",
      "26      군포시  281205\n",
      "27      의왕시  155767\n",
      "28      하남시  232487\n",
      "29   용인시처인구  231553\n",
      "30   용인시기흥구  419429\n",
      "31   용인시수지구  353099\n",
      "32      파주시  437848\n",
      "33      이천시  213142\n",
      "34      안성시  182786\n",
      "35      김포시  392092\n",
      "36      화성시  691086\n",
      "37      광주시  345947\n",
      "38      양주시  212146\n",
      "39      포천시  152925\n",
      "40      여주시  111984\n",
      "41      연천군   45431\n",
      "42      가평군   62973\n",
      "43      양평군  115105\n"
     ]
    }
   ],
   "source": [
    "data_2017 = data[['구분',2017]]\n",
    "print(data_2017)"
   ]
  },
  {
   "cell_type": "markdown",
   "metadata": {},
   "source": [
    "--- "
   ]
  },
  {
   "cell_type": "code",
   "execution_count": 37,
   "metadata": {},
   "outputs": [
    {
     "name": "stdout",
     "output_type": "stream",
     "text": [
      "성남시분당구\n",
      "남양주시\n",
      "화성시\n",
      "\n",
      "\n"
     ]
    }
   ],
   "source": [
    "for i in range(len(df)):\n",
    "    if df.loc[i][2017] >= 500000:\n",
    "        print(df.loc[i]['구분'])\n",
    "print(\"\\n\")"
   ]
  },
  {
   "cell_type": "code",
   "execution_count": 39,
   "metadata": {},
   "outputs": [
    {
     "name": "stdout",
     "output_type": "stream",
     "text": [
      "6     성남시분당구\n",
      "23      남양주시\n",
      "36       화성시\n",
      "Name: 구분, dtype: object\n"
     ]
    }
   ],
   "source": [
    "print(df[df[2017] > 500000]['구분'])"
   ]
  },
  {
   "cell_type": "markdown",
   "metadata": {},
   "source": [
    "### 6. 2017년 경기도 전체 인구의 시별 인구 평균  "
   ]
  },
  {
   "cell_type": "code",
   "execution_count": 43,
   "metadata": {},
   "outputs": [
    {
     "name": "stdout",
     "output_type": "stream",
     "text": [
      "451751.5714285714\n"
     ]
    }
   ],
   "source": [
    "import re\n",
    "\n",
    "def f(s):\n",
    "  result = p.findall(s['구분'])\n",
    "  return pd.Series((result[0],s[2017])) if result else np.nan\n",
    "\n",
    "p = re.compile('[ㄱ-ㅎ|ㅏ-ㅣ|가-힣]+시')\n",
    "si_2017 = df.apply(f, axis=1)\n",
    "si_2017.columns = ['지역', 2017]\n",
    "\n",
    "print(si_2017.groupby(['지역'])[2017].sum().mean())"
   ]
  },
  {
   "cell_type": "code",
   "execution_count": 44,
   "metadata": {
    "scrolled": true
   },
   "outputs": [
    {
     "name": "stdout",
     "output_type": "stream",
     "text": [
      "                  0\n",
      "수원시   300657.000000\n",
      "성남시   322503.333333\n",
      "의정부시  441584.000000\n",
      "안양시   293882.000000\n",
      "부천시   282995.666667\n",
      "광명시   332790.000000\n",
      "평택시   481530.000000\n",
      "동두천시   97071.000000\n",
      "안산시   338855.000000\n",
      "고양시   347327.666667\n",
      "과천시    57527.000000\n",
      "구리시   200042.000000\n",
      "남양주시  665321.000000\n",
      "오산시   213437.000000\n",
      "시흥시   419664.000000\n",
      "군포시   281205.000000\n",
      "의왕시   155767.000000\n",
      "하남시   232487.000000\n",
      "용인시   334693.666667\n",
      "파주시   437848.000000\n",
      "이천시   213142.000000\n",
      "안성시   182786.000000\n",
      "김포시   392092.000000\n",
      "화성시   691086.000000\n",
      "광주시   345947.000000\n",
      "양주시   438733.500000\n",
      "포천시   152925.000000\n",
      "여주시   111984.000000\n",
      "연천군    45431.000000\n",
      "가평군    62973.000000\n",
      "양평군   115105.000000\n",
      "\n",
      "\n"
     ]
    }
   ],
   "source": [
    "sum_list = [0 for i in range(len(area_list))]\n",
    "dup_list = [0 for i in range(len(area_list))]\n",
    "\n",
    "for i in range (len(area_list)):\n",
    "    for j in range(len(df)):\n",
    "        if area_list[i] in df.loc[j]['구분']:\n",
    "            sum_list[i] += df.loc[j][2017]\n",
    "            dup_list[i] += 1\n",
    "\n",
    "average_list = [x/y for x, y in zip(sum_list, dup_list)]\n",
    "\n",
    "df2 = pd.DataFrame(average_list, index=area_list)\n",
    "print(df2)\n",
    "print(\"\\n\")"
   ]
  },
  {
   "cell_type": "code",
   "execution_count": 46,
   "metadata": {
    "scrolled": true
   },
   "outputs": [
    {
     "name": "stdout",
     "output_type": "stream",
     "text": [
      "6-1. 2017년 경기도 지역별 평균 인구수 : 308513 명\n",
      "6-2. 2017년 경기도 전체 인구의 시별 인구 평균 :\n"
     ]
    },
    {
     "name": "stderr",
     "output_type": "stream",
     "text": [
      "C:\\Users\\student\\Anaconda3\\lib\\site-packages\\ipykernel_launcher.py:19: SettingWithCopyWarning: \n",
      "A value is trying to be set on a copy of a slice from a DataFrame\n",
      "\n",
      "See the caveats in the documentation: http://pandas.pydata.org/pandas-docs/stable/user_guide/indexing.html#returning-a-view-versus-a-copy\n"
     ]
    },
    {
     "data": {
      "text/plain": [
       "구분\n",
       "고양시     347327.7\n",
       "과천시      57527.0\n",
       "광명시     332790.0\n",
       "광주시     345947.0\n",
       "구리시     200042.0\n",
       "군포시     281205.0\n",
       "김포시     392092.0\n",
       "남양주시    665321.0\n",
       "동두천시     97071.0\n",
       "부천시     282995.7\n",
       "성남시     322503.3\n",
       "수원시     300657.0\n",
       "시흥시     419664.0\n",
       "안산시     338855.0\n",
       "안성시     182786.0\n",
       "안양시     293882.0\n",
       "양주시     212146.0\n",
       "여주시     111984.0\n",
       "오산시     213437.0\n",
       "용인시     334693.7\n",
       "의왕시     155767.0\n",
       "의정부시    441584.0\n",
       "이천시     213142.0\n",
       "파주시     437848.0\n",
       "평택시     481530.0\n",
       "포천시     152925.0\n",
       "하남시     232487.0\n",
       "화성시     691086.0\n",
       "Name: 2017, dtype: float64"
      ]
     },
     "metadata": {},
     "output_type": "display_data"
    }
   ],
   "source": [
    "################### 2017년 경기도 지역별 평균 인구수 ###################\n",
    "\n",
    "total_popuation_gyeongi_2017 = int(df[2017].sum() / len(df))\n",
    "\n",
    "print(\"6-1. 2017년 경기도 지역별 평균 인구수 :\", total_popuation_gyeongi_2017, \"명\")\n",
    "\n",
    "################### 2017년 경기도 전체 인구의 시별 인구 평균 ###################\n",
    "\n",
    "# 정규표현식을 통한 **시 필터링\n",
    "\n",
    "pattern = re.compile(r\"(\\w+[시]\\s*)\")\n",
    "\n",
    "for i in range(len(df)):\n",
    "    m = pattern.match(df['구분'][i])\n",
    "    # dismatch 시 pass\n",
    "    if m == None:\n",
    "         df.drop(i, inplace=True)\n",
    "    else:\n",
    "        df['구분'][i] = m.group()\n",
    "\n",
    "# 도시별 그룹화\n",
    "\n",
    "means = round(df.groupby(df[\"구분\"]).mean(),1)\n",
    "\n",
    "print(\"6-2. 2017년 경기도 전체 인구의 시별 인구 평균 :\")\n",
    "\n",
    "display(means[2017])"
   ]
  },
  {
   "cell_type": "code",
   "execution_count": null,
   "metadata": {},
   "outputs": [],
   "source": []
  },
  {
   "cell_type": "code",
   "execution_count": null,
   "metadata": {},
   "outputs": [],
   "source": []
  },
  {
   "cell_type": "code",
   "execution_count": null,
   "metadata": {},
   "outputs": [],
   "source": []
  }
 ],
 "metadata": {
  "kernelspec": {
   "display_name": "Python 3",
   "language": "python",
   "name": "python3"
  },
  "language_info": {
   "codemirror_mode": {
    "name": "ipython",
    "version": 3
   },
   "file_extension": ".py",
   "mimetype": "text/x-python",
   "name": "python",
   "nbconvert_exporter": "python",
   "pygments_lexer": "ipython3",
   "version": "3.7.4"
  }
 },
 "nbformat": 4,
 "nbformat_minor": 2
}
