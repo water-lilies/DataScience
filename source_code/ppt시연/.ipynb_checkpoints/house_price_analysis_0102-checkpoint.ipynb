{
 "cells": [
  {
   "cell_type": "markdown",
   "metadata": {},
   "source": [
    "# import"
   ]
  },
  {
   "cell_type": "code",
   "execution_count": null,
   "metadata": {},
   "outputs": [],
   "source": [
    "import pandas as pd\n",
    "import numpy as np\n",
    "import folium\n",
    "import matplotlib.pylab as plt\n",
    "import requests\n",
    "import json\n",
    "from matplotlib import font_manager, rc\n",
    "from IPython.core.interactiveshell import InteractiveShell\n",
    "InteractiveShell.ast_node_interactivity = \"all\""
   ]
  },
  {
   "cell_type": "markdown",
   "metadata": {},
   "source": [
    "# 속성추가 : 지번주소, 면적당금액\n",
    "* 자치구명, 법정동명, 지번코드를 사용하여 지번주소를 만듭니다\n",
    "* (물건금액 / 건물면적)으로 면적당금액을 구합니다"
   ]
  },
  {
   "cell_type": "code",
   "execution_count": null,
   "metadata": {
    "scrolled": true
   },
   "outputs": [],
   "source": [
    "org_df = pd.read_csv('datas/input/download/서울특별시 부동산 실거래가 정보.csv')\n",
    "use_df = org_df[org_df['신고년도'].isin([2017, 2018, 2019])][\n",
    "        [\n",
    "            '실거래가아이디',\n",
    "            '지번코드',\n",
    "            '자치구명',\n",
    "            '법정동명',\n",
    "            '신고년도',\n",
    "            '건물면적',\n",
    "            '층정보',\n",
    "            '물건금액',\n",
    "            '건축년도',\n",
    "            '건물주용도'\n",
    "        ]\n",
    "]\n",
    "use_df['면적당금액'] = use_df['물건금액'] / use_df['건물면적']\n",
    "use_df = use_df.astype('str')\n",
    "use_df = use_df[use_df['지번코드'].str.len() == 19]\n",
    "\n",
    "def to_address(s):\n",
    "    a = s.지번코드[-8:-4].lstrip('0')\n",
    "    b = s.지번코드[-4:].lstrip('0')\n",
    "    addr = f'서울특별시 {s.자치구명} {s.법정동명} '\n",
    "    addr += f'{a} - {b}' if b else a\n",
    "    return addr\n",
    "\n",
    "use_df['지번주소'] = use_df.apply(to_address, axis=1)\n",
    "use_df.head(2)"
   ]
  },
  {
   "cell_type": "markdown",
   "metadata": {},
   "source": [
    "# 속성추가 : x, y\n",
    "* Kakao API를 사용하여 지번주소를 x, y로 변환합니다\n",
    "* API로 중복된 주소를 요청하지 않게 unique한 주소만 준비합니다"
   ]
  },
  {
   "cell_type": "code",
   "execution_count": null,
   "metadata": {},
   "outputs": [],
   "source": [
    "need_xy_h = pd.DataFrame(use_df['지번주소'].unique(), columns=['지번주소'])\n",
    "need_xy_h.head()\n",
    "\n",
    "# input: 지번주소, output: (x,y)\n",
    "def get_xy(address):\n",
    "    url = 'https://dapi.kakao.com/v2/local/search/address'\n",
    "    queryString = {'query': address}\n",
    "    header = {'authorization': 'KakaoAK 6c278df812d9e7f9186d188ae00ca25e'}\n",
    "    r = requests.get(url, headers=header, params=queryString)\n",
    "    if r.status_code != 200:\n",
    "        print('리스폰 오류')\n",
    "        df.to_csv('output/매칭 좌표.csv', encoding='euc-kr')\n",
    "        raise Exception('리스폰 오류')\n",
    "    try:\n",
    "        addr = json.loads(r.text)['documents'][0]['address']\n",
    "        return (addr['x'], addr['y'])\n",
    "    except:\n",
    "        return None, None\n",
    "\n",
    "\n",
    "# 오래걸리므로 실행하지 않습니다 (약 30분 소요)\n",
    "# 이후 단계는 저장해둔 파일로 진행합니다\n",
    "'''\n",
    "need_xy_h['x'], need_xy_h['y'] = 0, 0\n",
    "for i in range(len(need_xy_h)):\n",
    "    x, y = get_xy(need_xy_h.iloc[i]['지번주소'])\n",
    "    need_xy_h['x'][i] = x\n",
    "    need_xy_h['y'][i] = y\n",
    "need_xy_h.to_csv('datas/input/made/매칭 좌표.csv', encoding='euc-kr')\n",
    "'''"
   ]
  },
  {
   "cell_type": "markdown",
   "metadata": {},
   "source": [
    "# csv에 저장된 API결과를 불러옵니다"
   ]
  },
  {
   "cell_type": "code",
   "execution_count": null,
   "metadata": {},
   "outputs": [],
   "source": [
    "xy_house = pd.read_csv('datas/input/made/3_매칭 좌표.csv', encoding='cp949',\n",
    "                      usecols=['지번주소', 'x', 'y'])\n",
    "xy_house.head(2)"
   ]
  },
  {
   "cell_type": "markdown",
   "metadata": {},
   "source": [
    "# 지번주소와 좌표를 merge합니다"
   ]
  },
  {
   "cell_type": "code",
   "execution_count": null,
   "metadata": {},
   "outputs": [],
   "source": [
    "use_df = use_df.merge(xy_house, on='지번주소')\n",
    "use_df.head(2)"
   ]
  },
  {
   "cell_type": "markdown",
   "metadata": {},
   "source": [
    "# (역정보, 좌표정보)csv 파일을 merge합니다\n",
    "* 공통 속성인 전철역코드를 기준으로 merge합니다"
   ]
  },
  {
   "cell_type": "code",
   "execution_count": null,
   "metadata": {
    "scrolled": true
   },
   "outputs": [],
   "source": [
    "sc_df = pd.read_csv('datas/input/download/서울시 역코드로 지하철역 위치 조회.csv',\n",
    "                        usecols=['전철역코드', 'X좌표(WGS)', 'Y좌표(WGS)']).astype(str)\n",
    "ss_df = pd.read_csv('datas/input/download/서울특별시 노선별 지하철역 정보.csv',\n",
    "                        usecols=['전철역코드', '전철역명']).astype(str)\n",
    "\n",
    "sc_df['전철역코드'] = sc_df['전철역코드'].apply(lambda x: x.lstrip('0'))\n",
    "ss_df['전철역코드'] = ss_df['전철역코드'].apply(lambda x: x.lstrip('0'))\n",
    "xy_station = pd.merge(ss_df, sc_df, on='전철역코드').dropna()\n",
    "xy_station.columns = ['전철역코드', '전철역명', 'y', 'x']\n",
    "xy_station.head(2)"
   ]
  },
  {
   "cell_type": "markdown",
   "metadata": {},
   "source": [
    "# 속성추가 : 최단역명, 최단역겨리\n",
    "1. 모든역과의 거리를 피타고라스 공식으로 구합니다\n",
    "2. 가장 가까운 거리를 찾습니다"
   ]
  },
  {
   "cell_type": "code",
   "execution_count": null,
   "metadata": {},
   "outputs": [],
   "source": [
    "def find_nearest(s):\n",
    "    x_sq = pow(xy_station['x'] - s.x, 2)\n",
    "    y_sq = pow(xy_station['y'] - s.y, 2)\n",
    "    xy = x_sq + y_sq\n",
    "    xy_root = pow(xy, 0.5)\n",
    "    idxmin = xy_root.idxmin()\n",
    "    return xy_station.iloc[idxmin]['전철역명'], xy_root.iloc[idxmin]\n",
    "\n",
    "# 오래걸리므로 실행하지 않습니다.\n",
    "# 이후 단계는 저장해놓은 파일을 사용합니다\n",
    "'''\n",
    "use_df.dropna(inplace=True)\n",
    "use_df['x'] = use_df['x'].astype('float')\n",
    "use_df['y'] = use_df['y'].astype('float')\n",
    "xy_station['x'] = xy_station['x'].astype('float')\n",
    "xy_station['y'] = xy_station['y'].astype('float')\n",
    "\n",
    "use_df['최단역명'], use_df['최단역거리'] = zip(*use_df.apply(find_nearest, axis=1))\n",
    "use_df.to_csv('datas/input/made/최단역 추가.csv', encoding='euc-kr')\n",
    "'''\n",
    "\n",
    "use_df = pd.read_csv('datas/input/made/최단역 추가.csv', encoding='cp949').iloc[:, 1:]\n",
    "use_df.head(2)"
   ]
  },
  {
   "cell_type": "markdown",
   "metadata": {},
   "source": [
    "# 지역별로 상관계수를 봅니다\n",
    "* 면적당금액, 최단역거리의 상관계수입니다\n",
    "* 상관계수가 -1 또는 1에 가까운 극단적인 지역은 데이터수가 적어 신뢰도가 낮습니다"
   ]
  },
  {
   "cell_type": "code",
   "execution_count": null,
   "metadata": {},
   "outputs": [],
   "source": [
    "font_name = font_manager.FontProperties(fname=\"datas/fonts/gulim.ttc\").get_name()\n",
    "rc('font', family=font_name)\n",
    "\n",
    "mask = use_df['건물주용도']=='연립주택'\n",
    "corr_list = []\n",
    "for station in use_df[mask].groupby('최단역명'):\n",
    "    name = station[0]\n",
    "    corr_val = station[1][['최단역거리', '면적당금액']].astype(np.float).corr()['면적당금액']['최단역거리']\n",
    "    corr_list.append(\n",
    "        {\n",
    "            '전철역명':name,\n",
    "            '상관계수':corr_val,\n",
    "            '데이터수':len(station[1])\n",
    "        }\n",
    "    )\n",
    "corr_df = pd.DataFrame(corr_list).sort_values(by='상관계수', axis=0)\n",
    "corr_df = corr_df.dropna(subset=['상관계수'])\n",
    "corr_df\n",
    "corr_df.plot(kind='scatter', x='상관계수', y='데이터수')"
   ]
  },
  {
   "cell_type": "markdown",
   "metadata": {},
   "source": [
    "# Map을 그리는 함수를 만들어 놓습니다"
   ]
  },
  {
   "cell_type": "code",
   "execution_count": null,
   "metadata": {},
   "outputs": [],
   "source": [
    "def draw_map(center, locations, values, qcut_colors,):\n",
    "    map_ = folium.Map(center, zoom_start=14, tiles='Stamen Toner')\n",
    "    colors = get_colors(values, qcut_colors)\n",
    "    for (x,y),color in zip(locations.values, colors):\n",
    "        folium.CircleMarker(\n",
    "            location=[y, x],\n",
    "            radius=4,\n",
    "            color=color,\n",
    "            fill_color=color,\n",
    "            fill=True,\n",
    "            fill_opacity=0.5,\n",
    "        ).add_to(map_)\n",
    "    folium.Marker(\n",
    "        location=center,\n",
    "        icon=folium.Icon(color='blue', icon='star'),\n",
    "    ).add_to(map_)\n",
    "    return map_\n",
    "\n",
    "def get_colors(values, qcut_colors):\n",
    "    colors = qcut_colors\n",
    "    return pd.qcut(values, len(qcut_colors), labels=qcut_colors)\n"
   ]
  },
  {
   "cell_type": "markdown",
   "metadata": {},
   "source": [
    "# 가좌역 부근 거래 정보를 시각화합니다\n",
    "* 적당한 데이터수(1222개)를 가진 가좌역을 시각화합니다\n",
    "* 가좌역의 상관계수는 -0.384 입니다\n",
    "* 역에 가까울수록 비쌈을 의미합니다\n",
    "* 빨간:고가, 주황:중간, 연두:저가"
   ]
  },
  {
   "cell_type": "code",
   "execution_count": null,
   "metadata": {
    "scrolled": false
   },
   "outputs": [],
   "source": [
    "station = '가좌'\n",
    "mask = (use_df['최단역명']==station)\n",
    "cur_df = use_df[mask]\n",
    "cur_df['면적당금액'] = cur_df['면적당금액'].astype(np.float)\n",
    "cur_df = use_df[mask].sample(1000)\n",
    "draw_map(\n",
    "    center=xy_station.loc[xy_station['전철역명']==station, ['y', 'x']].values[0],\n",
    "    locations=cur_df[['x', 'y']],\n",
    "    values=cur_df['면적당금액'],\n",
    "    qcut_colors=['lightgreen', 'orange', 'red']\n",
    ")\n"
   ]
  },
  {
   "cell_type": "markdown",
   "metadata": {},
   "source": [
    "# 가좌역의 면적당금액과 거리와의 관계를 시각화합니다\n",
    "* 상관계수에서 볼 수 있듯이 음의 상관관계를 보입니다"
   ]
  },
  {
   "cell_type": "code",
   "execution_count": null,
   "metadata": {
    "scrolled": true
   },
   "outputs": [],
   "source": [
    "cur_df.plot(kind='scatter', x='최단역거리', y='면적당금액')"
   ]
  },
  {
   "cell_type": "markdown",
   "metadata": {},
   "source": [
    "# 양의 상관관계를 가진 역의 원인을 추측합니다\n",
    "* 시각화를 통해 원인을 찾아봅니다\n",
    "* 0.475의 상관계수를 가지는 성수역을 시각화합니다\n",
    "* 역에서 먼 한강부근에서의 집값이 높습니다\n",
    "* 한강뷰(조망권)가 역세권보다 큰 영향을 준것으로 추측됩니다"
   ]
  },
  {
   "cell_type": "code",
   "execution_count": null,
   "metadata": {
    "scrolled": false
   },
   "outputs": [],
   "source": [
    "station = '성수'\n",
    "mask = (use_df['최단역명']==station)\n",
    "cur_df['면적당금액'] = cur_df['면적당금액'].astype(np.float)\n",
    "cur_df = use_df[mask]\n",
    "draw_map(\n",
    "    center=xy_station.loc[xy_station['전철역명']==station, ['y', 'x']].values[0],\n",
    "    locations=cur_df[['x', 'y']],\n",
    "    values=cur_df['면적당금액'],\n",
    "    qcut_colors=['lightgreen', 'orange', 'red']\n",
    ")"
   ]
  }
 ],
 "metadata": {
  "kernelspec": {
   "display_name": "Python 3",
   "language": "python",
   "name": "python3"
  },
  "language_info": {
   "codemirror_mode": {
    "name": "ipython",
    "version": 3
   },
   "file_extension": ".py",
   "mimetype": "text/x-python",
   "name": "python",
   "nbconvert_exporter": "python",
   "pygments_lexer": "ipython3",
   "version": "3.7.5"
  }
 },
 "nbformat": 4,
 "nbformat_minor": 2
}
