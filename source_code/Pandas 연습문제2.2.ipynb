{
 "cells": [
  {
   "cell_type": "markdown",
   "metadata": {},
   "source": [
    "기상자료개방포털 홈페이지 https://data.kma.go.kr 강수량, 전운량, 황사 발생일수 등 기상과 관련된 다양한 데이터 존재\n",
    "\n",
    "\n",
    "상단 메뉴에서 기후통계분석 → 기후분석을 선택하고 조건별통계 페이지에서 기온 정보를 알고 싶은 지역과 기간을 설정하여 ‘지역별 기온 데이터’를 CSV 다운로드로 내려받습니다.\n",
    "\n",
    "**pandas  라이브러리를 이용하여 다음 데이터를 찾는 코드를 작성하시오.**\n",
    "\n",
    "1. 서울지역의 2000년도~2018년도  날씨 데이터로부터  가장 기온이 낮았던 날짜와 기온 출력\n",
    "\n",
    "2. 서울지역의  2000년도~2018년도 날씨 데이터로부터  강수량이 가장 많았던 날짜와 기온 출력\n",
    "\n",
    "3. 서울지역의 2000년도~2018년도 날씨 데이터로부터 년도별 가장 높은 날의 기온과  년도별 가장 높은 날의 기온을 변화를 쉽게 파악할 수 있도록  시각화하시오\n",
    "---"
   ]
  },
  {
   "cell_type": "code",
   "execution_count": 7,
   "metadata": {},
   "outputs": [],
   "source": [
    "import pandas as pd\n",
    "import numpy as np\n",
    "import re"
   ]
  },
  {
   "cell_type": "code",
   "execution_count": 8,
   "metadata": {},
   "outputs": [],
   "source": [
    "import matplotlib.pyplot as plt\n",
    "import seaborn as sns\n",
    "%matplotlib inline \n",
    "\n",
    "from matplotlib import font_manager, rc\n",
    "font_name = font_manager.FontProperties(fname=\"c:/Windows/Fonts/malgun.ttf\").get_name()\n",
    "rc('font', family=font_name)"
   ]
  },
  {
   "cell_type": "code",
   "execution_count": 50,
   "metadata": {
    "scrolled": true
   },
   "outputs": [],
   "source": [
    "df_tmp = pd.read_csv('./data/seoul_temperature.csv', skiprows = 10, encoding= 'cp949')\n",
    "df_preci = pd.read_csv('./data/seoul_precipitation.csv', skiprows = 6, encoding= 'cp949')"
   ]
  },
  {
   "cell_type": "code",
   "execution_count": 51,
   "metadata": {
    "scrolled": false
   },
   "outputs": [
    {
     "data": {
      "text/html": [
       "<div>\n",
       "<style scoped>\n",
       "    .dataframe tbody tr th:only-of-type {\n",
       "        vertical-align: middle;\n",
       "    }\n",
       "\n",
       "    .dataframe tbody tr th {\n",
       "        vertical-align: top;\n",
       "    }\n",
       "\n",
       "    .dataframe thead th {\n",
       "        text-align: right;\n",
       "    }\n",
       "</style>\n",
       "<table border=\"1\" class=\"dataframe\">\n",
       "  <thead>\n",
       "    <tr style=\"text-align: right;\">\n",
       "      <th></th>\n",
       "      <th>\\t\\t지점번호</th>\n",
       "      <th>지점명</th>\n",
       "      <th>일시</th>\n",
       "      <th>평균기온(℃)</th>\n",
       "      <th>평균최고기온(℃)</th>\n",
       "      <th>최고기온(℃)</th>\n",
       "      <th>\\t최고기온일자</th>\n",
       "      <th>평균최저기온(℃)</th>\n",
       "      <th>최저기온(℃)</th>\n",
       "      <th>최저기온일자</th>\n",
       "    </tr>\n",
       "  </thead>\n",
       "  <tbody>\n",
       "    <tr>\n",
       "      <td>0</td>\n",
       "      <td>\\t\\t108</td>\n",
       "      <td>서울</td>\n",
       "      <td>Jan-00</td>\n",
       "      <td>-2.1</td>\n",
       "      <td>1.7</td>\n",
       "      <td>9.9</td>\n",
       "      <td>2000-01-01</td>\n",
       "      <td>-5.7</td>\n",
       "      <td>-12.1</td>\n",
       "      <td>2000-01-07</td>\n",
       "    </tr>\n",
       "    <tr>\n",
       "      <td>1</td>\n",
       "      <td>\\t\\t108</td>\n",
       "      <td>서울</td>\n",
       "      <td>Feb-00</td>\n",
       "      <td>-1.7</td>\n",
       "      <td>2.6</td>\n",
       "      <td>7.5</td>\n",
       "      <td>2000-02-19</td>\n",
       "      <td>-5.8</td>\n",
       "      <td>-11.6</td>\n",
       "      <td>2000-02-01</td>\n",
       "    </tr>\n",
       "    <tr>\n",
       "      <td>2</td>\n",
       "      <td>\\t\\t108</td>\n",
       "      <td>서울</td>\n",
       "      <td>Mar-00</td>\n",
       "      <td>6.3</td>\n",
       "      <td>11.4</td>\n",
       "      <td>18.9</td>\n",
       "      <td>2000-03-27</td>\n",
       "      <td>1.7</td>\n",
       "      <td>-4.8</td>\n",
       "      <td>2000-03-08</td>\n",
       "    </tr>\n",
       "    <tr>\n",
       "      <td>3</td>\n",
       "      <td>\\t\\t108</td>\n",
       "      <td>서울</td>\n",
       "      <td>Apr-00</td>\n",
       "      <td>11.9</td>\n",
       "      <td>16.9</td>\n",
       "      <td>23.5</td>\n",
       "      <td>2000-04-20</td>\n",
       "      <td>7.3</td>\n",
       "      <td>1.8</td>\n",
       "      <td>2000-04-11</td>\n",
       "    </tr>\n",
       "    <tr>\n",
       "      <td>4</td>\n",
       "      <td>\\t\\t108</td>\n",
       "      <td>서울</td>\n",
       "      <td>May-00</td>\n",
       "      <td>17.5</td>\n",
       "      <td>22.7</td>\n",
       "      <td>30.5</td>\n",
       "      <td>2000-05-25</td>\n",
       "      <td>12.9</td>\n",
       "      <td>7.9</td>\n",
       "      <td>2000-05-02</td>\n",
       "    </tr>\n",
       "  </tbody>\n",
       "</table>\n",
       "</div>"
      ],
      "text/plain": [
       "  \\t\\t지점번호 지점명      일시  평균기온(℃)  평균최고기온(℃)  최고기온(℃)    \\t최고기온일자  평균최저기온(℃)  \\\n",
       "0  \\t\\t108  서울  Jan-00     -2.1        1.7      9.9  2000-01-01       -5.7   \n",
       "1  \\t\\t108  서울  Feb-00     -1.7        2.6      7.5  2000-02-19       -5.8   \n",
       "2  \\t\\t108  서울  Mar-00      6.3       11.4     18.9  2000-03-27        1.7   \n",
       "3  \\t\\t108  서울  Apr-00     11.9       16.9     23.5  2000-04-20        7.3   \n",
       "4  \\t\\t108  서울  May-00     17.5       22.7     30.5  2000-05-25       12.9   \n",
       "\n",
       "   최저기온(℃)      최저기온일자  \n",
       "0    -12.1  2000-01-07  \n",
       "1    -11.6  2000-02-01  \n",
       "2     -4.8  2000-03-08  \n",
       "3      1.8  2000-04-11  \n",
       "4      7.9  2000-05-02  "
      ]
     },
     "execution_count": 51,
     "metadata": {},
     "output_type": "execute_result"
    }
   ],
   "source": [
    "df_tmp.head()"
   ]
  },
  {
   "cell_type": "code",
   "execution_count": 52,
   "metadata": {
    "scrolled": true
   },
   "outputs": [
    {
     "data": {
      "text/html": [
       "<div>\n",
       "<style scoped>\n",
       "    .dataframe tbody tr th:only-of-type {\n",
       "        vertical-align: middle;\n",
       "    }\n",
       "\n",
       "    .dataframe tbody tr th {\n",
       "        vertical-align: top;\n",
       "    }\n",
       "\n",
       "    .dataframe thead th {\n",
       "        text-align: right;\n",
       "    }\n",
       "</style>\n",
       "<table border=\"1\" class=\"dataframe\">\n",
       "  <thead>\n",
       "    <tr style=\"text-align: right;\">\n",
       "      <th></th>\n",
       "      <th>날짜</th>\n",
       "      <th>지점</th>\n",
       "      <th>강수량(mm)</th>\n",
       "    </tr>\n",
       "  </thead>\n",
       "  <tbody>\n",
       "    <tr>\n",
       "      <td>0</td>\n",
       "      <td>2000-01-01</td>\n",
       "      <td>108</td>\n",
       "      <td>NaN</td>\n",
       "    </tr>\n",
       "    <tr>\n",
       "      <td>1</td>\n",
       "      <td>2000-01-02</td>\n",
       "      <td>108</td>\n",
       "      <td>6.0</td>\n",
       "    </tr>\n",
       "    <tr>\n",
       "      <td>2</td>\n",
       "      <td>2000-01-03</td>\n",
       "      <td>108</td>\n",
       "      <td>NaN</td>\n",
       "    </tr>\n",
       "    <tr>\n",
       "      <td>3</td>\n",
       "      <td>2000-01-04</td>\n",
       "      <td>108</td>\n",
       "      <td>NaN</td>\n",
       "    </tr>\n",
       "    <tr>\n",
       "      <td>4</td>\n",
       "      <td>2000-01-05</td>\n",
       "      <td>108</td>\n",
       "      <td>18.4</td>\n",
       "    </tr>\n",
       "  </tbody>\n",
       "</table>\n",
       "</div>"
      ],
      "text/plain": [
       "           날짜   지점  강수량(mm)\n",
       "0  2000-01-01  108      NaN\n",
       "1  2000-01-02  108      6.0\n",
       "2  2000-01-03  108      NaN\n",
       "3  2000-01-04  108      NaN\n",
       "4  2000-01-05  108     18.4"
      ]
     },
     "execution_count": 52,
     "metadata": {},
     "output_type": "execute_result"
    }
   ],
   "source": [
    "df_preci.head()"
   ]
  },
  {
   "cell_type": "code",
   "execution_count": 117,
   "metadata": {},
   "outputs": [
    {
     "data": {
      "text/plain": [
       "pandas.core.frame.DataFrame"
      ]
     },
     "execution_count": 117,
     "metadata": {},
     "output_type": "execute_result"
    }
   ],
   "source": [
    "type(df_preci)"
   ]
  },
  {
   "cell_type": "code",
   "execution_count": 71,
   "metadata": {
    "scrolled": true
   },
   "outputs": [
    {
     "data": {
      "text/plain": [
       "날짜          object\n",
       "지점           int64\n",
       "강수량(mm)    float64\n",
       "dtype: object"
      ]
     },
     "execution_count": 71,
     "metadata": {},
     "output_type": "execute_result"
    }
   ],
   "source": [
    "df_preci.dtypes"
   ]
  },
  {
   "cell_type": "markdown",
   "metadata": {},
   "source": [
    "**1. 서울지역의 2000년도~2018년도  날씨 데이터로부터  가장 기온이 낮았던 날짜와 기온 출력**"
   ]
  },
  {
   "cell_type": "code",
   "execution_count": 60,
   "metadata": {},
   "outputs": [
    {
     "name": "stdout",
     "output_type": "stream",
     "text": [
      "2000~2018년 최저 기온은  2001-01-15 에  -18.6 도로 기록되었습니다.\n"
     ]
    }
   ],
   "source": [
    "df = df_tmp[['최저기온(℃)','최저기온일자']]\n",
    "min_tmp = df.loc[df['최저기온(℃)'].idxmin(),:]  # idxmin(): 최소값을 가진 index를 반환\n",
    "\n",
    "print('2000~2018년 최저 기온은 %s에 %s도로 기록되었습니다.'%(min_tmp[1], min_tmp[0]))"
   ]
  },
  {
   "cell_type": "code",
   "execution_count": 116,
   "metadata": {},
   "outputs": [
    {
     "name": "stdout",
     "output_type": "stream",
     "text": [
      "최저기온(℃)         -18.6\n",
      "최저기온일자     2001-01-15\n",
      "Name: 12, dtype: object\n"
     ]
    }
   ],
   "source": [
    "print(min_tmp)"
   ]
  },
  {
   "cell_type": "code",
   "execution_count": 114,
   "metadata": {},
   "outputs": [
    {
     "data": {
      "text/plain": [
       "pandas.core.series.Series"
      ]
     },
     "execution_count": 114,
     "metadata": {},
     "output_type": "execute_result"
    }
   ],
   "source": [
    "type(min_tmp)"
   ]
  },
  {
   "cell_type": "markdown",
   "metadata": {},
   "source": [
    "**2. 서울지역의  2000년도~2018년도 날씨 데이터로부터  강수량이 가장 많았던 날짜와 기온 출력**"
   ]
  },
  {
   "cell_type": "code",
   "execution_count": 66,
   "metadata": {
    "scrolled": false
   },
   "outputs": [
    {
     "name": "stdout",
     "output_type": "stream",
     "text": [
      "날짜         2011-07-27\n",
      "지점                108\n",
      "강수량(mm)         301.5\n",
      "Name: 4225, dtype: object\n"
     ]
    }
   ],
   "source": [
    "max_preci = df_preci.loc[df_preci['강수량(mm)'].idxmax(),:]\n",
    "print(max_preci)"
   ]
  },
  {
   "cell_type": "code",
   "execution_count": 115,
   "metadata": {},
   "outputs": [
    {
     "data": {
      "text/plain": [
       "float"
      ]
     },
     "execution_count": 115,
     "metadata": {},
     "output_type": "execute_result"
    }
   ],
   "source": [
    "type(max_preci)"
   ]
  },
  {
   "cell_type": "code",
   "execution_count": 107,
   "metadata": {},
   "outputs": [
    {
     "name": "stdout",
     "output_type": "stream",
     "text": [
      "138    24.6\n",
      "Name: 평균기온(℃), dtype: float64\n"
     ]
    }
   ],
   "source": [
    "max_preci_day = df_tmp[df_tmp['일시'] == 'Jul-11']\n",
    "print(max_preci_day['평균기온(℃)'])"
   ]
  },
  {
   "cell_type": "code",
   "execution_count": 118,
   "metadata": {},
   "outputs": [
    {
     "data": {
      "text/plain": [
       "pandas.core.frame.DataFrame"
      ]
     },
     "execution_count": 118,
     "metadata": {},
     "output_type": "execute_result"
    }
   ],
   "source": [
    "type(max_preci_day)"
   ]
  },
  {
   "cell_type": "code",
   "execution_count": 110,
   "metadata": {},
   "outputs": [
    {
     "ename": "TypeError",
     "evalue": "'float' object is not subscriptable",
     "output_type": "error",
     "traceback": [
      "\u001b[1;31m---------------------------------------------------------------------------\u001b[0m",
      "\u001b[1;31mTypeError\u001b[0m                                 Traceback (most recent call last)",
      "\u001b[1;32m<ipython-input-110-6137e667cb0a>\u001b[0m in \u001b[0;36m<module>\u001b[1;34m\u001b[0m\n\u001b[0;32m      1\u001b[0m print('2000~2018년 최대 강수량은 %s에 %s(mm)이며, '\n\u001b[1;32m----> 2\u001b[1;33m       %(max_preci[0], max_preci[2]))\n\u001b[0m",
      "\u001b[1;31mTypeError\u001b[0m: 'float' object is not subscriptable"
     ]
    }
   ],
   "source": [
    "print('2000~2018년 최대 강수량은 %s에 %s(mm)이며, ' %(max_preci[0], max_preci[2]))"
   ]
  },
  {
   "cell_type": "markdown",
   "metadata": {},
   "source": [
    "**3. 서울지역의 2000년도~2018년도 날씨 데이터로부터 년도별 가장 높은 날의 기온과  년도별 가장 높은 날의 기온을 변화를 쉽게 파악할 수 있도록  시각화하시오**"
   ]
  },
  {
   "cell_type": "code",
   "execution_count": null,
   "metadata": {},
   "outputs": [],
   "source": []
  }
 ],
 "metadata": {
  "kernelspec": {
   "display_name": "Python 3",
   "language": "python",
   "name": "python3"
  },
  "language_info": {
   "codemirror_mode": {
    "name": "ipython",
    "version": 3
   },
   "file_extension": ".py",
   "mimetype": "text/x-python",
   "name": "python",
   "nbconvert_exporter": "python",
   "pygments_lexer": "ipython3",
   "version": "3.7.3"
  }
 },
 "nbformat": 4,
 "nbformat_minor": 2
}
