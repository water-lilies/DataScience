{
 "cells": [
  {
   "cell_type": "markdown",
   "metadata": {},
   "source": [
    "## 네이버 영화 평점, Review를 다수의 페이지에서 Scrapying실습"
   ]
  },
  {
   "cell_type": "code",
   "execution_count": 3,
   "metadata": {},
   "outputs": [],
   "source": [
    "from bs4 import BeautifulSoup\n",
    "import re\n",
    "import requests"
   ]
  },
  {
   "cell_type": "code",
   "execution_count": 8,
   "metadata": {},
   "outputs": [],
   "source": [
    "movie_title=[]\n",
    "movie_point=[]\n",
    "movie_review=[]\n",
    "\n",
    "for n in range(1, 11):\n",
    "    req = requests.get('http://movie.naver.com/movie/point/af/list.nhn?page='+str(n))    \n",
    "    html =req.text\n",
    "    soup = BeautifulSoup(html, 'html.parser')\n",
    "    titles = soup.select('.moive')\n",
    "    points = soup.select('td.title > div > em')\n",
    "    reviews = soup.select('td.title')    \n",
    "    for dom in titles :\n",
    "        movie_title.append(dom.text)\n",
    "    for dom in points :\n",
    "        movie_point.append(dom.text)\n",
    "    for dom in reviews :\n",
    "        content = dom.contents[6]  \n",
    "        content = re.sub(\"[\\n\\t]\", \"\", content)   \n",
    "        content = re.sub(\"신고\", \"\", content)\n",
    "        movie_review.append(content)\n",
    "\n",
    "for i  in range(len(movie_title)) :\n",
    "    print('영화제목:' , movie_title[i])\n",
    "    print('평점:' , movie_point[i])\n",
    "    print('리뷰:' , movie_review[i])\n",
    "    print('-----------------------------------------')"
   ]
  },
  {
   "cell_type": "code",
   "execution_count": null,
   "metadata": {},
   "outputs": [],
   "source": []
  }
 ],
 "metadata": {
  "kernelspec": {
   "display_name": "Python 3",
   "language": "python",
   "name": "python3"
  },
  "language_info": {
   "codemirror_mode": {
    "name": "ipython",
    "version": 3
   },
   "file_extension": ".py",
   "mimetype": "text/x-python",
   "name": "python",
   "nbconvert_exporter": "python",
   "pygments_lexer": "ipython3",
   "version": "3.7.4"
  }
 },
 "nbformat": 4,
 "nbformat_minor": 2
}
