{
  "nbformat": 4,
  "nbformat_minor": 0,
  "metadata": {
    "colab": {
      "name": "Day02.ipynb",
      "provenance": [],
      "collapsed_sections": [],
      "include_colab_link": true
    },
    "kernelspec": {
      "name": "python3",
      "display_name": "Python 3"
    }
  },
  "cells": [
    {
      "cell_type": "markdown",
      "metadata": {
        "id": "view-in-github",
        "colab_type": "text"
      },
      "source": [
        "<a href=\"https://colab.research.google.com/github/water-lilies/DataScience/blob/master/Day02.ipynb\" target=\"_parent\"><img src=\"https://colab.research.google.com/assets/colab-badge.svg\" alt=\"Open In Colab\"/></a>"
      ]
    },
    {
      "cell_type": "markdown",
      "metadata": {
        "id": "-af0GBXoIiKT",
        "colab_type": "text"
      },
      "source": [
        "**2019.12.10 2일차**\n",
        "\n",
        "http://10.5.4.100:8080/python.html\n",
        "\n",
        "수업 자료 링크"
      ]
    },
    {
      "cell_type": "code",
      "metadata": {
        "id": "Z7LVkfDiIWqS",
        "colab_type": "code",
        "colab": {}
      },
      "source": [
        "sum = 0\n",
        "for i in range(4):\n",
        "  for j in range(3):\n",
        "    sum += 1\n",
        "    print(sum)"
      ],
      "execution_count": 0,
      "outputs": []
    },
    {
      "cell_type": "code",
      "metadata": {
        "id": "uffHDT5Ce7T5",
        "colab_type": "code",
        "outputId": "fb96ccc1-85cc-4e52-f7fe-63654eb5d6d3",
        "colab": {
          "base_uri": "https://localhost:8080/",
          "height": 35
        }
      },
      "source": [
        "sentence = \"I love you\"\n",
        "reverse_sentence = ' '\n",
        "for char in sentence:\n",
        "  reverse_sentence = char + reverse_sentence\n",
        "print(reverse_sentence)"
      ],
      "execution_count": 0,
      "outputs": [
        {
          "output_type": "stream",
          "text": [
            "uoy evol I \n"
          ],
          "name": "stdout"
        }
      ]
    },
    {
      "cell_type": "code",
      "metadata": {
        "id": "Vb-V3bJYpI7b",
        "colab_type": "code",
        "outputId": "d9063fa7-08f6-442a-b43f-7e5945905add",
        "colab": {
          "base_uri": "https://localhost:8080/",
          "height": 35
        }
      },
      "source": [
        "decimal = 10\n",
        "result = ' '\n",
        "while (decimal > 0):\n",
        "  remainder = decimal % 2\n",
        "  decimal = decimal // 2\n",
        "  result = str(remainder) + result\n",
        "print(result)"
      ],
      "execution_count": 0,
      "outputs": [
        {
          "output_type": "stream",
          "text": [
            "1010 \n"
          ],
          "name": "stdout"
        }
      ]
    },
    {
      "cell_type": "code",
      "metadata": {
        "id": "_amaX1MjrHcL",
        "colab_type": "code",
        "colab": {}
      },
      "source": [
        "import random\n",
        "guess_number = random.randint(1,100)\n",
        "print(\"숫자를 맞혀 보세요. (1 ~ 100)\")\n",
        "user_num=int(input())\n",
        "while(user_num != guess_number):\n",
        "  if user_num > guess_number:\n",
        "    print(\"숫자보다 큽니다.\")\n",
        "  else:\n",
        "    print(\"숫자보다 작습니다.\")\n",
        "  user_num = int(input())\n",
        "else:\n",
        "  print(\"정답입니다. 입력한 숫자는 {0}입니다.\".format(user_num))"
      ],
      "execution_count": 0,
      "outputs": []
    },
    {
      "cell_type": "markdown",
      "metadata": {
        "id": "c7vqmL-kChrp",
        "colab_type": "text"
      },
      "source": [
        ""
      ]
    },
    {
      "cell_type": "code",
      "metadata": {
        "id": "UmnGAMlBCpzH",
        "colab_type": "code",
        "colab": {}
      },
      "source": [
        "s1 =\"I'm OK\n",
        "     I'm happy\n",
        "     see you\"\n",
        "print(s1)"
      ],
      "execution_count": 0,
      "outputs": []
    },
    {
      "cell_type": "code",
      "metadata": {
        "id": "QXNsBxBGCrGm",
        "colab_type": "code",
        "colab": {}
      },
      "source": [
        "s2 =\"\"\"\n",
        "     I'm OK\n",
        "     I'm happy\n",
        "     see you\n",
        "    \"\"\"\n",
        "print(s2)"
      ],
      "execution_count": 0,
      "outputs": []
    },
    {
      "cell_type": "code",
      "metadata": {
        "id": "9cxDs7e2DMUP",
        "colab_type": "code",
        "colab": {}
      },
      "source": [
        "#key는 unique해야 하며, 불변 이다 , value 는 가변(변경 가능)\n",
        "dict = {'Name': 'Zara', 'Age': 7, 'Class': 'First'}\n",
        "print (\"dict['Name']: \", dict['Name'])\n",
        "print (\"dict['Age']: \", dict['Age'])\n",
        "\n",
        "\n",
        "dict = {'Name': 'Zara', 'Age': 7, 'Class': 'First'}\n",
        "print (\"dict['Alice']: \", dict['Alice'])  #존재하지 않는 키로 요소에 접근할 경우?\n",
        "\n",
        "dict['Age'] = 8;  #요소의 value변경\n",
        "dict['School'] = \"DPS School\"    #새로운 요소를 추가 \n",
        "print (\"dict['Age']: \", dict['Age'])\n",
        "print (\"dict['School']: \", dict['School'])\n",
        "\n",
        "dict = {'Name': 'Zara', 'Age': 7, 'Class': 'First'}\n",
        "\n",
        "del dict['Name']  #특정 요소만 삭제?\n",
        "print(dict)\n",
        "dict.clear()       #모든 요소를 삭제하고, dict객체는 남고? empty dict instance?\n",
        "print(dict)\n",
        "del dict     #   dict객체 삭제\n",
        "print(dict)  # error?    \n",
        "\n",
        "print (\"dict['Age']: \", dict['Age'])\n",
        "print (\"dict['School']: \", dict['School'])\n",
        "\n",
        "dict = {'Name': 'Zara', 'Age': 7, 'Name': 'Manni'}\n",
        "print (\"dict['Name']: \", dict['Name'])\n",
        "\n",
        "dict = {['Name']: 'Zara', 'Age': 7} #키에 가변 객체 선언(사용)\n",
        "print (\"dict['Name']: \", dict['Name'])\n",
        "\n",
        "\n",
        "dict = {'Name': 'Zara', 'Age': 7}\n",
        "print (\"Value : %s\" %  dict.items())\n",
        "print (\"Value : %s\" %  dict.keys())\n",
        " \n",
        "print (\"Value : %s\" %  dict.get('Age'))\n",
        "print (\"Value : %s\" %  dict.get('Sex', \"NA\"))\n",
        "\n",
        "dict = {'Sex': 'female', 'Age': 7, 'Name': 'Zara'}\n",
        "print (\"Values : \",  list(dict.values()))\n",
        "\n",
        "dict = {'Name': 'Manni', 'Age': 7, 'Class': 'First'}\n",
        "print (\"Length : %d\" % len (dict))"
      ],
      "execution_count": 0,
      "outputs": []
    },
    {
      "cell_type": "code",
      "metadata": {
        "id": "zFBAOkZ_DWXH",
        "colab_type": "code",
        "colab": {}
      },
      "source": [
        "###############################################################\n",
        "# A tuple is a sequence of immutable Python objects.\n",
        "# tuple 생\n",
        "tup1 = ('physics', 'chemistry', 1997, 2000)\n",
        "tup2 = (1, 2, 3, 4, 5 )\n",
        "tup3 = \"a\", \"b\", \"c\", \"d\"\n",
        "print(tup3)\n",
        "\n",
        "list1=[]  #empty list 생성?\n",
        "tup1 = () #error\n",
        "tup1 = (50,)   #요소 1개인 tuple 생성할 때 반드시 ','와 함께...\n",
        "\n",
        "#리스트와 동일한 인덱싱 방식으로 요소에 접근, 슬라이싱 가능\n",
        "print (\"tup1[0]: \", tup1[0])\n",
        "print (\"tup2[1:5]: \", tup2[1:5])\n",
        "\n",
        "\n",
        "tup1 = (12, 34.56)\n",
        "tup2 = ('abc', 'xyz')\n",
        "\n",
        "tup1[0] = 100;  #요소 변경은 불변객체이므로 error\n",
        "\n",
        "list1=[1]\n",
        "list2=[2]\n",
        "list1+list2\n",
        "print(list1)\n",
        "tup3 = tup1 + tup2  # tuple이 결합되어 새로운 tuple 객체 생성\n",
        "print (tup3)\n",
        "print(tup1)\n",
        "\n",
        "\n",
        "\n",
        "\n",
        "tup = ('physics', 'chemistry', 1997, 2000);\n",
        "\n",
        "print (tup)\n",
        "del tup;  #tuple은 요소만 삭제할 수 없고 전체 tuple 인스턴스가 삭제됨\n",
        "print (\"After deleting tup : \")\n",
        "print (tup)  #정의되지 않은 변수 참조 에러 발생\n",
        "\n",
        "len((1, 2, 3))\n",
        "(1, 2, 3) + (4, 5, 6)\n",
        "('Hi!',) * 4\n",
        "3 in (1, 2, 3)\n",
        "for x in (1,2,3) : print (x, end = ' ')"
      ],
      "execution_count": 0,
      "outputs": []
    },
    {
      "cell_type": "code",
      "metadata": {
        "id": "ros-d_9EsTYi",
        "colab_type": "code",
        "colab": {}
      },
      "source": [
        "#######################################################\n",
        "\n",
        "for num in range(1, 10) :  # 1~9\n",
        "    for dan in range(2, 10) : #2~9        \n",
        "        gugu = \"{0} X {1}={2:2d} \".format(dan, num, (num*dan))   #3버전부터 지원\n",
        "        print(gugu , end=\" \")           \n",
        "    print()\n",
        "#%operator 를 지원하지만 공식문서에서는 권장하지 않는다고 합니다.    \n",
        "    \n",
        "for num in range(1, 10) :  # 1~9\n",
        "    for dan in range(2, 10) : #2~9\n",
        "        f = f'{dan}X{num}={num*dan} '  #3.6버전 f-string\n",
        "        print(f, end=\" \")          \n",
        "    print()\n",
        "#%operator 를 지원하지만 공식문서에서는 권장하지 않는다고 합니다. \n",
        "\n",
        "def calculate(a, b, op) :\n",
        "    result = 0\n",
        "    if op == \"+\"  :\n",
        "        result = a+b\n",
        "    elif op =='-':\n",
        "        result = a-b\n",
        "    elif op =='*':\n",
        "        result = a*b\n",
        "    elif op =='/':\n",
        "        result = a/b\n",
        "    else :\n",
        "        result = None\n",
        "    return result\n",
        "\n",
        "\n",
        "\n",
        "def variable_test(a, b, *args):\n",
        "    print(type(args))\n",
        "    return a+b+sum(args)\n",
        "\n",
        "print(variable_test(1, 2))\n",
        "print(variable_test(1, 2,3))\n",
        "print(variable_test(1, 2,3,4))\n",
        "print(variable_test(1, 2,3,4,5))\n"
      ],
      "execution_count": 0,
      "outputs": []
    },
    {
      "cell_type": "code",
      "metadata": {
        "id": "bATP2BbADcPD",
        "colab_type": "code",
        "colab": {}
      },
      "source": [
        "def kwargs_test(*args, a, b ):        #error?\n",
        "    return a+b+sum(args)  \n",
        "\n",
        "print(kwargs_test(1, 2,3,4,5))\n",
        "\n",
        "\n",
        "def kwargs_test2(**kwargs, a, b ):        #error?\n",
        "    return a+b\n",
        "\n",
        "print(kwargs_test2(1, 2,3,4,5))"
      ],
      "execution_count": 0,
      "outputs": []
    }
  ]
}