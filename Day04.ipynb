{
  "nbformat": 4,
  "nbformat_minor": 0,
  "metadata": {
    "colab": {
      "name": "Day04.ipynb",
      "provenance": [],
      "collapsed_sections": [],
      "include_colab_link": true
    },
    "kernelspec": {
      "name": "python3",
      "display_name": "Python 3"
    }
  },
  "cells": [
    {
      "cell_type": "markdown",
      "metadata": {
        "id": "view-in-github",
        "colab_type": "text"
      },
      "source": [
        "<a href=\"https://colab.research.google.com/github/water-lilies/DataScience/blob/master/Day04.ipynb\" target=\"_parent\"><img src=\"https://colab.research.google.com/assets/colab-badge.svg\" alt=\"Open In Colab\"/></a>"
      ]
    },
    {
      "cell_type": "markdown",
      "metadata": {
        "id": "tqudtZfbCyuA",
        "colab_type": "text"
      },
      "source": [
        "**2019.12.12 4일차**\n",
        "\n",
        "http://10.5.4.100:8080/python.html\n",
        "\n",
        "수업 자료 링크\n"
      ]
    },
    {
      "cell_type": "code",
      "metadata": {
        "id": "b7pkYb44CKp2",
        "colab_type": "code",
        "colab": {}
      },
      "source": [
        "###프로그래밍 연습문제 #######################\n",
        "1. 1~45사이의 임의의 수  6개를 중복값 없이 생성, 출력하시오\n",
        "\n",
        "\n",
        "\n",
        "\n",
        "\n",
        "\n",
        "\n",
        "  \n",
        "##############################################################\n",
        "python에서 데이터를 효율적으로 메모리 저장하고, 검색, 반환, 관리를 위해 제공되는 자료구조\n",
        "Stack은 LIFO(FILO)구조로서... list.append(), list.pop()을 활용합니다\n",
        "Queue는 FIFO구조로서...list.append(), list.pop(0)를 활용합니다.\n",
        "set 자료구조는 데이터를 저장할때 중복체크 후 중복되지 않았을때 저장함\n",
        "set 자료구조는 집합연산 기능을 제공 - union(), | , -, difference(), intersection(), &...\n",
        "collections 모듈  \n",
        "dequeue는 statck 과 queue구조로 데이터를 사용할 수 있음\n",
        "OrderedDict dict 의 key 또는 value를 기준으로 정렬해서 저장하는 구조\n",
        "\n",
        "dict는 key 는  unique해야 하며 .....존재하지 않는 key로 값을 꺼낼때 Error\n",
        "방법1 : dict.get(\"key\", defaultValue)\n",
        "방법2 : defaultDict\n",
        "\n",
        "Counter는 시퀀스 자료형의 데이터 요소 개수를 딕셔너리 형태로 반환해주는 자료구조\n",
        "\n",
        "문자열을 구분자를 이용해서 분리할때 split()\n",
        "여러 문자열을 구분자를 이용해서 하나의 문자열로 결합할때 join()\n",
        "\n",
        "List Comprehension  -  필터링, map처리 , reduce처리\n",
        "[ 표현식 for 아이템 in (시퀀스 자료형 또는 dict자료형) if 조건 ]\n",
        "[ if 조건 표현식   for 아이템 in (시퀀스 자료형 또는 dict자료형)  ]\n",
        "[ if 조건 표현식  else  표현식 for 아이템 in (시퀀스 자료형 또는 dict자료형)  ]\n",
        "[ 표현식 for 아이템1 in (시퀀스 자료형 또는 dict자료형) for 아이템2 in (시퀀스 자료형 또는 dict자료형)]\n",
        "=> for 아이템1 in (시퀀스 자료형 또는 dict자료형):\n",
        "          for 아이템2 in (시퀀스 자료형 또는 dict자료형):\n",
        "              표현식\n",
        "[ [표현식 for 아이템1 in (시퀀스 자료형 또는 dict자료형)] for 아이템2 in (시퀀스 자료형 또는 dict자료형)]\n",
        "=> for 아이템2 in (시퀀스 자료형 또는 dict자료형):\n",
        "          for 아이템1 in (시퀀스 자료형 또는 dict자료형):\n",
        "              표현식\n",
        "[ [ ...], [...], [...]]\n",
        "\n",
        "map( 함수,  자료구조객체) => Generator 객체 반환\n",
        "list(map( 함수,  자료구조객체) ) #python3버전에서는 이렇게 사용해야 list로 생성됩니다.\n",
        "\n",
        "from functools import reduce\n",
        "reduce(함수,  자료구조객체) 는 자료구조의 데이터에 함수를 적용하여 통합(요약집계) 처리할때 사용\n",
        "\n",
        "enumerate() - 리스트로부터 데이터와 인덱스를 함께 반환\n",
        "zip() - 여러 시퀀스 객체들로부터 동일한 인덱스에 저장된 데이터를 묶어서 반환\n",
        "\n",
        "\n",
        "def 함수이름(*매개변수) :    #가변매개변수이므로  함수 호출시 가변인수 전달     \n",
        "def 함수이름(**매개변수) :    #키워드가변매개변수이므로  함수 호출시 이름=값 형태의 가변인수 전달\n",
        "\n",
        "def 함수이름(매개변수) : \n",
        "    local1, local2, local2,...= *매개변수   #unpacking\n",
        "\n",
        "\n",
        "def 함수이름(매개변수) : \n",
        "    [[], [], [],... ]= **매개변수\n",
        "     [(), (), (),.... ]= **매개변수  #unpacking"
      ],
      "execution_count": 0,
      "outputs": []
    },
    {
      "cell_type": "code",
      "metadata": {
        "id": "ERWcDfXGRN-x",
        "colab_type": "code",
        "colab": {}
      },
      "source": [
        ""
      ],
      "execution_count": 0,
      "outputs": []
    },
    {
      "cell_type": "code",
      "metadata": {
        "id": "Swx-8wyWTkzX",
        "colab_type": "code",
        "outputId": "f313d95e-7f89-4869-a003-4fa7223fa373",
        "colab": {
          "base_uri": "https://localhost:8080/",
          "height": 71
        }
      },
      "source": [
        "# 인스턴스 사용하기\n",
        "\n",
        "# 전체 SoccerPlayer 코드\n",
        "\n",
        "class SoccerPlayer(object):\n",
        "  def __init__(self,name,position,back_number):\n",
        "    self.name=name\n",
        "    self.position=position\n",
        "    self.back_number=back_number\n",
        "  def change_back_number(self,new_number):\n",
        "    print(\"선수의 등번호를 변경한다: From %d to %d\" %(self.back_number, new_number))\n",
        "\n",
        "    self.back_number = new_number\n",
        "  def __str__(self):\n",
        "    return \"Hello, My name is %s. I play in %s in center.\"%(self.name, self.position)\n",
        "\n",
        "# SoccerPlayer를 사용하는 instance 코드\n",
        "\n",
        "jinhyun = SoccerPlayer (\"Jinhyun\",\"MF\",10)\n",
        "\n",
        "print(\"현재 선수의 등번호는:\",jinhyun.back_number )\n",
        "jinhyun.change_back_number(5)\n",
        "print(\"현재 선수의 등번호는:\",jinhyun.back_number )"
      ],
      "execution_count": 0,
      "outputs": [
        {
          "output_type": "stream",
          "text": [
            "현재 선수의 등번호는: 10\n",
            "선수의 등번호를 변경한다: From 10 to 5\n",
            "현재 선수의 등번호는: 5\n"
          ],
          "name": "stdout"
        }
      ]
    },
    {
      "cell_type": "code",
      "metadata": {
        "id": "fzujubCtVFz-",
        "colab_type": "code",
        "colab": {}
      },
      "source": [
        "class Person: \n",
        "  def __init__(self, name, age, gender): \n",
        "    self.Name = name \n",
        "    self.Age = age \n",
        "    self.Gender = gender \n",
        "  def about_me(self): \n",
        "    print(\"저의 이름은 \" , self.Name , \"이구요, 제 나이는 \" , self.Age , \"살 입니다.\")\n",
        "\n",
        "\n",
        "class Employee(Person):\n",
        "  def __init__(self, name, age, gender, salary, hire_date):\n",
        "    super().__init__(name,age,gender)\n",
        "    self.salary = salary\n",
        "    self.hire_date = hire_date\n",
        "  \n",
        "  def do_work(self):\n",
        "    print(\"열심히 일을 한다.\")\n",
        "  \n",
        "  def about_me(self):\n",
        "    super().abeout_me()\n",
        "    print(\"제 급여는 \", self.salary,\"원이고 ,제 입사일은 \", self.hire_date,\"입니다.\")\n",
        "\n",
        "person1 = Person(\"사람1\",30,\"남\") # 부모클래스 객체 생성 및 초기화\n",
        "person1.about_me()          # 메소드 호출\n",
        "# person1.do_work()           # 에러 \n",
        "\n",
        "emp1 = Employee(\"일꾼1\",28,\"남\",300,\"2019/01/01\") # 자식클래스 객체생성 및 초기화\n",
        "emp1.about_me()                                   # override 메소드 호출          * override: 재정의 * overroad: 중복정의\n",
        "emp1.do_work()                                    # 자식클래스에만 정의된 메소드 호출\n"
      ],
      "execution_count": 0,
      "outputs": []
    },
    {
      "cell_type": "code",
      "metadata": {
        "id": "A2yjVDfFaYkY",
        "colab_type": "code",
        "colab": {}
      },
      "source": [
        ""
      ],
      "execution_count": 0,
      "outputs": []
    },
    {
      "cell_type": "code",
      "metadata": {
        "id": "Km2bJUgr1eoq",
        "colab_type": "code",
        "colab": {}
      },
      "source": [
        "def series_test():\n",
        "  print(\"series\")"
      ],
      "execution_count": 0,
      "outputs": []
    },
    {
      "cell_type": "code",
      "metadata": {
        "id": "tWyTb3cN1sQ4",
        "colab_type": "code",
        "colab": {}
      },
      "source": [
        "def statics_test():\n",
        "  print(\"statics\")"
      ],
      "execution_count": 0,
      "outputs": []
    },
    {
      "cell_type": "code",
      "metadata": {
        "id": "sllABTku4ZIG",
        "colab_type": "code",
        "colab": {}
      },
      "source": [
        "from roboadvisor.analysis import series\n",
        "series.series_test()"
      ],
      "execution_count": 0,
      "outputs": []
    },
    {
      "cell_type": "code",
      "metadata": {
        "id": "V-d_nishOgXj",
        "colab_type": "code",
        "colab": {}
      },
      "source": [
        ""
      ],
      "execution_count": 0,
      "outputs": []
    },
    {
      "cell_type": "code",
      "metadata": {
        "id": "Kogt2DPmQfea",
        "colab_type": "code",
        "outputId": "b95e04cc-f5de-427a-e4a3-bd459da971a1",
        "colab": {
          "base_uri": "https://localhost:8080/",
          "height": 35
        }
      },
      "source": [
        "###프로그래밍 연습문제 #######################\n",
        "# 1. 1~45사이의 임의의 수  6개를 중복값 없이 생성, 출력하시오.\n",
        "\n",
        "import random\n",
        "\n",
        "lotto_list =[]\n",
        "ran_num = random.randint(0,46)\n",
        "\n",
        "for i in range(6):\n",
        "  while ran_num in lotto_list:\n",
        "    ran_num = random.randint(0,46)\n",
        "  lotto_list.append(ran_num)\n",
        "\n",
        "lotto_list.sort()\n",
        "print(lotto_list)"
      ],
      "execution_count": 0,
      "outputs": [
        {
          "output_type": "stream",
          "text": [
            "[3, 4, 5, 16, 18, 32]\n"
          ],
          "name": "stdout"
        }
      ]
    },
    {
      "cell_type": "code",
      "metadata": {
        "id": "_R6l7g9BQ8Et",
        "colab_type": "code",
        "colab": {}
      },
      "source": [
        ""
      ],
      "execution_count": 0,
      "outputs": []
    }
  ]
}