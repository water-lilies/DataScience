{
  "nbformat": 4,
  "nbformat_minor": 0,
  "metadata": {
    "colab": {
      "name": "Day10(머신러닝).ipynb",
      "provenance": [],
      "collapsed_sections": [],
      "include_colab_link": true
    },
    "kernelspec": {
      "name": "python3",
      "display_name": "Python 3"
    }
  },
  "cells": [
    {
      "cell_type": "markdown",
      "metadata": {
        "id": "view-in-github",
        "colab_type": "text"
      },
      "source": [
        "<a href=\"https://colab.research.google.com/github/water-lilies/DataScience/blob/master/Day10(%EB%A8%B8%EC%8B%A0%EB%9F%AC%EB%8B%9D).ipynb\" target=\"_parent\"><img src=\"https://colab.research.google.com/assets/colab-badge.svg\" alt=\"Open In Colab\"/></a>"
      ]
    },
    {
      "cell_type": "markdown",
      "metadata": {
        "id": "XddOuiaB6o4b",
        "colab_type": "text"
      },
      "source": [
        "2019.12.20 금요일"
      ]
    },
    {
      "cell_type": "markdown",
      "metadata": {
        "id": "YVJBS5g56tgH",
        "colab_type": "text"
      },
      "source": [
        "### 9일차 리뷰"
      ]
    },
    {
      "cell_type": "code",
      "metadata": {
        "id": "ypv_kgjd6SSw",
        "colab_type": "code",
        "colab": {}
      },
      "source": [
        "데이터를 이어 붙이기   \n",
        "- merge\n",
        "- join\n",
        "- concatenate\n",
        "\n",
        "데이터 분리 (분리 크기 선택, 데이터 표본 위치,  동일한 키의 변수값 기준) \n",
        "- cut\n",
        "- qcut\n",
        "- groupby\n",
        "\n",
        "groupby()함수의 반환 객체 \n",
        "- GroupBy(그룹 연산을 위한 모든 필요 정보를 가지고 있음)\n",
        "\n",
        "GroupBy객체에 컬럼이름, 컬럼이름이 담긴 배열로 색인 가능 \n",
        "- 반환객체타입 (SeriesGroupBy, DataFrameGroupBy)\n",
        "\n",
        "groupby()로 분리된 데이터들의 개수를 확인 \n",
        "- GroupBy객체.size()\n",
        "\n",
        "분리->함수적용(agg(), apply()) -> 병합\n",
        "\n",
        "행 인덱스( 또는 기준열)을 제외한 나머지 모든(열)을 행으로 이어붙여서 \n",
        "새로운 데이터 프레임을 생성(wide구조 - long구조)\n",
        " : stack()\n",
        "\n",
        "동일한 컬럼 값을 가지는 로우들을 열로 이어붙여서 \n",
        "새로운 데이터 프레임을 생성(long구조 -> wide 구조)\n",
        " : unstack()\n",
        "\n",
        "행으로 사용할 키, 열로 사용할 키를 지정해서 정렬된 데이터를 반환하는  \n",
        "새로운 데이터 프레임을 생성 함수\n",
        " : pivot_table()\n",
        "\n",
        "교차 테이블 생성\n",
        " - crosstab()"
      ],
      "execution_count": 0,
      "outputs": []
    },
    {
      "cell_type": "markdown",
      "metadata": {
        "id": "7z5MoI5U7UJb",
        "colab_type": "text"
      },
      "source": [
        "### 머신러닝"
      ]
    },
    {
      "cell_type": "code",
      "metadata": {
        "id": "T9m2aiID7V-w",
        "colab_type": "code",
        "colab": {}
      },
      "source": [
        ""
      ],
      "execution_count": 0,
      "outputs": []
    },
    {
      "cell_type": "code",
      "metadata": {
        "id": "bogrKnG1E1DJ",
        "colab_type": "code",
        "colab": {}
      },
      "source": [
        ""
      ],
      "execution_count": 0,
      "outputs": []
    }
  ]
}