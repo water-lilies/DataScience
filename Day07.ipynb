{
  "nbformat": 4,
  "nbformat_minor": 0,
  "metadata": {
    "colab": {
      "name": "Day07.ipynb",
      "provenance": [],
      "collapsed_sections": [],
      "include_colab_link": true
    },
    "kernelspec": {
      "name": "python3",
      "display_name": "Python 3"
    }
  },
  "cells": [
    {
      "cell_type": "markdown",
      "metadata": {
        "id": "view-in-github",
        "colab_type": "text"
      },
      "source": [
        "<a href=\"https://colab.research.google.com/github/water-lilies/DataScience/blob/master/Day07.ipynb\" target=\"_parent\"><img src=\"https://colab.research.google.com/assets/colab-badge.svg\" alt=\"Open In Colab\"/></a>"
      ]
    },
    {
      "cell_type": "markdown",
      "metadata": {
        "id": "farL85xGlGqv",
        "colab_type": "text"
      },
      "source": [
        "2019.12.17.화요일\n"
      ]
    },
    {
      "cell_type": "code",
      "metadata": {
        "id": "IUwTEzUklEOC",
        "colab_type": "code",
        "colab": {}
      },
      "source": [
        "numpy 라이브러리에 제공해주는 다차원 배열 객체 - numpy.ndarray\n",
        "ndarray 배열 객체 속성 - shape, ndim, dtype, size\n",
        "ndarray 배열 객체 생성 함수 -  array(), arange(), zeros(), ones(), full(), eye(), logspace(), linspace(), empty()\n",
        "ndarray 배열 객체의 데이터를 난수로 초기화해서 생성 - np.random.normal(), rand(), randint(), random()\n",
        "하나의 ndarray 배열 객체를 파일에 저장 - save(), npy확장자\n",
        "하나 이상의 ndarray 배열 객체를 파일에 저장 - savez(), npz확장자\n",
        "파일에 저장된 ndarray 배열 객체를 실행환경으로 불러와서 메모리에 객체로 생성하려면 - load()\n",
        "csv, txt 파일에 저장된 텍스트 (형식)을  실행환경으로 불러와서 메모리에 ndarray 배열 객체 생성해주는 함수 - loadtxt()\n",
        "ndarray 배열 객체를 텍스트 (형식) 파일에 저장 - savetxt()\n",
        "ndarray 배열 객체와 ndarray 배열 객체의 연산 처리 방식 - 같은 위치에 요소 데이터 끼리 연산 (벡터연산)\n",
        "차원이 다른 ndarray 배열 객체와 ndarray 배열 객체의 연산 처리 방식 - 벡터연산 + 브로드캐스팅 \n",
        "ndarray 배열 객체와 스칼라 값(데이터)의 연산 - 벡터연산(분배법칙 적용)\n",
        "ndarray 배열 객체의 데이터 요소 선택, 필터링, 부분집합 추출 - 인덱싱, 슬라이싱\n",
        "1차원 ndarray 배열 객체 [col_idx ]\n",
        "2차원 ndarray 배열 객체 [row_idx, col_idx]\n",
        "2차원 ndarray 배열 객체 [ : , : ]\n",
        "2차원 ndarray 배열 객체 [[1,3, 5], col_idx]  - 팬시 인덱스\n",
        "2차원 ndarray 배열 객체 [ 조건 , 조건 ]\n",
        "인덱싱, 슬라이싱는 원본 ndarray 배열 객체의 뷰를 리턴\n",
        "bool 을 리턴하는 인덱싱방식은  새로운 ndarray 배열 객체 반환\n",
        "원본 ndarray 배열 객체의 새로운  ndarray 배열 객체 반환(생성) - copy()\n",
        "단항 유니버셜 함수  : sqrt(), exp(), ....\n",
        "이항 유니버셜 함수  :   add(), substract(), ....modf(),......\n",
        "집계 함수 : sum(), mean(),.....axis=None, axis=0, axis=1\n",
        "\n",
        "2차원 ndarray 배열 객체(Matrix,  행렬)의 전치행렬 -  ndarray 배열 객체.T\n",
        "2차원 ndarray 배열 객체(Matrix,  행렬)의 행렬곱 - ndarray 배열 객체.dot(), @\n",
        "2차원 ndarray 배열 객체(Matrix,  행렬)의 역행렬 - ndarray 배열 객체.solve()\n",
        "2차원 ndarray 배열 객체의 형태를 변경 -  reshape()\n",
        "2차원 ndarray 배열 객체의 형태를 변경 + 요소 추가, 삭제  - resize()\n",
        " \n",
        "2차원 ndarray 배열 객체에 행, 열 데이터 추가 - append()\n",
        "2차원 ndarray 배열 객체에 행, 열 데이터를 특정 위치에 추가 - insert()\n",
        "2차원 ndarray 배열 객체에 행, 열 데이터 삭제 - delete()\n",
        "\n",
        "2차원 ndarray 배열 객체에 2차원 ndarray 배열 객체를 결합 - concatename(),  vstack(), hstack(), \n",
        "2차원 ndarray 배열 객체를 분리 - split()\n",
        "ndarray 배열 객체에 저장되는 데이터 요소는 모두 동일한 타입이어야 합니다.\n",
        "\n",
        "pandas의 1차원 배열 객체 - Series\n",
        "Series 저장되는 데이터 요소가 서로 다른  타입 가능\n",
        "Series의 속성 - index, values, index.name\n",
        "Series 저장되는 데이터 요소 타입 - dtypes\n",
        "Series의 인덱스 객체 타입 - RangeIndex\n",
        "Series 저장되는 데이터 요소에 접근하기 위해 사용하는 방법 - indexing, label 사용\n",
        "Series의 인덱스를 label로 변경하려면 -  Series 객체.index= [\"name1\", \"name2\", \"name3\",...]"
      ],
      "execution_count": 0,
      "outputs": []
    }
  ]
}