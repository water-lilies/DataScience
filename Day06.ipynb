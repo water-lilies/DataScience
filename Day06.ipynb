{
  "nbformat": 4,
  "nbformat_minor": 0,
  "metadata": {
    "colab": {
      "name": "Day06.ipynb",
      "provenance": [],
      "collapsed_sections": [],
      "include_colab_link": true
    },
    "kernelspec": {
      "name": "python3",
      "display_name": "Python 3"
    }
  },
  "cells": [
    {
      "cell_type": "markdown",
      "metadata": {
        "id": "view-in-github",
        "colab_type": "text"
      },
      "source": [
        "<a href=\"https://colab.research.google.com/github/water-lilies/DataScience/blob/master/Day06.ipynb\" target=\"_parent\"><img src=\"https://colab.research.google.com/assets/colab-badge.svg\" alt=\"Open In Colab\"/></a>"
      ]
    },
    {
      "cell_type": "markdown",
      "metadata": {
        "id": "mifBrkT6BtFK",
        "colab_type": "text"
      },
      "source": [
        "**2019.12.16 6일차**\n",
        "\n",
        "http://10.5.4.100:8080/python.html\n",
        "\n",
        "수업 자료 링크"
      ]
    },
    {
      "cell_type": "markdown",
      "metadata": {
        "id": "Nka2_rM8Csno",
        "colab_type": "text"
      },
      "source": [
        "### 5일차 리뷰\n",
        "> 텍스트 파일 읽기"
      ]
    },
    {
      "cell_type": "code",
      "metadata": {
        "id": "3CiQLgRaE4ho",
        "colab_type": "code",
        "colab": {}
      },
      "source": [
        "파일 핸들러 객체 - open(\"경로/이름\", 모드) # r, w, b, a\n",
        "문자열(전체내용)= 파일핸들러객체.read()\n",
        "[\"row 문자열\\n\", ...] = 파일핸들러객체.readlines()\n",
        "파일핸들러객체.close()\n",
        "\n",
        "with open (\"경로/이름\", 모드) as 별칭\n",
        "\n",
        "\n",
        "메모리에 생성된 파이썬 객체를 저장 : Serialize, Marchaling \n",
        "- pickle 모듈의 dump()함수\n",
        "\n",
        "파일 등에 저장된 파이썬 객체를 읽어와서 메모리에 생성 \n",
        "-  pickle 모듈의 load()함수\n",
        "\n",
        "csv 파일 형식 읽기 \n",
        "- csv모듈의  reader(), writerow()\n",
        "\n",
        "DB세션정보객체 = cx_Orcle모듈.cx_Orcle 모듈.connect(user명, password, url정보)\n",
        "Cursor 객체 생성\n",
        "Cursor = execute(\"SQL문장\")\n",
        "* Cursor? SQL조각을 실행하기위한 것\n",
        "- SELECT 문장에 의해 여러행이 반환되는 경우 각 행에 접근하기 위한 것 (일종의 지시자)\n",
        "- 기본적으로 SELECT 문장에 의해 호출된 결과 목록(ResultSet 라고 함) 에서 커서의 위치는 제일 첫 레코드 바로 위에 존재한다.\n",
        "- 커서는 행을 하나씩 읽어서(FETCH) 읽고나면 아래로 한 줄씩 이동하며, 읽을 행이 없을 경우 빠져나감.\n",
        "[출처] [OracleDB] Cursor / SubProgram|작성자 창랑"
      ],
      "execution_count": 0,
      "outputs": []
    },
    {
      "cell_type": "markdown",
      "metadata": {
        "id": "zrYUXatCMIKu",
        "colab_type": "text"
      },
      "source": [
        "### 선형대수의 데이터 유형\n",
        "\n",
        "http://taewan.kim/post/numpy_sum_axis/\n",
        "\n",
        "참고"
      ]
    },
    {
      "cell_type": "markdown",
      "metadata": {
        "id": "ySsSMg4BOxjn",
        "colab_type": "text"
      },
      "source": [
        "> 스칼라(scalar)\n",
        "\n",
        "스칼라는 하나의 숫자만으로 이루어진 데이터를 의미한다. \n",
        "\n",
        "스칼라는 보통 x와 같이 알파벳 소문자로 표기하며 실수인 숫자 중의 하나이므로 실수 집합 \"R\"의 원소라는 의미에서 다음과 같이 표기한다.\n",
        "\n",
        "x ∈ R\n",
        "\n"
      ]
    },
    {
      "cell_type": "markdown",
      "metadata": {
        "id": "OHnJJlxZPLEP",
        "colab_type": "text"
      },
      "source": [
        "> 벡터(vector)\n",
        "\n",
        "벡터는 여러 숫자가 순서대로 모여 있는 것으로, 일반적인 일차원 배열이 벡터이다.\n",
        "\n",
        "하나의 벡터를 이루는 데이터의 개수를 차원(dimension)이라고 한다."
      ]
    },
    {
      "cell_type": "markdown",
      "metadata": {
        "id": "4axN5CMjPK5g",
        "colab_type": "text"
      },
      "source": [
        "> 행렬(matrix)\n",
        "\n",
        "행렬은 복수의 차원을 가지는 데이터가 다시 여러개 있는 경우의 데이터를 합쳐서 표기 한 것이다.\n",
        "\n",
        "일반적으로 2차원 배열이 행렬이다.\n",
        "\n",
        "특히 3차원 이상 배열은 텐서(tensor)라고 한다."
      ]
    },
    {
      "cell_type": "code",
      "metadata": {
        "id": "fu9atWnQMJ8V",
        "colab_type": "code",
        "colab": {}
      },
      "source": [
        ""
      ],
      "execution_count": 0,
      "outputs": []
    },
    {
      "cell_type": "markdown",
      "metadata": {
        "id": "F7rmZAPcQUQM",
        "colab_type": "text"
      },
      "source": [
        "### Python Numpy"
      ]
    },
    {
      "cell_type": "code",
      "metadata": {
        "id": "1-FAD2Y6QXfj",
        "colab_type": "code",
        "colab": {}
      },
      "source": [
        "numpy 배열\n",
        "- Numpy 배열은 다차원 배열을 지원\n",
        "- Numpy 배열의 구조는 \"Shape\"으로 표현\n",
        "- Shape은 배열의 구조를 파이썬 튜플 자료형을 이용하여 정의\n",
        "- 다차원 배열의 데이터 방향을  axis로 표현 할 수 있다\n",
        "- 행방항(높이), 열방향(폭), 채널 방향은 각각 axis = 0, aixs = 1 그리고 axis = 2로 지정된다.\n",
        "- Numpy집계(Aggregation)함수는 배열 데이터의 집계 방향을 지정하는 axis 옵션을 제공한다."
      ],
      "execution_count": 0,
      "outputs": []
    },
    {
      "cell_type": "code",
      "metadata": {
        "id": "O7tABSLvREX6",
        "colab_type": "code",
        "colab": {}
      },
      "source": [
        "numpy 패키지\n",
        "- 과학 계산을 위한 라이브러리\n",
        "- 강력한 N차원 배열 객체\n",
        "- 정교한 브로드캐스팅 기능\n",
        "- C/C++ 및 포트린 코드 통합 도구\n",
        "- 유용한 선형대수학, 푸리에 변환 및 난수 가능\n",
        "- 범용적 데이터 처리에 사용가능한 다차원 컨테이너\n",
        "- 다차원 배열을 처리하는데 필요한 여러 유용한 기능을 제공\n",
        "\n",
        "$ pip install numpy\n",
        "\n",
        "import numpy as np\n",
        "np__version__"
      ],
      "execution_count": 0,
      "outputs": []
    },
    {
      "cell_type": "code",
      "metadata": {
        "id": "D-wWnNdcYtnL",
        "colab_type": "code",
        "colab": {}
      },
      "source": [
        "numpy 배열 생성과 초기화\n",
        "- numpy는 원하는 shape으로 배열을 설정하고, 각 요소를 특정 값으로 초기화하는 zeros, ones, full, eye 함수를 제공\n",
        "- 파라미터로 입력한 배열과 같은 shape의 배열을 만드는 zeros_like, ones_like, full_like ... 함수 제공"
      ],
      "execution_count": 0,
      "outputs": []
    },
    {
      "cell_type": "code",
      "metadata": {
        "id": "XrdWgnsSZE7y",
        "colab_type": "code",
        "colab": {}
      },
      "source": [
        "numpy 배열 생성과 초기화\n",
        "\n",
        ">> a = np.zeroes((3,4))\n",
        ">> pprint(a)\n",
        "\n",
        ">> a = np.ones((2,3,4).dtype=np.int16)\n",
        ">> pprint(a)\n",
        "\n",
        ">> a = np.full((2,2),7)\n",
        ">> pprint(a)\n",
        "\n",
        ">> a = np.eye(4)\n",
        ">> pprint(a)\n",
        "\n",
        ">> a = empty((4,2))\n",
        ">> pprint(a)"
      ],
      "execution_count": 0,
      "outputs": []
    },
    {
      "cell_type": "code",
      "metadata": {
        "id": "0ifm5SWrZXf6",
        "colab_type": "code",
        "colab": {}
      },
      "source": [
        "like 함수\n",
        "- numpy는 지정된 배열과 shape이 같은 행렬을 만드는 like함수를 제공한다\n",
        "- np.zeros_like\n",
        "- np.ones_like\n",
        "- np.full_like\n",
        "- np.empty_like"
      ],
      "execution_count": 0,
      "outputs": []
    },
    {
      "cell_type": "code",
      "metadata": {
        "id": "nFXwSKug5Xbk",
        "colab_type": "code",
        "colab": {}
      },
      "source": [
        ""
      ],
      "execution_count": 0,
      "outputs": []
    },
    {
      "cell_type": "code",
      "metadata": {
        "id": "oh2T7fWb5Xp6",
        "colab_type": "code",
        "colab": {}
      },
      "source": [
        ""
      ],
      "execution_count": 0,
      "outputs": []
    }
  ]
}